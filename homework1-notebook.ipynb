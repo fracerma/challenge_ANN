{
 "cells": [
  {
   "cell_type": "markdown",
   "id": "18b807ed",
   "metadata": {
    "id": "7pNr8l2ASTe-",
    "papermill": {
     "duration": 0.007811,
     "end_time": "2022-11-21T23:56:35.157504",
     "exception": false,
     "start_time": "2022-11-21T23:56:35.149693",
     "status": "completed"
    },
    "tags": []
   },
   "source": [
    "# Import libraries"
   ]
  },
  {
   "cell_type": "code",
   "execution_count": 1,
   "id": "eadda659",
   "metadata": {
    "execution": {
     "iopub.execute_input": "2022-11-21T23:56:35.172596Z",
     "iopub.status.busy": "2022-11-21T23:56:35.172034Z",
     "iopub.status.idle": "2022-11-21T23:57:41.588660Z",
     "shell.execute_reply": "2022-11-21T23:57:41.587452Z"
    },
    "papermill": {
     "duration": 66.42748,
     "end_time": "2022-11-21T23:57:41.591582",
     "exception": false,
     "start_time": "2022-11-21T23:56:35.164102",
     "status": "completed"
    },
    "tags": []
   },
   "outputs": [
    {
     "name": "stdout",
     "output_type": "stream",
     "text": [
      "\r\n",
      "\r\n",
      "\r\n",
      "The following packages will be REMOVED:\r\n",
      "  libcudnn8-dev\r\n",
      "The following held packages will be changed:\r\n",
      "  libcudnn8\r\n",
      "The following packages will be upgraded:\r\n",
      "  libcudnn8\r\n",
      "1 upgraded, 0 newly installed, 1 to remove and 91 not upgraded.\r\n",
      "Need to get 430 MB of archives.\r\n",
      "After this operation, 2506 MB disk space will be freed.\r\n",
      "Get:1 https://developer.download.nvidia.com/compute/cuda/repos/ubuntu2004/x86_64  libcudnn8 8.1.0.77-1+cuda11.2 [430 MB]\r\n",
      "Fetched 430 MB in 14s (31.6 MB/s)\r\n",
      "\n",
      "(Reading database ... 108827 files and directories currently installed.)\r\n",
      "Removing libcudnn8-dev (8.0.5.39-1+cuda11.0) ...\r\n",
      "\u001b7\u001b[24;0f\u001b[42m\u001b[30mProgress: [  0%]\u001b[49m\u001b[39m [..........................................................] \u001b8\u001b7\u001b[24;0f\u001b[42m\u001b[30mProgress: [ 14%]\u001b[49m\u001b[39m [########..................................................] \u001b8update-alternatives: removing manually selected alternative - switching libcudnn to auto mode\r\n",
      "(Reading database ... 108805 files and directories currently installed.)\r\n",
      "Preparing to unpack .../libcudnn8_8.1.0.77-1+cuda11.2_amd64.deb ...\r\n",
      "\u001b7\u001b[24;0f\u001b[42m\u001b[30mProgress: [ 43%]\u001b[49m\u001b[39m [########################..................................] \u001b8Unpacking libcudnn8 (8.1.0.77-1+cuda11.2) over (8.0.5.39-1+cuda11.0) ...\r\n",
      "\u001b7\u001b[24;0f\u001b[42m\u001b[30mProgress: [ 57%]\u001b[49m\u001b[39m [#################################.........................] \u001b8Setting up libcudnn8 (8.1.0.77-1+cuda11.2) ...\r\n",
      "\u001b7\u001b[24;0f\u001b[42m\u001b[30mProgress: [ 71%]\u001b[49m\u001b[39m [#########################################.................] \u001b8\u001b7\u001b[24;0f\u001b[42m\u001b[30mProgress: [ 86%]\u001b[49m\u001b[39m [#################################################.........] \u001b8\r\n",
      "\u001b7\u001b[0;24r\u001b8\u001b[1A\u001b[J"
     ]
    }
   ],
   "source": [
    "! apt install --allow-change-held-packages libcudnn8=8.1.0.77-1+cuda11.2 -y"
   ]
  },
  {
   "cell_type": "code",
   "execution_count": 2,
   "id": "b29a1383",
   "metadata": {
    "execution": {
     "iopub.execute_input": "2022-11-21T23:57:41.612229Z",
     "iopub.status.busy": "2022-11-21T23:57:41.611874Z",
     "iopub.status.idle": "2022-11-21T23:58:55.180189Z",
     "shell.execute_reply": "2022-11-21T23:58:55.178922Z"
    },
    "papermill": {
     "duration": 73.581555,
     "end_time": "2022-11-21T23:58:55.182751",
     "exception": false,
     "start_time": "2022-11-21T23:57:41.601196",
     "status": "completed"
    },
    "tags": []
   },
   "outputs": [
    {
     "name": "stdout",
     "output_type": "stream",
     "text": [
      "Collecting tensorflow==2.8.0\r\n",
      "  Downloading tensorflow-2.8.0-cp37-cp37m-manylinux2010_x86_64.whl (497.5 MB)\r\n",
      "\u001b[2K     \u001b[90m━━━━━━━━━━━━━━━━━━━━━━━━━━━━━━━━━━━━━━━\u001b[0m \u001b[32m497.5/497.5 MB\u001b[0m \u001b[31m1.9 MB/s\u001b[0m eta \u001b[36m0:00:00\u001b[0m\r\n",
      "\u001b[?25hRequirement already satisfied: opt-einsum>=2.3.2 in /opt/conda/lib/python3.7/site-packages (from tensorflow==2.8.0) (3.3.0)\r\n",
      "Requirement already satisfied: absl-py>=0.4.0 in /opt/conda/lib/python3.7/site-packages (from tensorflow==2.8.0) (0.15.0)\r\n",
      "Requirement already satisfied: setuptools in /opt/conda/lib/python3.7/site-packages (from tensorflow==2.8.0) (59.8.0)\r\n",
      "Requirement already satisfied: termcolor>=1.1.0 in /opt/conda/lib/python3.7/site-packages (from tensorflow==2.8.0) (1.1.0)\r\n",
      "Collecting tf-estimator-nightly==2.8.0.dev2021122109\r\n",
      "  Downloading tf_estimator_nightly-2.8.0.dev2021122109-py2.py3-none-any.whl (462 kB)\r\n",
      "\u001b[2K     \u001b[90m━━━━━━━━━━━━━━━━━━━━━━━━━━━━━━━━━━━━━━\u001b[0m \u001b[32m462.5/462.5 kB\u001b[0m \u001b[31m30.1 MB/s\u001b[0m eta \u001b[36m0:00:00\u001b[0m\r\n",
      "\u001b[?25hRequirement already satisfied: gast>=0.2.1 in /opt/conda/lib/python3.7/site-packages (from tensorflow==2.8.0) (0.4.0)\r\n",
      "Collecting libclang>=9.0.1\r\n",
      "  Downloading libclang-14.0.6-py2.py3-none-manylinux2010_x86_64.whl (14.1 MB)\r\n",
      "\u001b[2K     \u001b[90m━━━━━━━━━━━━━━━━━━━━━━━━━━━━━━━━━━━━━━━━\u001b[0m \u001b[32m14.1/14.1 MB\u001b[0m \u001b[31m13.0 MB/s\u001b[0m eta \u001b[36m0:00:00\u001b[0m\r\n",
      "\u001b[?25hRequirement already satisfied: grpcio<2.0,>=1.24.3 in /opt/conda/lib/python3.7/site-packages (from tensorflow==2.8.0) (1.43.0)\r\n",
      "Requirement already satisfied: astunparse>=1.6.0 in /opt/conda/lib/python3.7/site-packages (from tensorflow==2.8.0) (1.6.3)\r\n",
      "Requirement already satisfied: numpy>=1.20 in /opt/conda/lib/python3.7/site-packages (from tensorflow==2.8.0) (1.21.6)\r\n",
      "Collecting tensorboard<2.9,>=2.8\r\n",
      "  Downloading tensorboard-2.8.0-py3-none-any.whl (5.8 MB)\r\n",
      "\u001b[2K     \u001b[90m━━━━━━━━━━━━━━━━━━━━━━━━━━━━━━━━━━━━━━━━\u001b[0m \u001b[32m5.8/5.8 MB\u001b[0m \u001b[31m35.6 MB/s\u001b[0m eta \u001b[36m0:00:00\u001b[0m\r\n",
      "\u001b[?25hRequirement already satisfied: wrapt>=1.11.0 in /opt/conda/lib/python3.7/site-packages (from tensorflow==2.8.0) (1.12.1)\r\n",
      "Requirement already satisfied: keras-preprocessing>=1.1.1 in /opt/conda/lib/python3.7/site-packages (from tensorflow==2.8.0) (1.1.2)\r\n",
      "Requirement already satisfied: h5py>=2.9.0 in /opt/conda/lib/python3.7/site-packages (from tensorflow==2.8.0) (3.7.0)\r\n",
      "Requirement already satisfied: google-pasta>=0.1.1 in /opt/conda/lib/python3.7/site-packages (from tensorflow==2.8.0) (0.2.0)\r\n",
      "Collecting keras<2.9,>=2.8.0rc0\r\n",
      "  Downloading keras-2.8.0-py2.py3-none-any.whl (1.4 MB)\r\n",
      "\u001b[2K     \u001b[90m━━━━━━━━━━━━━━━━━━━━━━━━━━━━━━━━━━━━━━━━\u001b[0m \u001b[32m1.4/1.4 MB\u001b[0m \u001b[31m56.4 MB/s\u001b[0m eta \u001b[36m0:00:00\u001b[0m\r\n",
      "\u001b[?25hCollecting tensorflow-io-gcs-filesystem>=0.23.1\r\n",
      "  Downloading tensorflow_io_gcs_filesystem-0.27.0-cp37-cp37m-manylinux_2_12_x86_64.manylinux2010_x86_64.whl (2.4 MB)\r\n",
      "\u001b[2K     \u001b[90m━━━━━━━━━━━━━━━━━━━━━━━━━━━━━━━━━━━━━━━━\u001b[0m \u001b[32m2.4/2.4 MB\u001b[0m \u001b[31m67.3 MB/s\u001b[0m eta \u001b[36m0:00:00\u001b[0m\r\n",
      "\u001b[?25hRequirement already satisfied: protobuf>=3.9.2 in /opt/conda/lib/python3.7/site-packages (from tensorflow==2.8.0) (3.19.4)\r\n",
      "Requirement already satisfied: flatbuffers>=1.12 in /opt/conda/lib/python3.7/site-packages (from tensorflow==2.8.0) (1.12)\r\n",
      "Requirement already satisfied: six>=1.12.0 in /opt/conda/lib/python3.7/site-packages (from tensorflow==2.8.0) (1.15.0)\r\n",
      "Requirement already satisfied: typing-extensions>=3.6.6 in /opt/conda/lib/python3.7/site-packages (from tensorflow==2.8.0) (4.1.1)\r\n",
      "Requirement already satisfied: wheel<1.0,>=0.23.0 in /opt/conda/lib/python3.7/site-packages (from astunparse>=1.6.0->tensorflow==2.8.0) (0.37.1)\r\n",
      "Requirement already satisfied: markdown>=2.6.8 in /opt/conda/lib/python3.7/site-packages (from tensorboard<2.9,>=2.8->tensorflow==2.8.0) (3.3.7)\r\n",
      "Requirement already satisfied: werkzeug>=0.11.15 in /opt/conda/lib/python3.7/site-packages (from tensorboard<2.9,>=2.8->tensorflow==2.8.0) (2.2.2)\r\n",
      "Requirement already satisfied: google-auth<3,>=1.6.3 in /opt/conda/lib/python3.7/site-packages (from tensorboard<2.9,>=2.8->tensorflow==2.8.0) (1.35.0)\r\n",
      "Requirement already satisfied: tensorboard-data-server<0.7.0,>=0.6.0 in /opt/conda/lib/python3.7/site-packages (from tensorboard<2.9,>=2.8->tensorflow==2.8.0) (0.6.1)\r\n",
      "Requirement already satisfied: google-auth-oauthlib<0.5,>=0.4.1 in /opt/conda/lib/python3.7/site-packages (from tensorboard<2.9,>=2.8->tensorflow==2.8.0) (0.4.6)\r\n",
      "Requirement already satisfied: tensorboard-plugin-wit>=1.6.0 in /opt/conda/lib/python3.7/site-packages (from tensorboard<2.9,>=2.8->tensorflow==2.8.0) (1.8.1)\r\n",
      "Requirement already satisfied: requests<3,>=2.21.0 in /opt/conda/lib/python3.7/site-packages (from tensorboard<2.9,>=2.8->tensorflow==2.8.0) (2.28.1)\r\n",
      "Requirement already satisfied: pyasn1-modules>=0.2.1 in /opt/conda/lib/python3.7/site-packages (from google-auth<3,>=1.6.3->tensorboard<2.9,>=2.8->tensorflow==2.8.0) (0.2.7)\r\n",
      "Requirement already satisfied: cachetools<5.0,>=2.0.0 in /opt/conda/lib/python3.7/site-packages (from google-auth<3,>=1.6.3->tensorboard<2.9,>=2.8->tensorflow==2.8.0) (4.2.4)\r\n",
      "Requirement already satisfied: rsa<5,>=3.1.4 in /opt/conda/lib/python3.7/site-packages (from google-auth<3,>=1.6.3->tensorboard<2.9,>=2.8->tensorflow==2.8.0) (4.8)\r\n",
      "Requirement already satisfied: requests-oauthlib>=0.7.0 in /opt/conda/lib/python3.7/site-packages (from google-auth-oauthlib<0.5,>=0.4.1->tensorboard<2.9,>=2.8->tensorflow==2.8.0) (1.3.1)\r\n",
      "Requirement already satisfied: importlib-metadata>=4.4 in /opt/conda/lib/python3.7/site-packages (from markdown>=2.6.8->tensorboard<2.9,>=2.8->tensorflow==2.8.0) (4.13.0)\r\n",
      "Requirement already satisfied: charset-normalizer<3,>=2 in /opt/conda/lib/python3.7/site-packages (from requests<3,>=2.21.0->tensorboard<2.9,>=2.8->tensorflow==2.8.0) (2.1.0)\r\n",
      "Requirement already satisfied: idna<4,>=2.5 in /opt/conda/lib/python3.7/site-packages (from requests<3,>=2.21.0->tensorboard<2.9,>=2.8->tensorflow==2.8.0) (3.3)\r\n",
      "Requirement already satisfied: urllib3<1.27,>=1.21.1 in /opt/conda/lib/python3.7/site-packages (from requests<3,>=2.21.0->tensorboard<2.9,>=2.8->tensorflow==2.8.0) (1.26.12)\r\n",
      "Requirement already satisfied: certifi>=2017.4.17 in /opt/conda/lib/python3.7/site-packages (from requests<3,>=2.21.0->tensorboard<2.9,>=2.8->tensorflow==2.8.0) (2022.9.24)\r\n",
      "Requirement already satisfied: MarkupSafe>=2.1.1 in /opt/conda/lib/python3.7/site-packages (from werkzeug>=0.11.15->tensorboard<2.9,>=2.8->tensorflow==2.8.0) (2.1.1)\r\n",
      "Requirement already satisfied: zipp>=0.5 in /opt/conda/lib/python3.7/site-packages (from importlib-metadata>=4.4->markdown>=2.6.8->tensorboard<2.9,>=2.8->tensorflow==2.8.0) (3.8.0)\r\n",
      "Requirement already satisfied: pyasn1<0.5.0,>=0.4.6 in /opt/conda/lib/python3.7/site-packages (from pyasn1-modules>=0.2.1->google-auth<3,>=1.6.3->tensorboard<2.9,>=2.8->tensorflow==2.8.0) (0.4.8)\r\n",
      "Requirement already satisfied: oauthlib>=3.0.0 in /opt/conda/lib/python3.7/site-packages (from requests-oauthlib>=0.7.0->google-auth-oauthlib<0.5,>=0.4.1->tensorboard<2.9,>=2.8->tensorflow==2.8.0) (3.2.0)\r\n",
      "Installing collected packages: tf-estimator-nightly, libclang, keras, tensorflow-io-gcs-filesystem, tensorboard, tensorflow\r\n",
      "  Attempting uninstall: keras\r\n",
      "    Found existing installation: keras 2.6.0\r\n",
      "    Uninstalling keras-2.6.0:\r\n",
      "      Successfully uninstalled keras-2.6.0\r\n",
      "  Attempting uninstall: tensorboard\r\n",
      "    Found existing installation: tensorboard 2.10.1\r\n",
      "    Uninstalling tensorboard-2.10.1:\r\n",
      "      Successfully uninstalled tensorboard-2.10.1\r\n",
      "  Attempting uninstall: tensorflow\r\n",
      "    Found existing installation: tensorflow 2.6.4\r\n",
      "    Uninstalling tensorflow-2.6.4:\r\n",
      "      Successfully uninstalled tensorflow-2.6.4\r\n",
      "\u001b[31mERROR: pip's dependency resolver does not currently take into account all the packages that are installed. This behaviour is the source of the following dependency conflicts.\r\n",
      "tfx-bsl 1.9.0 requires tensorflow!=2.0.*,!=2.1.*,!=2.2.*,!=2.3.*,!=2.4.*,!=2.5.*,!=2.6.*,!=2.7.*,!=2.8.*,<3,>=1.15.5, but you have tensorflow 2.8.0 which is incompatible.\r\n",
      "tensorflow-transform 1.9.0 requires tensorflow!=2.0.*,!=2.1.*,!=2.2.*,!=2.3.*,!=2.4.*,!=2.5.*,!=2.6.*,!=2.7.*,!=2.8.*,<2.10,>=1.15.5, but you have tensorflow 2.8.0 which is incompatible.\r\n",
      "tensorflow-serving-api 2.9.0 requires tensorflow<3,>=2.9.0, but you have tensorflow 2.8.0 which is incompatible.\r\n",
      "tensorflow-io 0.21.0 requires tensorflow<2.7.0,>=2.6.0, but you have tensorflow 2.8.0 which is incompatible.\r\n",
      "tensorflow-io 0.21.0 requires tensorflow-io-gcs-filesystem==0.21.0, but you have tensorflow-io-gcs-filesystem 0.27.0 which is incompatible.\r\n",
      "pytorch-lightning 1.7.7 requires tensorboard>=2.9.1, but you have tensorboard 2.8.0 which is incompatible.\u001b[0m\u001b[31m\r\n",
      "\u001b[0mSuccessfully installed keras-2.8.0 libclang-14.0.6 tensorboard-2.8.0 tensorflow-2.8.0 tensorflow-io-gcs-filesystem-0.27.0 tf-estimator-nightly-2.8.0.dev2021122109\r\n",
      "\u001b[33mWARNING: Running pip as the 'root' user can result in broken permissions and conflicting behaviour with the system package manager. It is recommended to use a virtual environment instead: https://pip.pypa.io/warnings/venv\u001b[0m\u001b[33m\r\n",
      "\u001b[0m"
     ]
    }
   ],
   "source": [
    "! pip install -U tensorflow==2.8.0"
   ]
  },
  {
   "cell_type": "code",
   "execution_count": 3,
   "id": "958a5c4f",
   "metadata": {
    "execution": {
     "iopub.execute_input": "2022-11-21T23:58:55.251208Z",
     "iopub.status.busy": "2022-11-21T23:58:55.250439Z",
     "iopub.status.idle": "2022-11-21T23:58:55.256508Z",
     "shell.execute_reply": "2022-11-21T23:58:55.255534Z"
    },
    "papermill": {
     "duration": 0.042769,
     "end_time": "2022-11-21T23:58:55.258453",
     "exception": false,
     "start_time": "2022-11-21T23:58:55.215684",
     "status": "completed"
    },
    "tags": []
   },
   "outputs": [],
   "source": [
    "import warnings\n",
    "import logging\n",
    "import os\n",
    "\n",
    "os.environ['TF_CPP_MIN_LOG_LEVEL'] = '2'\n",
    "warnings.simplefilter(action='ignore', category=FutureWarning)\n",
    "warnings.simplefilter(action='ignore', category=Warning)"
   ]
  },
  {
   "cell_type": "code",
   "execution_count": 4,
   "id": "4944b0c7",
   "metadata": {
    "execution": {
     "iopub.execute_input": "2022-11-21T23:58:55.328080Z",
     "iopub.status.busy": "2022-11-21T23:58:55.326280Z",
     "iopub.status.idle": "2022-11-21T23:59:01.825598Z",
     "shell.execute_reply": "2022-11-21T23:59:01.824175Z"
    },
    "id": "uDZjJu1bSWnM",
    "outputId": "db2405b9-4b22-4a8c-bb43-831809b3830b",
    "papermill": {
     "duration": 6.536499,
     "end_time": "2022-11-21T23:59:01.828187",
     "exception": false,
     "start_time": "2022-11-21T23:58:55.291688",
     "status": "completed"
    },
    "tags": []
   },
   "outputs": [
    {
     "name": "stdout",
     "output_type": "stream",
     "text": [
      "2.8.0\n",
      "Found GPU at: /device:GPU:0\n"
     ]
    }
   ],
   "source": [
    "import tensorflow as tf\n",
    "import tensorflow_datasets as tfds\n",
    "import numpy as np\n",
    "import random\n",
    "import pandas as pd\n",
    "import seaborn as sns\n",
    "import matplotlib as mpl\n",
    "import matplotlib.pyplot as plt\n",
    "from sklearn.model_selection import train_test_split\n",
    "from sklearn.metrics import accuracy_score, f1_score, precision_score, recall_score\n",
    "from sklearn.metrics import confusion_matrix\n",
    "from PIL import Image\n",
    "\n",
    "tf.get_logger().setLevel('INFO')\n",
    "tf.autograph.set_verbosity(0)\n",
    "\n",
    "tf.get_logger().setLevel(logging.ERROR)\n",
    "tf.get_logger().setLevel('ERROR')\n",
    "tf.compat.v1.logging.set_verbosity(tf.compat.v1.logging.ERROR)\n",
    "tfk = tf.keras\n",
    "tfkl = tf.keras.layers\n",
    "print(tf.__version__)\n",
    "device_name = tf.test.gpu_device_name()\n",
    "if \"GPU\" not in device_name:\n",
    "    print(\"GPU device not found\")\n",
    "print('Found GPU at: {}'.format(device_name))"
   ]
  },
  {
   "cell_type": "code",
   "execution_count": 5,
   "id": "233cef59",
   "metadata": {
    "execution": {
     "iopub.execute_input": "2022-11-21T23:59:01.897569Z",
     "iopub.status.busy": "2022-11-21T23:59:01.895558Z",
     "iopub.status.idle": "2022-11-21T23:59:01.902841Z",
     "shell.execute_reply": "2022-11-21T23:59:01.901949Z"
    },
    "id": "qAOYVjttZupE",
    "papermill": {
     "duration": 0.043444,
     "end_time": "2022-11-21T23:59:01.904833",
     "exception": false,
     "start_time": "2022-11-21T23:59:01.861389",
     "status": "completed"
    },
    "tags": []
   },
   "outputs": [],
   "source": [
    "# Random seed for reproducibility\n",
    "seed = 42\n",
    "\n",
    "random.seed(seed)\n",
    "os.environ['PYTHONHASHSEED'] = str(seed)\n",
    "np.random.seed(seed)\n",
    "tf.random.set_seed(seed)\n",
    "tf.compat.v1.set_random_seed(seed)"
   ]
  },
  {
   "cell_type": "code",
   "execution_count": 6,
   "id": "2aaf8244",
   "metadata": {
    "execution": {
     "iopub.execute_input": "2022-11-21T23:59:01.972872Z",
     "iopub.status.busy": "2022-11-21T23:59:01.972533Z",
     "iopub.status.idle": "2022-11-21T23:59:01.980456Z",
     "shell.execute_reply": "2022-11-21T23:59:01.979495Z"
    },
    "papermill": {
     "duration": 0.04485,
     "end_time": "2022-11-21T23:59:01.983381",
     "exception": false,
     "start_time": "2022-11-21T23:59:01.938531",
     "status": "completed"
    },
    "tags": []
   },
   "outputs": [
    {
     "name": "stdout",
     "output_type": "stream",
     "text": [
      "--> Checking for physical Tensorflow devices\n",
      ": /physical_device:CPU:0\n",
      ": /physical_device:GPU:0\n"
     ]
    }
   ],
   "source": [
    "print(\"--> Checking for physical Tensorflow devices\")\n",
    "for device in tf.config.list_physical_devices():\n",
    "    print(\": {}\".format(device.name))"
   ]
  },
  {
   "cell_type": "markdown",
   "id": "755279ed",
   "metadata": {
    "id": "3khGT668SYkL",
    "papermill": {
     "duration": 0.033014,
     "end_time": "2022-11-21T23:59:02.050096",
     "exception": false,
     "start_time": "2022-11-21T23:59:02.017082",
     "status": "completed"
    },
    "tags": []
   },
   "source": [
    "# Load data"
   ]
  },
  {
   "cell_type": "markdown",
   "id": "4b4a1770",
   "metadata": {
    "id": "Qp1206gDUHBi",
    "papermill": {
     "duration": 0.032083,
     "end_time": "2022-11-21T23:59:02.115837",
     "exception": false,
     "start_time": "2022-11-21T23:59:02.083754",
     "status": "completed"
    },
    "tags": []
   },
   "source": [
    "Solo questo dovrebbe essere diverso durante la challenge"
   ]
  },
  {
   "cell_type": "code",
   "execution_count": 7,
   "id": "43c06a36",
   "metadata": {
    "execution": {
     "iopub.execute_input": "2022-11-21T23:59:02.183520Z",
     "iopub.status.busy": "2022-11-21T23:59:02.182823Z",
     "iopub.status.idle": "2022-11-21T23:59:02.187958Z",
     "shell.execute_reply": "2022-11-21T23:59:02.187065Z"
    },
    "id": "lfjHi8NMbmRA",
    "papermill": {
     "duration": 0.041218,
     "end_time": "2022-11-21T23:59:02.189971",
     "exception": false,
     "start_time": "2022-11-21T23:59:02.148753",
     "status": "completed"
    },
    "tags": []
   },
   "outputs": [],
   "source": [
    "dataset_dir = '/kaggle/input/homework1/training_data_final'\n",
    "image_size = (96,96)"
   ]
  },
  {
   "cell_type": "markdown",
   "id": "309c9514",
   "metadata": {
    "id": "N45qPtXjcRF7",
    "papermill": {
     "duration": 0.032686,
     "end_time": "2022-11-21T23:59:02.255711",
     "exception": false,
     "start_time": "2022-11-21T23:59:02.223025",
     "status": "completed"
    },
    "tags": []
   },
   "source": [
    "# Dataloader and Data Augmentation"
   ]
  },
  {
   "cell_type": "code",
   "execution_count": 8,
   "id": "b8785e35",
   "metadata": {
    "execution": {
     "iopub.execute_input": "2022-11-21T23:59:02.322474Z",
     "iopub.status.busy": "2022-11-21T23:59:02.322016Z",
     "iopub.status.idle": "2022-11-21T23:59:02.330879Z",
     "shell.execute_reply": "2022-11-21T23:59:02.329978Z"
    },
    "papermill": {
     "duration": 0.044417,
     "end_time": "2022-11-21T23:59:02.332972",
     "exception": false,
     "start_time": "2022-11-21T23:59:02.288555",
     "status": "completed"
    },
    "tags": []
   },
   "outputs": [
    {
     "data": {
      "text/plain": [
       "['DenseNet121',\n",
       " 'DenseNet169',\n",
       " 'DenseNet201',\n",
       " 'EfficientNetB0',\n",
       " 'EfficientNetB1',\n",
       " 'EfficientNetB2',\n",
       " 'EfficientNetB3',\n",
       " 'EfficientNetB4',\n",
       " 'EfficientNetB5',\n",
       " 'EfficientNetB6',\n",
       " 'EfficientNetB7',\n",
       " 'EfficientNetV2B0',\n",
       " 'EfficientNetV2B1',\n",
       " 'EfficientNetV2B2',\n",
       " 'EfficientNetV2B3',\n",
       " 'EfficientNetV2L',\n",
       " 'EfficientNetV2M',\n",
       " 'EfficientNetV2S',\n",
       " 'InceptionResNetV2',\n",
       " 'InceptionV3',\n",
       " 'MobileNet',\n",
       " 'MobileNetV2',\n",
       " 'MobileNetV3Large',\n",
       " 'MobileNetV3Small',\n",
       " 'NASNetLarge',\n",
       " 'NASNetMobile',\n",
       " 'ResNet101',\n",
       " 'ResNet101V2',\n",
       " 'ResNet152',\n",
       " 'ResNet152V2',\n",
       " 'ResNet50',\n",
       " 'ResNet50V2',\n",
       " 'VGG16',\n",
       " 'VGG19',\n",
       " 'Xception',\n",
       " '__builtins__',\n",
       " '__cached__',\n",
       " '__doc__',\n",
       " '__file__',\n",
       " '__loader__',\n",
       " '__name__',\n",
       " '__package__',\n",
       " '__path__',\n",
       " '__spec__',\n",
       " '_sys',\n",
       " 'densenet',\n",
       " 'efficientnet',\n",
       " 'efficientnet_v2',\n",
       " 'imagenet_utils',\n",
       " 'inception_resnet_v2',\n",
       " 'inception_v3',\n",
       " 'mobilenet',\n",
       " 'mobilenet_v2',\n",
       " 'mobilenet_v3',\n",
       " 'nasnet',\n",
       " 'resnet',\n",
       " 'resnet50',\n",
       " 'resnet_v2',\n",
       " 'vgg16',\n",
       " 'vgg19',\n",
       " 'xception']"
      ]
     },
     "execution_count": 8,
     "metadata": {},
     "output_type": "execute_result"
    }
   ],
   "source": [
    "dir(tf.keras.applications)"
   ]
  },
  {
   "cell_type": "code",
   "execution_count": 9,
   "id": "dbd51918",
   "metadata": {
    "execution": {
     "iopub.execute_input": "2022-11-21T23:59:02.400481Z",
     "iopub.status.busy": "2022-11-21T23:59:02.399839Z",
     "iopub.status.idle": "2022-11-21T23:59:26.087217Z",
     "shell.execute_reply": "2022-11-21T23:59:26.086113Z"
    },
    "papermill": {
     "duration": 23.723509,
     "end_time": "2022-11-21T23:59:26.089676",
     "exception": false,
     "start_time": "2022-11-21T23:59:02.366167",
     "status": "completed"
    },
    "tags": []
   },
   "outputs": [
    {
     "name": "stdout",
     "output_type": "stream",
     "text": [
      "Downloading data from https://storage.googleapis.com/tensorflow/keras-applications/efficientnet_v2/efficientnetv2-l_notop.h5\n",
      "473178112/473176280 [==============================] - 15s 0us/step\n",
      "473186304/473176280 [==============================] - 15s 0us/step\n"
     ]
    }
   ],
   "source": [
    "from importlib import import_module\n",
    "\n",
    "# Create the base model from the pre-trained model\n",
    "IMG_SHAPE = image_size + (3,)\n",
    "batch_size = 16\n",
    "validation_split=0.1\n",
    "model_name = 'EfficientNetV2L'\n",
    "layer_name = 'efficientnetv2-l'\n",
    "cat_name = 'efficientnet_v2'\n",
    "base_model = getattr(tfk.applications, model_name)(input_shape=IMG_SHAPE,\n",
    "                                               include_top=False,\n",
    "                                               weights='imagenet')\n",
    "preprocess_input = getattr(tf.keras.applications, cat_name).preprocess_input\n"
   ]
  },
  {
   "cell_type": "code",
   "execution_count": 10,
   "id": "d2653eff",
   "metadata": {
    "execution": {
     "iopub.execute_input": "2022-11-21T23:59:26.192130Z",
     "iopub.status.busy": "2022-11-21T23:59:26.191417Z",
     "iopub.status.idle": "2022-11-21T23:59:26.929254Z",
     "shell.execute_reply": "2022-11-21T23:59:26.927935Z"
    },
    "id": "9ngk1QEnagfU",
    "outputId": "1dde0f93-a907-464b-95bf-3532181799e0",
    "papermill": {
     "duration": 0.791904,
     "end_time": "2022-11-21T23:59:26.932690",
     "exception": false,
     "start_time": "2022-11-21T23:59:26.140786",
     "status": "completed"
    },
    "tags": []
   },
   "outputs": [
    {
     "name": "stdout",
     "output_type": "stream",
     "text": [
      "Found 3191 images belonging to 8 classes.\n",
      "Found 351 images belonging to 8 classes.\n",
      "Found 3542 images belonging to 8 classes.\n"
     ]
    }
   ],
   "source": [
    "noaug_noval_train_data_gen = tfk.preprocessing.image.ImageDataGenerator(preprocessing_function=preprocess_input)\n",
    "\n",
    "\n",
    "aug_train_data_gen = tfk.preprocessing.image.ImageDataGenerator(\n",
    "                                        rotation_range=180,\n",
    "                                        height_shift_range=20,\n",
    "                                        width_shift_range=20,\n",
    "                                        zoom_range=0.5,\n",
    "                                        shear_range = 40,\n",
    "                                        horizontal_flip=True,\n",
    "                                        vertical_flip=True, \n",
    "                                        fill_mode='reflect',\n",
    "                                        validation_split=validation_split,\n",
    "                                        zca_whitening = True,\n",
    "                                        preprocessing_function=preprocess_input\n",
    "                                        )\n",
    "\n",
    "aug_validation_data_gen = tfk.preprocessing.image.ImageDataGenerator(\n",
    "                                        preprocessing_function=preprocess_input,\n",
    "                                        validation_split=validation_split)\n",
    "\n",
    "train_gen = aug_train_data_gen.flow_from_directory(directory=dataset_dir,\n",
    "                                               target_size=image_size,\n",
    "                                               color_mode='rgb',\n",
    "                                               class_mode='categorical',\n",
    "                                               batch_size=batch_size,\n",
    "                                               shuffle=True,\n",
    "                                               seed=seed,\n",
    "                                               subset='training')\n",
    "\n",
    "\n",
    "validation_gen = aug_validation_data_gen.flow_from_directory(directory=dataset_dir,\n",
    "                                               target_size=image_size,\n",
    "                                               color_mode='rgb',\n",
    "                                               class_mode='categorical',\n",
    "                                               batch_size=batch_size,\n",
    "                                               shuffle=True,\n",
    "                                               seed=seed,\n",
    "                                               subset='validation')\n",
    "\n",
    "train_noval_gen_all = noaug_noval_train_data_gen.flow_from_directory(directory=dataset_dir,\n",
    "                                               target_size=image_size,\n",
    "                                               color_mode='rgb',\n",
    "                                               class_mode='categorical',\n",
    "                                               batch_size=batch_size,     \n",
    "                                               shuffle=False,\n",
    "                                               seed=seed)"
   ]
  },
  {
   "cell_type": "code",
   "execution_count": 11,
   "id": "f49b53ec",
   "metadata": {
    "execution": {
     "iopub.execute_input": "2022-11-21T23:59:27.028088Z",
     "iopub.status.busy": "2022-11-21T23:59:27.027692Z",
     "iopub.status.idle": "2022-11-21T23:59:27.033801Z",
     "shell.execute_reply": "2022-11-21T23:59:27.032849Z"
    },
    "id": "VwQXMCcucdTX",
    "outputId": "7c8b8f95-1881-47c3-be2e-64fb0be83283",
    "papermill": {
     "duration": 0.056461,
     "end_time": "2022-11-21T23:59:27.036365",
     "exception": false,
     "start_time": "2022-11-21T23:59:26.979904",
     "status": "completed"
    },
    "tags": []
   },
   "outputs": [
    {
     "name": "stdout",
     "output_type": "stream",
     "text": [
      "Assigned labels\n",
      "{'Species1': 0, 'Species2': 1, 'Species3': 2, 'Species4': 3, 'Species5': 4, 'Species6': 5, 'Species7': 6, 'Species8': 7}\n",
      "\n",
      "Target classes\n",
      "[0 0 0 ... 7 7 7]\n"
     ]
    }
   ],
   "source": [
    "print(\"Assigned labels\")\n",
    "print(train_gen.class_indices)\n",
    "print()\n",
    "print(\"Target classes\")\n",
    "print(train_gen.classes)\n",
    "num_classes = train_gen.num_classes"
   ]
  },
  {
   "cell_type": "markdown",
   "id": "76b58a2d",
   "metadata": {
    "id": "Y8rIMCwKU4dP",
    "papermill": {
     "duration": 0.046793,
     "end_time": "2022-11-21T23:59:27.131607",
     "exception": false,
     "start_time": "2022-11-21T23:59:27.084814",
     "status": "completed"
    },
    "tags": []
   },
   "source": [
    "# Load pre-trained model for transfer learning"
   ]
  },
  {
   "cell_type": "markdown",
   "id": "96f82911",
   "metadata": {
    "id": "XTOSJFcihcFj",
    "papermill": {
     "duration": 0.051325,
     "end_time": "2022-11-21T23:59:27.236396",
     "exception": false,
     "start_time": "2022-11-21T23:59:27.185071",
     "status": "completed"
    },
    "tags": []
   },
   "source": [
    "We can fine tune this with different pretrained models"
   ]
  },
  {
   "cell_type": "code",
   "execution_count": 12,
   "id": "fc8d11b3",
   "metadata": {
    "execution": {
     "iopub.execute_input": "2022-11-21T23:59:27.335220Z",
     "iopub.status.busy": "2022-11-21T23:59:27.334840Z",
     "iopub.status.idle": "2022-11-21T23:59:27.339668Z",
     "shell.execute_reply": "2022-11-21T23:59:27.338605Z"
    },
    "id": "x8d_GkORhuYF",
    "outputId": "296aa58f-4c50-4016-e477-455afe101c4a",
    "papermill": {
     "duration": 0.0546,
     "end_time": "2022-11-21T23:59:27.341816",
     "exception": false,
     "start_time": "2022-11-21T23:59:27.287216",
     "status": "completed"
    },
    "tags": []
   },
   "outputs": [],
   "source": [
    "# base_model.summary()"
   ]
  },
  {
   "cell_type": "code",
   "execution_count": 13,
   "id": "e13085fc",
   "metadata": {
    "execution": {
     "iopub.execute_input": "2022-11-21T23:59:27.433662Z",
     "iopub.status.busy": "2022-11-21T23:59:27.433371Z",
     "iopub.status.idle": "2022-11-21T23:59:27.442563Z",
     "shell.execute_reply": "2022-11-21T23:59:27.441507Z"
    },
    "id": "SWz_Z-i-k4Yf",
    "papermill": {
     "duration": 0.058033,
     "end_time": "2022-11-21T23:59:27.444917",
     "exception": false,
     "start_time": "2022-11-21T23:59:27.386884",
     "status": "completed"
    },
    "tags": []
   },
   "outputs": [],
   "source": [
    "def build_model(input_shape, output_classes, learning_rate=0.001, freeze=True):\n",
    "    input_layer = tfkl.Input(shape=input_shape, name='input_layer')\n",
    "\n",
    "    # Freeze the base model\n",
    "    if(freeze):\n",
    "      base_model.trainable = False\n",
    "    else:\n",
    "      base_model.trainable = True\n",
    "    # We need training=False for the BatchNormalization layer\n",
    "    feature_extractor = base_model(input_layer , training=False)\n",
    "\n",
    "    x = tfkl.GlobalAveragePooling2D()(feature_extractor)\n",
    "    x = tfkl.Dropout(0.2, seed=seed)(x)\n",
    "    x = tfkl.Dense(units=512, activation='swish', kernel_initializer=tfk.initializers.GlorotUniform(seed=seed), name='hidden_layer_1')(x)\n",
    "    x = tfkl.Dropout(0.3, seed=seed)(x)\n",
    "    x = tfkl.Dense(units=128, activation='swish', kernel_initializer=tfk.initializers.GlorotUniform(seed=seed), name='hidden_layer_2')(x)\n",
    "    x = tfkl.Dropout(0.3, seed=seed)(x)\n",
    "    output_layer = tfkl.Dense(units=output_classes, activation='softmax', kernel_initializer=tfk.initializers.GlorotUniform(seed=seed), name='output_layer')(x)\n",
    "\n",
    "    # Connect input and output through the Model class\n",
    "    model = tfk.Model(inputs=input_layer, outputs=output_layer, name='model')\n",
    "\n",
    "    # Compile the model\n",
    "    model.compile(loss=tfk.losses.CategoricalCrossentropy(), optimizer=tfk.optimizers.Adam(learning_rate=learning_rate), metrics='accuracy')\n",
    "\n",
    "    # Return the model\n",
    "    return model"
   ]
  },
  {
   "cell_type": "code",
   "execution_count": 14,
   "id": "12d7ef26",
   "metadata": {
    "execution": {
     "iopub.execute_input": "2022-11-21T23:59:27.538546Z",
     "iopub.status.busy": "2022-11-21T23:59:27.538258Z",
     "iopub.status.idle": "2022-11-21T23:59:27.550022Z",
     "shell.execute_reply": "2022-11-21T23:59:27.549109Z"
    },
    "papermill": {
     "duration": 0.061079,
     "end_time": "2022-11-21T23:59:27.551931",
     "exception": false,
     "start_time": "2022-11-21T23:59:27.490852",
     "status": "completed"
    },
    "tags": []
   },
   "outputs": [],
   "source": [
    "def build_custom_model(input_shape, output_classes, learning_rate=0.001):\n",
    "    chanDim = -1\n",
    "    levels = 4\n",
    "    input_layer = tfkl.Input(shape=input_shape, name='input_layer')\n",
    "    x = tfkl.Conv2D(32, (7, 7), padding=\"same\")(input_layer)\n",
    "    x = tfkl.LeakyReLU(alpha=0.3)(x)\n",
    "    x = tfkl.BatchNormalization(axis=chanDim)(x)\n",
    "    x = tfkl.Add([input_layer,x])\n",
    "    # CNN \n",
    "    for i in range(levels):\n",
    "        first = tfkl.MaxPooling2D(pool_size=(3, 3))(x)\n",
    "        x = tfkl.Conv2D(32*(i+2), (3, 3), padding=\"same\")(first)\n",
    "        x = tfkl.LeakyReLU(alpha=0.3)(x)\n",
    "        x = tfkl.BatchNormalization(axis=chanDim)(x)\n",
    "        x = tfkl.Add([first,x])\n",
    "    x = tfkl.MaxPooling2D(pool_size=(3, 3))(x)\n",
    "    \n",
    "    # FC\n",
    "    x = tfkl.GlobalAveragePooling2D()(x)\n",
    "    x = tfkl.Dropout(0.3)(x)\n",
    "    x = tfkl.Dense(units=512, activation='relu', kernel_initializer=tfk.initializers.GlorotUniform(seed=seed), name='hidden_layer_1')(x)\n",
    "    x = tfkl.Dropout(0.3)(x)\n",
    "    x = tfkl.Dense(units=128, activation='relu', kernel_initializer=tfk.initializers.GlorotUniform(seed=seed), name='hidden_layer_1')(x)\n",
    "    x = tfkl.Dropout(0.3)(x)\n",
    "    output_layer = tfkl.Dense(units=output_classes, activation='softmax', kernel_initializer=tfk.initializers.GlorotUniform(seed=seed), name='output_layer')(x)\n",
    "    \n",
    "    model = tfk.Model(inputs=input_layer, outputs=output_layer, name='model')\n",
    "              \n",
    "    model.compile(loss=tfk.losses.CategoricalCrossentropy(), optimizer=tfk.optimizers.Adam(learning_rate=learning_rate),metrics=\"accuracy\")\n",
    "    return model"
   ]
  },
  {
   "cell_type": "code",
   "execution_count": 15,
   "id": "bfcdf1fb",
   "metadata": {
    "execution": {
     "iopub.execute_input": "2022-11-21T23:59:27.645148Z",
     "iopub.status.busy": "2022-11-21T23:59:27.644569Z",
     "iopub.status.idle": "2022-11-21T23:59:30.465746Z",
     "shell.execute_reply": "2022-11-21T23:59:30.464093Z"
    },
    "id": "JGTZTZr6mXJZ",
    "outputId": "95f1b5a7-8aae-45cd-f554-b4663689f6f6",
    "papermill": {
     "duration": 2.87066,
     "end_time": "2022-11-21T23:59:30.468410",
     "exception": false,
     "start_time": "2022-11-21T23:59:27.597750",
     "status": "completed"
    },
    "tags": []
   },
   "outputs": [
    {
     "name": "stdout",
     "output_type": "stream",
     "text": [
      "Model: \"model\"\n",
      "_________________________________________________________________\n",
      " Layer (type)                Output Shape              Param #   \n",
      "=================================================================\n",
      " input_layer (InputLayer)    [(None, 96, 96, 3)]       0         \n",
      "                                                                 \n",
      " efficientnetv2-l (Functiona  (None, 3, 3, 1280)       117746848 \n",
      " l)                                                              \n",
      "                                                                 \n",
      " global_average_pooling2d (G  (None, 1280)             0         \n",
      " lobalAveragePooling2D)                                          \n",
      "                                                                 \n",
      " dropout (Dropout)           (None, 1280)              0         \n",
      "                                                                 \n",
      " hidden_layer_1 (Dense)      (None, 512)               655872    \n",
      "                                                                 \n",
      " dropout_1 (Dropout)         (None, 512)               0         \n",
      "                                                                 \n",
      " hidden_layer_2 (Dense)      (None, 128)               65664     \n",
      "                                                                 \n",
      " dropout_2 (Dropout)         (None, 128)               0         \n",
      "                                                                 \n",
      " output_layer (Dense)        (None, 8)                 1032      \n",
      "                                                                 \n",
      "=================================================================\n",
      "Total params: 118,469,416\n",
      "Trainable params: 722,568\n",
      "Non-trainable params: 117,746,848\n",
      "_________________________________________________________________\n"
     ]
    }
   ],
   "source": [
    "saved_as_dataset = False\n",
    "if(saved_as_dataset):\n",
    "    model = tfk.models.load_model(f'/kaggle/input/efficientnetb2/{model_name}_all.h5')   \n",
    "else:\n",
    "    model = build_model(IMG_SHAPE, num_classes, freeze=True)\n",
    "model.summary()"
   ]
  },
  {
   "cell_type": "code",
   "execution_count": 16,
   "id": "3cc77579",
   "metadata": {
    "execution": {
     "iopub.execute_input": "2022-11-21T23:59:30.569804Z",
     "iopub.status.busy": "2022-11-21T23:59:30.568881Z",
     "iopub.status.idle": "2022-11-21T23:59:30.574363Z",
     "shell.execute_reply": "2022-11-21T23:59:30.573475Z"
    },
    "papermill": {
     "duration": 0.058779,
     "end_time": "2022-11-21T23:59:30.576352",
     "exception": false,
     "start_time": "2022-11-21T23:59:30.517573",
     "status": "completed"
    },
    "tags": []
   },
   "outputs": [],
   "source": [
    "  early_stopping_callback = tf.keras.callbacks.EarlyStopping(monitor='val_loss', patience=8, restore_best_weights=True)"
   ]
  },
  {
   "cell_type": "code",
   "execution_count": 17,
   "id": "68ee2f23",
   "metadata": {
    "execution": {
     "iopub.execute_input": "2022-11-21T23:59:30.675485Z",
     "iopub.status.busy": "2022-11-21T23:59:30.675124Z",
     "iopub.status.idle": "2022-11-22T00:13:46.295231Z",
     "shell.execute_reply": "2022-11-22T00:13:46.294195Z"
    },
    "id": "ILYzCGDom-P3",
    "outputId": "c9ee507b-7489-4e70-f0fc-d98792344c3b",
    "papermill": {
     "duration": 855.672486,
     "end_time": "2022-11-22T00:13:46.297821",
     "exception": false,
     "start_time": "2022-11-21T23:59:30.625335",
     "status": "completed"
    },
    "tags": []
   },
   "outputs": [
    {
     "name": "stdout",
     "output_type": "stream",
     "text": [
      "Epoch 1/50\n",
      "200/200 [==============================] - 61s 178ms/step - loss: 1.4073 - accuracy: 0.4879 - val_loss: 1.1543 - val_accuracy: 0.5755\n",
      "Epoch 2/50\n",
      "200/200 [==============================] - 19s 93ms/step - loss: 1.1676 - accuracy: 0.5685 - val_loss: 1.0440 - val_accuracy: 0.5926\n",
      "Epoch 3/50\n",
      "200/200 [==============================] - 18s 88ms/step - loss: 1.0816 - accuracy: 0.6036 - val_loss: 1.0148 - val_accuracy: 0.5954\n",
      "Epoch 4/50\n",
      "200/200 [==============================] - 19s 92ms/step - loss: 1.0698 - accuracy: 0.6105 - val_loss: 0.8876 - val_accuracy: 0.6496\n",
      "Epoch 5/50\n",
      "200/200 [==============================] - 18s 91ms/step - loss: 1.0177 - accuracy: 0.6264 - val_loss: 0.8429 - val_accuracy: 0.7037\n",
      "Epoch 6/50\n",
      "200/200 [==============================] - 17s 86ms/step - loss: 0.9928 - accuracy: 0.6352 - val_loss: 0.8792 - val_accuracy: 0.6667\n",
      "Epoch 7/50\n",
      "200/200 [==============================] - 18s 92ms/step - loss: 0.9947 - accuracy: 0.6506 - val_loss: 0.8094 - val_accuracy: 0.7094\n",
      "Epoch 8/50\n",
      "200/200 [==============================] - 18s 90ms/step - loss: 0.9462 - accuracy: 0.6622 - val_loss: 0.7719 - val_accuracy: 0.7379\n",
      "Epoch 9/50\n",
      "200/200 [==============================] - 18s 91ms/step - loss: 0.9586 - accuracy: 0.6553 - val_loss: 0.7445 - val_accuracy: 0.7464\n",
      "Epoch 10/50\n",
      "200/200 [==============================] - 18s 92ms/step - loss: 0.9108 - accuracy: 0.6778 - val_loss: 0.7418 - val_accuracy: 0.7322\n",
      "Epoch 11/50\n",
      "200/200 [==============================] - 18s 88ms/step - loss: 0.9250 - accuracy: 0.6697 - val_loss: 0.7700 - val_accuracy: 0.7151\n",
      "Epoch 12/50\n",
      "200/200 [==============================] - 18s 92ms/step - loss: 0.8775 - accuracy: 0.6822 - val_loss: 0.7410 - val_accuracy: 0.7407\n",
      "Epoch 13/50\n",
      "200/200 [==============================] - 17s 87ms/step - loss: 0.9028 - accuracy: 0.6735 - val_loss: 0.7471 - val_accuracy: 0.7236\n",
      "Epoch 14/50\n",
      "200/200 [==============================] - 18s 88ms/step - loss: 0.8418 - accuracy: 0.6929 - val_loss: 0.8848 - val_accuracy: 0.6695\n",
      "Epoch 15/50\n",
      "200/200 [==============================] - 18s 90ms/step - loss: 0.8583 - accuracy: 0.6879 - val_loss: 0.7281 - val_accuracy: 0.7379\n",
      "Epoch 16/50\n",
      "200/200 [==============================] - 18s 90ms/step - loss: 0.8766 - accuracy: 0.6791 - val_loss: 0.7690 - val_accuracy: 0.7179\n",
      "Epoch 17/50\n",
      "200/200 [==============================] - 18s 88ms/step - loss: 0.8580 - accuracy: 0.6976 - val_loss: 0.8155 - val_accuracy: 0.7179\n",
      "Epoch 18/50\n",
      "200/200 [==============================] - 17s 86ms/step - loss: 0.8311 - accuracy: 0.6929 - val_loss: 0.7376 - val_accuracy: 0.7379\n",
      "Epoch 19/50\n",
      "200/200 [==============================] - 18s 91ms/step - loss: 0.8658 - accuracy: 0.6973 - val_loss: 0.7204 - val_accuracy: 0.7635\n",
      "Epoch 20/50\n",
      "200/200 [==============================] - 17s 87ms/step - loss: 0.8349 - accuracy: 0.6926 - val_loss: 0.7249 - val_accuracy: 0.7407\n",
      "Epoch 21/50\n",
      "200/200 [==============================] - 18s 89ms/step - loss: 0.8287 - accuracy: 0.7079 - val_loss: 0.7379 - val_accuracy: 0.7493\n",
      "Epoch 22/50\n",
      "200/200 [==============================] - 18s 90ms/step - loss: 0.8004 - accuracy: 0.7142 - val_loss: 0.7010 - val_accuracy: 0.7664\n",
      "Epoch 23/50\n",
      "200/200 [==============================] - 18s 91ms/step - loss: 0.7808 - accuracy: 0.7211 - val_loss: 0.7299 - val_accuracy: 0.7379\n",
      "Epoch 24/50\n",
      "200/200 [==============================] - 18s 89ms/step - loss: 0.8118 - accuracy: 0.7039 - val_loss: 0.7212 - val_accuracy: 0.7550\n",
      "Epoch 25/50\n",
      "200/200 [==============================] - 18s 89ms/step - loss: 0.8045 - accuracy: 0.7189 - val_loss: 0.7564 - val_accuracy: 0.7265\n",
      "Epoch 26/50\n",
      "200/200 [==============================] - 19s 94ms/step - loss: 0.8055 - accuracy: 0.7082 - val_loss: 0.6923 - val_accuracy: 0.7379\n",
      "Epoch 27/50\n",
      "200/200 [==============================] - 18s 89ms/step - loss: 0.7853 - accuracy: 0.7133 - val_loss: 0.6772 - val_accuracy: 0.7493\n",
      "Epoch 28/50\n",
      "200/200 [==============================] - 19s 94ms/step - loss: 0.7827 - accuracy: 0.7283 - val_loss: 0.6488 - val_accuracy: 0.7664\n",
      "Epoch 29/50\n",
      "200/200 [==============================] - 18s 88ms/step - loss: 0.7866 - accuracy: 0.7161 - val_loss: 0.7140 - val_accuracy: 0.7721\n",
      "Epoch 30/50\n",
      "200/200 [==============================] - 18s 89ms/step - loss: 0.8080 - accuracy: 0.7189 - val_loss: 0.6866 - val_accuracy: 0.7635\n",
      "Epoch 31/50\n",
      "200/200 [==============================] - 19s 94ms/step - loss: 0.8027 - accuracy: 0.7136 - val_loss: 0.6459 - val_accuracy: 0.7835\n",
      "Epoch 32/50\n",
      "200/200 [==============================] - 17s 86ms/step - loss: 0.7609 - accuracy: 0.7255 - val_loss: 0.6695 - val_accuracy: 0.7692\n",
      "Epoch 33/50\n",
      "200/200 [==============================] - 19s 93ms/step - loss: 0.7659 - accuracy: 0.7264 - val_loss: 0.6440 - val_accuracy: 0.7721\n",
      "Epoch 34/50\n",
      "200/200 [==============================] - 17s 86ms/step - loss: 0.7556 - accuracy: 0.7349 - val_loss: 0.6500 - val_accuracy: 0.7863\n",
      "Epoch 35/50\n",
      "200/200 [==============================] - 18s 89ms/step - loss: 0.7498 - accuracy: 0.7339 - val_loss: 0.6404 - val_accuracy: 0.7806\n",
      "Epoch 36/50\n",
      "200/200 [==============================] - 19s 93ms/step - loss: 0.7487 - accuracy: 0.7274 - val_loss: 0.6292 - val_accuracy: 0.8063\n",
      "Epoch 37/50\n",
      "200/200 [==============================] - 17s 85ms/step - loss: 0.7403 - accuracy: 0.7264 - val_loss: 0.6406 - val_accuracy: 0.7778\n",
      "Epoch 38/50\n",
      "200/200 [==============================] - 18s 91ms/step - loss: 0.7256 - accuracy: 0.7321 - val_loss: 0.6625 - val_accuracy: 0.7578\n",
      "Epoch 39/50\n",
      "200/200 [==============================] - 17s 86ms/step - loss: 0.7525 - accuracy: 0.7302 - val_loss: 0.6480 - val_accuracy: 0.7664\n",
      "Epoch 40/50\n",
      "200/200 [==============================] - 18s 89ms/step - loss: 0.7290 - accuracy: 0.7411 - val_loss: 0.7082 - val_accuracy: 0.7293\n",
      "Epoch 41/50\n",
      "200/200 [==============================] - 18s 90ms/step - loss: 0.7701 - accuracy: 0.7314 - val_loss: 0.6786 - val_accuracy: 0.7778\n",
      "Epoch 42/50\n",
      "200/200 [==============================] - 17s 86ms/step - loss: 0.7467 - accuracy: 0.7343 - val_loss: 0.6648 - val_accuracy: 0.7635\n",
      "Epoch 43/50\n",
      "200/200 [==============================] - 18s 91ms/step - loss: 0.7437 - accuracy: 0.7380 - val_loss: 0.6585 - val_accuracy: 0.7607\n",
      "Epoch 44/50\n",
      "200/200 [==============================] - 18s 89ms/step - loss: 0.7226 - accuracy: 0.7499 - val_loss: 0.6955 - val_accuracy: 0.7607\n"
     ]
    }
   ],
   "source": [
    "train_FC = True\n",
    "if(train_FC):\n",
    "    history = model.fit(\n",
    "            x = train_gen,\n",
    "            epochs = 50,\n",
    "            validation_data = validation_gen,\n",
    "            callbacks = [early_stopping_callback]\n",
    "        ).history\n",
    "    model.save(f\"./models/{model_name}_FC_only.h5\")"
   ]
  },
  {
   "cell_type": "code",
   "execution_count": 18,
   "id": "fef4290a",
   "metadata": {
    "execution": {
     "iopub.execute_input": "2022-11-22T00:13:47.368209Z",
     "iopub.status.busy": "2022-11-22T00:13:47.367489Z",
     "iopub.status.idle": "2022-11-22T00:21:28.066529Z",
     "shell.execute_reply": "2022-11-22T00:21:28.064926Z"
    },
    "papermill": {
     "duration": 461.260265,
     "end_time": "2022-11-22T00:21:28.069496",
     "exception": false,
     "start_time": "2022-11-22T00:13:46.809231",
     "status": "completed"
    },
    "tags": []
   },
   "outputs": [
    {
     "name": "stdout",
     "output_type": "stream",
     "text": [
      "Model: \"model\"\n",
      "_________________________________________________________________\n",
      " Layer (type)                Output Shape              Param #   \n",
      "=================================================================\n",
      " input_layer (InputLayer)    [(None, 96, 96, 3)]       0         \n",
      "                                                                 \n",
      " efficientnetv2-l (Functiona  (None, 3, 3, 1280)       117746848 \n",
      " l)                                                              \n",
      "                                                                 \n",
      " global_average_pooling2d (G  (None, 1280)             0         \n",
      " lobalAveragePooling2D)                                          \n",
      "                                                                 \n",
      " dropout (Dropout)           (None, 1280)              0         \n",
      "                                                                 \n",
      " hidden_layer_1 (Dense)      (None, 512)               655872    \n",
      "                                                                 \n",
      " dropout_1 (Dropout)         (None, 512)               0         \n",
      "                                                                 \n",
      " hidden_layer_2 (Dense)      (None, 128)               65664     \n",
      "                                                                 \n",
      " dropout_2 (Dropout)         (None, 128)               0         \n",
      "                                                                 \n",
      " output_layer (Dense)        (None, 8)                 1032      \n",
      "                                                                 \n",
      "=================================================================\n",
      "Total params: 118,469,416\n",
      "Trainable params: 722,568\n",
      "Non-trainable params: 117,746,848\n",
      "_________________________________________________________________\n",
      "Epoch 1/50\n",
      "200/200 [==============================] - 47s 126ms/step - loss: 0.7658 - accuracy: 0.7230 - val_loss: 0.6978 - val_accuracy: 0.7464\n",
      "Epoch 2/50\n",
      "200/200 [==============================] - 18s 91ms/step - loss: 0.7387 - accuracy: 0.7358 - val_loss: 0.6491 - val_accuracy: 0.7920\n",
      "Epoch 3/50\n",
      "200/200 [==============================] - 18s 88ms/step - loss: 0.7471 - accuracy: 0.7361 - val_loss: 0.6893 - val_accuracy: 0.7464\n",
      "Epoch 4/50\n",
      "200/200 [==============================] - 18s 88ms/step - loss: 0.7544 - accuracy: 0.7380 - val_loss: 0.6578 - val_accuracy: 0.7806\n",
      "Epoch 5/50\n",
      "200/200 [==============================] - 17s 86ms/step - loss: 0.7428 - accuracy: 0.7292 - val_loss: 0.6952 - val_accuracy: 0.7664\n",
      "Epoch 6/50\n",
      "200/200 [==============================] - 19s 93ms/step - loss: 0.7371 - accuracy: 0.7302 - val_loss: 0.6298 - val_accuracy: 0.7892\n",
      "Epoch 7/50\n",
      "200/200 [==============================] - 17s 86ms/step - loss: 0.7576 - accuracy: 0.7317 - val_loss: 0.6829 - val_accuracy: 0.7407\n",
      "Epoch 8/50\n",
      "200/200 [==============================] - 18s 90ms/step - loss: 0.7498 - accuracy: 0.7242 - val_loss: 0.6301 - val_accuracy: 0.7920\n",
      "Epoch 9/50\n",
      "200/200 [==============================] - 18s 88ms/step - loss: 0.7289 - accuracy: 0.7292 - val_loss: 0.6794 - val_accuracy: 0.7578\n",
      "Epoch 10/50\n",
      "200/200 [==============================] - 18s 89ms/step - loss: 0.7332 - accuracy: 0.7390 - val_loss: 0.6801 - val_accuracy: 0.7721\n",
      "Epoch 11/50\n",
      "200/200 [==============================] - 18s 91ms/step - loss: 0.7363 - accuracy: 0.7343 - val_loss: 0.6273 - val_accuracy: 0.7892\n",
      "Epoch 12/50\n",
      "200/200 [==============================] - 17s 85ms/step - loss: 0.7180 - accuracy: 0.7440 - val_loss: 0.6285 - val_accuracy: 0.8034\n",
      "Epoch 13/50\n",
      "200/200 [==============================] - 18s 92ms/step - loss: 0.7067 - accuracy: 0.7480 - val_loss: 0.6385 - val_accuracy: 0.7835\n",
      "Epoch 14/50\n",
      "200/200 [==============================] - 17s 85ms/step - loss: 0.7242 - accuracy: 0.7458 - val_loss: 0.6482 - val_accuracy: 0.7721\n",
      "Epoch 15/50\n",
      "200/200 [==============================] - 18s 92ms/step - loss: 0.7352 - accuracy: 0.7421 - val_loss: 0.6552 - val_accuracy: 0.7721\n",
      "Epoch 16/50\n",
      "200/200 [==============================] - 18s 92ms/step - loss: 0.7224 - accuracy: 0.7437 - val_loss: 0.6153 - val_accuracy: 0.7835\n",
      "Epoch 17/50\n",
      "200/200 [==============================] - 18s 88ms/step - loss: 0.7177 - accuracy: 0.7496 - val_loss: 0.6913 - val_accuracy: 0.7493\n",
      "Epoch 18/50\n",
      "200/200 [==============================] - 18s 89ms/step - loss: 0.7184 - accuracy: 0.7499 - val_loss: 0.6675 - val_accuracy: 0.7635\n",
      "Epoch 19/50\n",
      "200/200 [==============================] - 18s 88ms/step - loss: 0.7282 - accuracy: 0.7424 - val_loss: 0.6447 - val_accuracy: 0.7578\n",
      "Epoch 20/50\n",
      "200/200 [==============================] - 18s 90ms/step - loss: 0.7038 - accuracy: 0.7455 - val_loss: 0.6249 - val_accuracy: 0.8034\n",
      "Epoch 21/50\n",
      "200/200 [==============================] - 17s 86ms/step - loss: 0.6942 - accuracy: 0.7505 - val_loss: 0.6525 - val_accuracy: 0.7692\n",
      "Epoch 22/50\n",
      "200/200 [==============================] - 18s 90ms/step - loss: 0.6927 - accuracy: 0.7430 - val_loss: 0.6456 - val_accuracy: 0.7806\n",
      "Epoch 23/50\n",
      "200/200 [==============================] - 18s 89ms/step - loss: 0.7084 - accuracy: 0.7452 - val_loss: 0.6345 - val_accuracy: 0.7835\n",
      "Epoch 24/50\n",
      "200/200 [==============================] - 18s 91ms/step - loss: 0.7017 - accuracy: 0.7474 - val_loss: 0.6280 - val_accuracy: 0.7920\n"
     ]
    }
   ],
   "source": [
    "# Fine tune also the last 15 layers of the feature extraction part\n",
    "train_CNN = True\n",
    "if(train_CNN):\n",
    "    #model = tfk.models.load_model(f\"./models/{model_name}_FC_only.h5\")\n",
    "    leave_freeze = len(model.get_layer(layer_name).layers) - 15\n",
    "    for layer in model.get_layer(layer_name).layers[:leave_freeze]:\n",
    "       layer.trainable = False\n",
    "    for layer in model.get_layer(layer_name).layers[leave_freeze:]:\n",
    "       layer.trainable = True\n",
    "    model.compile(loss=tfk.losses.CategoricalCrossentropy(), optimizer=tfk.optimizers.Adam(),metrics=\"accuracy\")\n",
    "    model.summary()\n",
    "    history = model.fit(\n",
    "            x = train_gen,\n",
    "            epochs = 50,\n",
    "            validation_data = validation_gen,\n",
    "            callbacks = [early_stopping_callback]\n",
    "        ).history\n",
    "    model.save(f\"./models/{model_name}_CNN_tuned.h5\")"
   ]
  },
  {
   "cell_type": "code",
   "execution_count": 19,
   "id": "7a3ebc3b",
   "metadata": {
    "execution": {
     "iopub.execute_input": "2022-11-22T00:21:29.633964Z",
     "iopub.status.busy": "2022-11-22T00:21:29.632762Z",
     "iopub.status.idle": "2022-11-22T00:21:29.642330Z",
     "shell.execute_reply": "2022-11-22T00:21:29.641116Z"
    },
    "papermill": {
     "duration": 0.770822,
     "end_time": "2022-11-22T00:21:29.644763",
     "exception": false,
     "start_time": "2022-11-22T00:21:28.873941",
     "status": "completed"
    },
    "tags": []
   },
   "outputs": [
    {
     "data": {
      "text/plain": [
       "956"
      ]
     },
     "execution_count": 19,
     "metadata": {},
     "output_type": "execute_result"
    }
   ],
   "source": [
    "len(model.get_layer(layer_name).layers) "
   ]
  },
  {
   "cell_type": "code",
   "execution_count": 20,
   "id": "9a7ca9f0",
   "metadata": {
    "execution": {
     "iopub.execute_input": "2022-11-22T00:21:31.243404Z",
     "iopub.status.busy": "2022-11-22T00:21:31.242834Z",
     "iopub.status.idle": "2022-11-22T00:28:17.659723Z",
     "shell.execute_reply": "2022-11-22T00:28:17.658679Z"
    },
    "papermill": {
     "duration": 407.174111,
     "end_time": "2022-11-22T00:28:17.662376",
     "exception": false,
     "start_time": "2022-11-22T00:21:30.488265",
     "status": "completed"
    },
    "tags": []
   },
   "outputs": [
    {
     "name": "stdout",
     "output_type": "stream",
     "text": [
      "Model: \"model\"\n",
      "_________________________________________________________________\n",
      " Layer (type)                Output Shape              Param #   \n",
      "=================================================================\n",
      " input_layer (InputLayer)    [(None, 96, 96, 3)]       0         \n",
      "                                                                 \n",
      " efficientnetv2-l (Functiona  (None, 3, 3, 1280)       117746848 \n",
      " l)                                                              \n",
      "                                                                 \n",
      " global_average_pooling2d (G  (None, 1280)             0         \n",
      " lobalAveragePooling2D)                                          \n",
      "                                                                 \n",
      " dropout (Dropout)           (None, 1280)              0         \n",
      "                                                                 \n",
      " hidden_layer_1 (Dense)      (None, 512)               655872    \n",
      "                                                                 \n",
      " dropout_1 (Dropout)         (None, 512)               0         \n",
      "                                                                 \n",
      " hidden_layer_2 (Dense)      (None, 128)               65664     \n",
      "                                                                 \n",
      " dropout_2 (Dropout)         (None, 128)               0         \n",
      "                                                                 \n",
      " output_layer (Dense)        (None, 8)                 1032      \n",
      "                                                                 \n",
      "=================================================================\n",
      "Total params: 118,469,416\n",
      "Trainable params: 722,568\n",
      "Non-trainable params: 117,746,848\n",
      "_________________________________________________________________\n",
      "Epoch 1/50\n",
      "200/200 [==============================] - 46s 128ms/step - loss: 0.7012 - accuracy: 0.7512 - val_loss: 0.6285 - val_accuracy: 0.8006\n",
      "Epoch 2/50\n",
      "200/200 [==============================] - 18s 90ms/step - loss: 0.6738 - accuracy: 0.7534 - val_loss: 0.6523 - val_accuracy: 0.7920\n",
      "Epoch 3/50\n",
      "200/200 [==============================] - 18s 90ms/step - loss: 0.6797 - accuracy: 0.7612 - val_loss: 0.6050 - val_accuracy: 0.8034\n",
      "Epoch 4/50\n",
      "200/200 [==============================] - 18s 88ms/step - loss: 0.6618 - accuracy: 0.7672 - val_loss: 0.6211 - val_accuracy: 0.7977\n",
      "Epoch 5/50\n",
      "200/200 [==============================] - 18s 88ms/step - loss: 0.6596 - accuracy: 0.7662 - val_loss: 0.6201 - val_accuracy: 0.8063\n",
      "Epoch 6/50\n",
      "200/200 [==============================] - 18s 89ms/step - loss: 0.6394 - accuracy: 0.7694 - val_loss: 0.6462 - val_accuracy: 0.7721\n",
      "Epoch 7/50\n",
      "200/200 [==============================] - 18s 88ms/step - loss: 0.6334 - accuracy: 0.7813 - val_loss: 0.6149 - val_accuracy: 0.7949\n",
      "Epoch 8/50\n",
      "200/200 [==============================] - 18s 89ms/step - loss: 0.6898 - accuracy: 0.7565 - val_loss: 0.5998 - val_accuracy: 0.8262\n",
      "Epoch 9/50\n",
      "200/200 [==============================] - 18s 91ms/step - loss: 0.6444 - accuracy: 0.7728 - val_loss: 0.6060 - val_accuracy: 0.7920\n",
      "Epoch 10/50\n",
      "200/200 [==============================] - 18s 88ms/step - loss: 0.6738 - accuracy: 0.7612 - val_loss: 0.6158 - val_accuracy: 0.7749\n",
      "Epoch 11/50\n",
      "200/200 [==============================] - 18s 88ms/step - loss: 0.6259 - accuracy: 0.7734 - val_loss: 0.6118 - val_accuracy: 0.7920\n",
      "Epoch 12/50\n",
      "200/200 [==============================] - 19s 92ms/step - loss: 0.6570 - accuracy: 0.7606 - val_loss: 0.5912 - val_accuracy: 0.8091\n",
      "Epoch 13/50\n",
      "200/200 [==============================] - 18s 89ms/step - loss: 0.6448 - accuracy: 0.7722 - val_loss: 0.6037 - val_accuracy: 0.7863\n",
      "Epoch 14/50\n",
      "200/200 [==============================] - 18s 90ms/step - loss: 0.6408 - accuracy: 0.7791 - val_loss: 0.5933 - val_accuracy: 0.8006\n",
      "Epoch 15/50\n",
      "200/200 [==============================] - 18s 88ms/step - loss: 0.6277 - accuracy: 0.7800 - val_loss: 0.6214 - val_accuracy: 0.8034\n",
      "Epoch 16/50\n",
      "200/200 [==============================] - 18s 88ms/step - loss: 0.6319 - accuracy: 0.7747 - val_loss: 0.6030 - val_accuracy: 0.7835\n",
      "Epoch 17/50\n",
      "200/200 [==============================] - 18s 88ms/step - loss: 0.6419 - accuracy: 0.7665 - val_loss: 0.6450 - val_accuracy: 0.7863\n",
      "Epoch 18/50\n",
      "200/200 [==============================] - 18s 89ms/step - loss: 0.6507 - accuracy: 0.7599 - val_loss: 0.6263 - val_accuracy: 0.7977\n",
      "Epoch 19/50\n",
      "200/200 [==============================] - 18s 89ms/step - loss: 0.6296 - accuracy: 0.7759 - val_loss: 0.6250 - val_accuracy: 0.7806\n",
      "Epoch 20/50\n",
      "200/200 [==============================] - 18s 92ms/step - loss: 0.6320 - accuracy: 0.7719 - val_loss: 0.6328 - val_accuracy: 0.7835\n"
     ]
    }
   ],
   "source": [
    "# Fine tune also the last 200 layers of the feature extraction part\n",
    "train_CNN = True\n",
    "if(train_CNN):\n",
    "    #model = tfk.models.load_model(f\"./models/{model_name}_FC_only.h5\")\n",
    "    leave_freeze = len(model.get_layer(layer_name).layers) - 200\n",
    "    for layer in model.get_layer(layer_name).layers[:leave_freeze]:\n",
    "       layer.trainable = False\n",
    "    for layer in model.get_layer(layer_name).layers[leave_freeze:]:\n",
    "       layer.trainable = True\n",
    "    model.compile(loss=tfk.losses.CategoricalCrossentropy(), optimizer=tfk.optimizers.Adam(6e-4),metrics=\"accuracy\")\n",
    "    model.summary()\n",
    "    history = model.fit(\n",
    "            x = train_gen,\n",
    "            epochs = 50,\n",
    "            validation_data = validation_gen,\n",
    "            callbacks = [early_stopping_callback]\n",
    "        ).history\n",
    "    model.save(f\"./models/{model_name}_CNN_tuned_2.h5\")"
   ]
  },
  {
   "cell_type": "code",
   "execution_count": 21,
   "id": "a3662866",
   "metadata": {
    "execution": {
     "iopub.execute_input": "2022-11-22T00:28:19.667781Z",
     "iopub.status.busy": "2022-11-22T00:28:19.667401Z",
     "iopub.status.idle": "2022-11-22T01:12:18.670321Z",
     "shell.execute_reply": "2022-11-22T01:12:18.668742Z"
    },
    "papermill": {
     "duration": 2640.026769,
     "end_time": "2022-11-22T01:12:18.684703",
     "exception": false,
     "start_time": "2022-11-22T00:28:18.657934",
     "status": "completed"
    },
    "tags": []
   },
   "outputs": [
    {
     "name": "stdout",
     "output_type": "stream",
     "text": [
      "Model: \"model\"\n",
      "_________________________________________________________________\n",
      " Layer (type)                Output Shape              Param #   \n",
      "=================================================================\n",
      " input_layer (InputLayer)    [(None, 96, 96, 3)]       0         \n",
      "                                                                 \n",
      " efficientnetv2-l (Functiona  (None, 3, 3, 1280)       117746848 \n",
      " l)                                                              \n",
      "                                                                 \n",
      " global_average_pooling2d (G  (None, 1280)             0         \n",
      " lobalAveragePooling2D)                                          \n",
      "                                                                 \n",
      " dropout (Dropout)           (None, 1280)              0         \n",
      "                                                                 \n",
      " hidden_layer_1 (Dense)      (None, 512)               655872    \n",
      "                                                                 \n",
      " dropout_1 (Dropout)         (None, 512)               0         \n",
      "                                                                 \n",
      " hidden_layer_2 (Dense)      (None, 128)               65664     \n",
      "                                                                 \n",
      " dropout_2 (Dropout)         (None, 128)               0         \n",
      "                                                                 \n",
      " output_layer (Dense)        (None, 8)                 1032      \n",
      "                                                                 \n",
      "=================================================================\n",
      "Total params: 118,469,416\n",
      "Trainable params: 117,956,840\n",
      "Non-trainable params: 512,576\n",
      "_________________________________________________________________\n",
      "Epoch 1/200\n",
      "200/200 [==============================] - 103s 306ms/step - loss: 1.6750 - accuracy: 0.3789 - val_loss: 1.1330 - val_accuracy: 0.5755\n",
      "Epoch 2/200\n",
      "200/200 [==============================] - 53s 266ms/step - loss: 1.1546 - accuracy: 0.5870 - val_loss: 0.8977 - val_accuracy: 0.6610\n",
      "Epoch 3/200\n",
      "200/200 [==============================] - 54s 271ms/step - loss: 1.0434 - accuracy: 0.6443 - val_loss: 0.7107 - val_accuracy: 0.7436\n",
      "Epoch 4/200\n",
      "200/200 [==============================] - 53s 265ms/step - loss: 1.0087 - accuracy: 0.6553 - val_loss: 1.0684 - val_accuracy: 0.5812\n",
      "Epoch 5/200\n",
      "200/200 [==============================] - 54s 270ms/step - loss: 0.8291 - accuracy: 0.7173 - val_loss: 0.7005 - val_accuracy: 0.7721\n",
      "Epoch 6/200\n",
      "200/200 [==============================] - 55s 272ms/step - loss: 0.7843 - accuracy: 0.7364 - val_loss: 0.6820 - val_accuracy: 0.7778\n",
      "Epoch 7/200\n",
      "200/200 [==============================] - 54s 270ms/step - loss: 0.7142 - accuracy: 0.7628 - val_loss: 0.5811 - val_accuracy: 0.8034\n",
      "Epoch 8/200\n",
      "200/200 [==============================] - 54s 270ms/step - loss: 0.7554 - accuracy: 0.7452 - val_loss: 0.9313 - val_accuracy: 0.6952\n",
      "Epoch 9/200\n",
      "200/200 [==============================] - 54s 267ms/step - loss: 0.8518 - accuracy: 0.7079 - val_loss: 0.7478 - val_accuracy: 0.7806\n",
      "Epoch 10/200\n",
      "200/200 [==============================] - 54s 268ms/step - loss: 0.8843 - accuracy: 0.6851 - val_loss: 0.8215 - val_accuracy: 0.7094\n",
      "Epoch 11/200\n",
      "200/200 [==============================] - 54s 270ms/step - loss: 0.6374 - accuracy: 0.7853 - val_loss: 0.6023 - val_accuracy: 0.8319\n",
      "Epoch 12/200\n",
      "200/200 [==============================] - 54s 270ms/step - loss: 0.6205 - accuracy: 0.7888 - val_loss: 0.5602 - val_accuracy: 0.8006\n",
      "Epoch 13/200\n",
      "200/200 [==============================] - 53s 266ms/step - loss: 0.8759 - accuracy: 0.6976 - val_loss: 0.8374 - val_accuracy: 0.6952\n",
      "Epoch 14/200\n",
      "200/200 [==============================] - 54s 270ms/step - loss: 0.9622 - accuracy: 0.6697 - val_loss: 0.8256 - val_accuracy: 0.6866\n",
      "Epoch 15/200\n",
      "200/200 [==============================] - 54s 268ms/step - loss: 0.7962 - accuracy: 0.7355 - val_loss: 0.7400 - val_accuracy: 0.7464\n",
      "Epoch 16/200\n",
      "200/200 [==============================] - 53s 267ms/step - loss: 0.6045 - accuracy: 0.7994 - val_loss: 0.6670 - val_accuracy: 0.7692\n",
      "Epoch 17/200\n",
      "200/200 [==============================] - 54s 268ms/step - loss: 0.6751 - accuracy: 0.7794 - val_loss: 0.5608 - val_accuracy: 0.7949\n",
      "Epoch 18/200\n",
      "200/200 [==============================] - 54s 271ms/step - loss: 0.5894 - accuracy: 0.8060 - val_loss: 0.4855 - val_accuracy: 0.8291\n",
      "Epoch 19/200\n",
      "200/200 [==============================] - 54s 268ms/step - loss: 0.5512 - accuracy: 0.8148 - val_loss: 0.5667 - val_accuracy: 0.8063\n",
      "Epoch 20/200\n",
      "200/200 [==============================] - 54s 270ms/step - loss: 0.4636 - accuracy: 0.8455 - val_loss: 0.5692 - val_accuracy: 0.8091\n",
      "Epoch 21/200\n",
      "200/200 [==============================] - 54s 272ms/step - loss: 0.4623 - accuracy: 0.8508 - val_loss: 0.4588 - val_accuracy: 0.8376\n",
      "Epoch 22/200\n",
      "200/200 [==============================] - 53s 267ms/step - loss: 0.4532 - accuracy: 0.8458 - val_loss: 0.5822 - val_accuracy: 0.8234\n",
      "Epoch 23/200\n",
      "200/200 [==============================] - 55s 275ms/step - loss: 0.4471 - accuracy: 0.8568 - val_loss: 0.4244 - val_accuracy: 0.8746\n",
      "Epoch 24/200\n",
      "200/200 [==============================] - 55s 275ms/step - loss: 0.5089 - accuracy: 0.8370 - val_loss: 0.5080 - val_accuracy: 0.8433\n",
      "Epoch 25/200\n",
      "200/200 [==============================] - 53s 267ms/step - loss: 0.6465 - accuracy: 0.7885 - val_loss: 0.5737 - val_accuracy: 0.8262\n",
      "Epoch 26/200\n",
      "200/200 [==============================] - 55s 273ms/step - loss: 0.6072 - accuracy: 0.8029 - val_loss: 0.5169 - val_accuracy: 0.8148\n",
      "Epoch 27/200\n",
      "200/200 [==============================] - 54s 272ms/step - loss: 0.4334 - accuracy: 0.8580 - val_loss: 0.5197 - val_accuracy: 0.8319\n",
      "Epoch 28/200\n",
      "200/200 [==============================] - 54s 272ms/step - loss: 0.4072 - accuracy: 0.8699 - val_loss: 0.4257 - val_accuracy: 0.8689\n",
      "Epoch 29/200\n",
      "200/200 [==============================] - 55s 275ms/step - loss: 0.3894 - accuracy: 0.8718 - val_loss: 0.3909 - val_accuracy: 0.8775\n",
      "Epoch 30/200\n",
      "200/200 [==============================] - 54s 272ms/step - loss: 0.3964 - accuracy: 0.8627 - val_loss: 0.6912 - val_accuracy: 0.8006\n",
      "Epoch 31/200\n",
      "200/200 [==============================] - 54s 268ms/step - loss: 0.4070 - accuracy: 0.8693 - val_loss: 0.4931 - val_accuracy: 0.8291\n",
      "Epoch 32/200\n",
      "200/200 [==============================] - 54s 269ms/step - loss: 0.4141 - accuracy: 0.8612 - val_loss: 0.4761 - val_accuracy: 0.8376\n",
      "Epoch 33/200\n",
      "200/200 [==============================] - 54s 271ms/step - loss: 0.3344 - accuracy: 0.8866 - val_loss: 0.5218 - val_accuracy: 0.8689\n",
      "Epoch 34/200\n",
      "200/200 [==============================] - 54s 268ms/step - loss: 0.3920 - accuracy: 0.8678 - val_loss: 0.6655 - val_accuracy: 0.7892\n",
      "Epoch 35/200\n",
      "200/200 [==============================] - 54s 270ms/step - loss: 0.3159 - accuracy: 0.8963 - val_loss: 0.4283 - val_accuracy: 0.8689\n",
      "Epoch 36/200\n",
      "200/200 [==============================] - 54s 268ms/step - loss: 0.3856 - accuracy: 0.8743 - val_loss: 0.4408 - val_accuracy: 0.8547\n",
      "Epoch 37/200\n",
      "200/200 [==============================] - 54s 270ms/step - loss: 0.4015 - accuracy: 0.8718 - val_loss: 0.5154 - val_accuracy: 0.8433\n",
      "Epoch 38/200\n",
      "200/200 [==============================] - 54s 267ms/step - loss: 0.3685 - accuracy: 0.8806 - val_loss: 0.5184 - val_accuracy: 0.8262\n",
      "Epoch 39/200\n",
      "200/200 [==============================] - 53s 265ms/step - loss: 0.3372 - accuracy: 0.8956 - val_loss: 0.5031 - val_accuracy: 0.8746\n",
      "Epoch 40/200\n",
      "200/200 [==============================] - 54s 270ms/step - loss: 0.2923 - accuracy: 0.9057 - val_loss: 0.6110 - val_accuracy: 0.8348\n",
      "Epoch 41/200\n",
      "200/200 [==============================] - 54s 270ms/step - loss: 0.3332 - accuracy: 0.8866 - val_loss: 0.6076 - val_accuracy: 0.8205\n",
      "Epoch 42/200\n",
      "200/200 [==============================] - 54s 269ms/step - loss: 0.4159 - accuracy: 0.8681 - val_loss: 0.5719 - val_accuracy: 0.8519\n",
      "Epoch 43/200\n",
      "200/200 [==============================] - 54s 269ms/step - loss: 0.3582 - accuracy: 0.8840 - val_loss: 0.6037 - val_accuracy: 0.8319\n",
      "Epoch 44/200\n",
      "200/200 [==============================] - 56s 279ms/step - loss: 0.3390 - accuracy: 0.8922 - val_loss: 0.5961 - val_accuracy: 0.8291\n"
     ]
    }
   ],
   "source": [
    "# Fine tune all the model\n",
    "early_stopping_callback = tf.keras.callbacks.EarlyStopping(monitor='val_loss', patience=15, restore_best_weights=True)\n",
    "train_all = True\n",
    "if(train_all):\n",
    "    model = tfk.models.load_model(f\"./models/{model_name}_CNN_tuned.h5\")\n",
    "    for layer in model.get_layer(layer_name).layers:\n",
    "       layer.trainable = True\n",
    "    model.compile(loss=tfk.losses.CategoricalCrossentropy(), optimizer=tfk.optimizers.Adam(1e-4),metrics=\"accuracy\")\n",
    "    model.summary()\n",
    "    history = model.fit(\n",
    "            x = train_gen,\n",
    "            epochs = 200,\n",
    "            validation_data = validation_gen,\n",
    "            callbacks = [early_stopping_callback]\n",
    "        ).history\n",
    "    model.save(f\"./models/{model_name}_all.h5\")"
   ]
  },
  {
   "cell_type": "code",
   "execution_count": 22,
   "id": "0dcefd63",
   "metadata": {
    "execution": {
     "iopub.execute_input": "2022-11-22T01:12:22.579902Z",
     "iopub.status.busy": "2022-11-22T01:12:22.578569Z",
     "iopub.status.idle": "2022-11-22T01:13:38.989116Z",
     "shell.execute_reply": "2022-11-22T01:13:38.988104Z"
    },
    "papermill": {
     "duration": 78.152754,
     "end_time": "2022-11-22T01:13:38.991856",
     "exception": false,
     "start_time": "2022-11-22T01:12:20.839102",
     "status": "completed"
    },
    "tags": []
   },
   "outputs": [
    {
     "name": "stdout",
     "output_type": "stream",
     "text": [
      "Model: \"model\"\n",
      "_________________________________________________________________\n",
      " Layer (type)                Output Shape              Param #   \n",
      "=================================================================\n",
      " input_layer (InputLayer)    [(None, 96, 96, 3)]       0         \n",
      "                                                                 \n",
      " efficientnetv2-l (Functiona  (None, 3, 3, 1280)       117746848 \n",
      " l)                                                              \n",
      "                                                                 \n",
      " global_average_pooling2d (G  (None, 1280)             0         \n",
      " lobalAveragePooling2D)                                          \n",
      "                                                                 \n",
      " dropout (Dropout)           (None, 1280)              0         \n",
      "                                                                 \n",
      " hidden_layer_1 (Dense)      (None, 512)               655872    \n",
      "                                                                 \n",
      " dropout_1 (Dropout)         (None, 512)               0         \n",
      "                                                                 \n",
      " hidden_layer_2 (Dense)      (None, 128)               65664     \n",
      "                                                                 \n",
      " dropout_2 (Dropout)         (None, 128)               0         \n",
      "                                                                 \n",
      " output_layer (Dense)        (None, 8)                 1032      \n",
      "                                                                 \n",
      "=================================================================\n",
      "Total params: 118,469,416\n",
      "Trainable params: 117,956,840\n",
      "Non-trainable params: 512,576\n",
      "_________________________________________________________________\n",
      "Epoch 1/5\n",
      "22/22 [==============================] - 39s 275ms/step - loss: 0.4154 - accuracy: 0.8632\n",
      "Epoch 2/5\n",
      "22/22 [==============================] - 5s 217ms/step - loss: 0.4171 - accuracy: 0.8689\n",
      "Epoch 3/5\n",
      "22/22 [==============================] - 5s 217ms/step - loss: 0.4094 - accuracy: 0.8889\n",
      "Epoch 4/5\n",
      "22/22 [==============================] - 5s 220ms/step - loss: 0.3788 - accuracy: 0.8803\n",
      "Epoch 5/5\n",
      "22/22 [==============================] - 5s 218ms/step - loss: 0.4088 - accuracy: 0.8661\n"
     ]
    }
   ],
   "source": [
    "# Retrain also on validation with low learining rate\n",
    "last_train = True\n",
    "model = tfk.models.load_model(f\"./models/{model_name}_all.h5\")\n",
    "if(last_train):\n",
    "    for layer in model.get_layer(layer_name).layers:\n",
    "       layer.trainable = True\n",
    "    model.compile(loss=tfk.losses.CategoricalCrossentropy(), optimizer=tfk.optimizers.SGD(learning_rate=1e-6),metrics=\"accuracy\")\n",
    "    model.summary()\n",
    "    history = model.fit(\n",
    "                x = validation_gen,\n",
    "                epochs = 5\n",
    "            ).history\n",
    "    model.save(f\"./models/{model_name}_final.h5\")"
   ]
  },
  {
   "cell_type": "markdown",
   "id": "afe9e092",
   "metadata": {
    "papermill": {
     "duration": 1.562653,
     "end_time": "2022-11-22T01:13:42.053857",
     "exception": false,
     "start_time": "2022-11-22T01:13:40.491204",
     "status": "completed"
    },
    "tags": []
   },
   "source": [
    "# Create submission"
   ]
  },
  {
   "cell_type": "code",
   "execution_count": 23,
   "id": "f7fc6953",
   "metadata": {
    "execution": {
     "iopub.execute_input": "2022-11-22T01:13:44.968074Z",
     "iopub.status.busy": "2022-11-22T01:13:44.967680Z",
     "iopub.status.idle": "2022-11-22T01:13:46.004388Z",
     "shell.execute_reply": "2022-11-22T01:13:46.003135Z"
    },
    "papermill": {
     "duration": 2.538789,
     "end_time": "2022-11-22T01:13:46.006714",
     "exception": false,
     "start_time": "2022-11-22T01:13:43.467925",
     "status": "completed"
    },
    "tags": []
   },
   "outputs": [
    {
     "name": "stdout",
     "output_type": "stream",
     "text": [
      "import os\r\n",
      "import tensorflow as tf\r\n",
      "class model:\r\n",
      "    def __init__(self, path):\r\n",
      "        self.model = tf.keras.models.load_model(os.path.join(path, f\"SubmissionModel/model.h5\"))\r\n",
      "        self.preprocess_input = getattr(tf.keras.applications, 'efficientnet_v2' ).preprocess_input\r\n",
      "    def predict(self, X):\r\n",
      "        X = self.preprocess_input(X)\r\n",
      "        out = self.model.predict(X)\r\n",
      "        out = tf.argmax(out, axis=-1)\r\n",
      "        return out"
     ]
    }
   ],
   "source": [
    "with open(\"template.py\", \"w\") as file:\n",
    "  file.write(\n",
    "f\"\"\"import os\n",
    "import tensorflow as tf\n",
    "class model:\n",
    "    def __init__(self, path):\n",
    "        self.model = tf.keras.models.load_model(os.path.join(path, f\"SubmissionModel/model.h5\"))\n",
    "        self.preprocess_input = getattr(tf.keras.applications, '{cat_name}' ).preprocess_input\n",
    "    def predict(self, X):\n",
    "        X = self.preprocess_input(X)\n",
    "        out = self.model.predict(X)\n",
    "        out = tf.argmax(out, axis=-1)\n",
    "        return out\"\"\")\n",
    "!cat template.py"
   ]
  },
  {
   "cell_type": "code",
   "execution_count": 24,
   "id": "4995d3f4",
   "metadata": {
    "execution": {
     "iopub.execute_input": "2022-11-22T01:13:49.791529Z",
     "iopub.status.busy": "2022-11-22T01:13:49.791123Z",
     "iopub.status.idle": "2022-11-22T01:15:08.850618Z",
     "shell.execute_reply": "2022-11-22T01:15:08.849057Z"
    },
    "papermill": {
     "duration": 82.735105,
     "end_time": "2022-11-22T01:15:10.266887",
     "exception": false,
     "start_time": "2022-11-22T01:13:47.531782",
     "status": "completed"
    },
    "tags": []
   },
   "outputs": [
    {
     "name": "stdout",
     "output_type": "stream",
     "text": [
      "rm: cannot remove 'submission.zip': No such file or directory\r\n",
      "  adding: submission/SubmissionModel/ (stored 0%)\r\n",
      "  adding: submission/SubmissionModel/model.h5 (deflated 6%)\r\n",
      "  adding: submission/metadata (stored 0%)\r\n",
      "  adding: submission/model.py (deflated 46%)\r\n"
     ]
    }
   ],
   "source": [
    "! rm submission.zip\n",
    "! rm -rf ./submission\n",
    "! mkdir ./submission\n",
    "! mkdir ./submission/SubmissionModel\n",
    "! touch ./submission/metadata\n",
    "! cp ./models/$model_name\\_all.h5 ./submission/SubmissionModel/model.h5\n",
    "! cp template.py ./submission/model.py\n",
    "! zip -r submission.zip submission/*\n"
   ]
  },
  {
   "cell_type": "code",
   "execution_count": 25,
   "id": "3f138c1b",
   "metadata": {
    "execution": {
     "iopub.execute_input": "2022-11-22T01:15:13.324936Z",
     "iopub.status.busy": "2022-11-22T01:15:13.324537Z",
     "iopub.status.idle": "2022-11-22T01:15:13.329634Z",
     "shell.execute_reply": "2022-11-22T01:15:13.328620Z"
    },
    "papermill": {
     "duration": 1.527172,
     "end_time": "2022-11-22T01:15:13.331648",
     "exception": false,
     "start_time": "2022-11-22T01:15:11.804476",
     "status": "completed"
    },
    "tags": []
   },
   "outputs": [],
   "source": [
    "from IPython.display import FileLink\n",
    "#FileLink(r'submission.zip')"
   ]
  },
  {
   "cell_type": "markdown",
   "id": "2c554109",
   "metadata": {
    "papermill": {
     "duration": 1.466543,
     "end_time": "2022-11-22T01:15:16.408352",
     "exception": false,
     "start_time": "2022-11-22T01:15:14.941809",
     "status": "completed"
    },
    "tags": []
   },
   "source": [
    "# Test submission"
   ]
  },
  {
   "cell_type": "code",
   "execution_count": 26,
   "id": "bd98db14",
   "metadata": {
    "execution": {
     "iopub.execute_input": "2022-11-22T01:15:19.718408Z",
     "iopub.status.busy": "2022-11-22T01:15:19.718015Z",
     "iopub.status.idle": "2022-11-22T01:15:35.779865Z",
     "shell.execute_reply": "2022-11-22T01:15:35.778821Z"
    },
    "papermill": {
     "duration": 17.643148,
     "end_time": "2022-11-22T01:15:35.782679",
     "exception": false,
     "start_time": "2022-11-22T01:15:18.139531",
     "status": "completed"
    },
    "tags": []
   },
   "outputs": [],
   "source": [
    "from template import model\n",
    "test_model = model('./submission')"
   ]
  },
  {
   "cell_type": "code",
   "execution_count": 27,
   "id": "fcb856aa",
   "metadata": {
    "execution": {
     "iopub.execute_input": "2022-11-22T01:15:38.717177Z",
     "iopub.status.busy": "2022-11-22T01:15:38.716785Z",
     "iopub.status.idle": "2022-11-22T01:15:59.640298Z",
     "shell.execute_reply": "2022-11-22T01:15:59.639284Z"
    },
    "papermill": {
     "duration": 22.418054,
     "end_time": "2022-11-22T01:15:59.642730",
     "exception": false,
     "start_time": "2022-11-22T01:15:37.224676",
     "status": "completed"
    },
    "tags": []
   },
   "outputs": [],
   "source": [
    "image = Image.open('/kaggle/input/homework1/training_data_final/Species1/00006.jpg')\n",
    "frame = np.expand_dims(np.asarray(image), 0)\n",
    "pred = test_model.predict(train_noval_gen_all)"
   ]
  },
  {
   "cell_type": "code",
   "execution_count": 28,
   "id": "7ac29966",
   "metadata": {
    "execution": {
     "iopub.execute_input": "2022-11-22T01:16:02.931464Z",
     "iopub.status.busy": "2022-11-22T01:16:02.931077Z",
     "iopub.status.idle": "2022-11-22T01:16:02.943968Z",
     "shell.execute_reply": "2022-11-22T01:16:02.942920Z"
    },
    "papermill": {
     "duration": 1.708303,
     "end_time": "2022-11-22T01:16:02.945959",
     "exception": false,
     "start_time": "2022-11-22T01:16:01.237656",
     "status": "completed"
    },
    "tags": []
   },
   "outputs": [
    {
     "name": "stdout",
     "output_type": "stream",
     "text": [
      "0.8992094861660079\n"
     ]
    },
    {
     "data": {
      "text/plain": [
       "array([[ 59,   2,   0,   0,   0,   0,   1,   5],\n",
       "       [ 33, 516,   0,   2,   1,   7,   7,  52],\n",
       "       [  2,   1, 459,   0,  12,   0,   1,   1],\n",
       "       [ 31,   3,  17, 499,  16,   1,   1,  16],\n",
       "       [  4,   0,  39,   8, 500,   1,   0,   0],\n",
       "       [  6,   1,   0,   0,   1, 211,   1,  11],\n",
       "       [  2,   5,   0,   0,   0,   1, 525,   7],\n",
       "       [ 49,   4,   0,   2,   1,   1,   1, 416]])"
      ]
     },
     "execution_count": 28,
     "metadata": {},
     "output_type": "execute_result"
    }
   ],
   "source": [
    "from sklearn.metrics import confusion_matrix, accuracy_score\n",
    "print(accuracy_score(pred,train_noval_gen_all.labels ))\n",
    "confusion_matrix(pred,train_noval_gen_all.labels )"
   ]
  },
  {
   "cell_type": "code",
   "execution_count": null,
   "id": "5fd60209",
   "metadata": {
    "papermill": {
     "duration": 1.498385,
     "end_time": "2022-11-22T01:16:05.863086",
     "exception": false,
     "start_time": "2022-11-22T01:16:04.364701",
     "status": "completed"
    },
    "tags": []
   },
   "outputs": [],
   "source": []
  }
 ],
 "metadata": {
  "kernelspec": {
   "display_name": "Python 3",
   "language": "python",
   "name": "python3"
  },
  "language_info": {
   "codemirror_mode": {
    "name": "ipython",
    "version": 3
   },
   "file_extension": ".py",
   "mimetype": "text/x-python",
   "name": "python",
   "nbconvert_exporter": "python",
   "pygments_lexer": "ipython3",
   "version": "3.7.12"
  },
  "papermill": {
   "default_parameters": {},
   "duration": 4783.107076,
   "end_time": "2022-11-22T01:16:10.317385",
   "environment_variables": {},
   "exception": null,
   "input_path": "__notebook__.ipynb",
   "output_path": "__notebook__.ipynb",
   "parameters": {},
   "start_time": "2022-11-21T23:56:27.210309",
   "version": "2.3.4"
  }
 },
 "nbformat": 4,
 "nbformat_minor": 5
}

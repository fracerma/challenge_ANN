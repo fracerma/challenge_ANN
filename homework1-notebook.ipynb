{
 "cells": [
  {
   "cell_type": "markdown",
   "id": "430dabd5",
   "metadata": {
    "id": "7pNr8l2ASTe-",
    "papermill": {
     "duration": 0.0074,
     "end_time": "2022-11-21T19:45:55.875924",
     "exception": false,
     "start_time": "2022-11-21T19:45:55.868524",
     "status": "completed"
    },
    "tags": []
   },
   "source": [
    "# Import libraries"
   ]
  },
  {
   "cell_type": "code",
   "execution_count": 1,
   "id": "33c6ded8",
   "metadata": {
    "execution": {
     "iopub.execute_input": "2022-11-21T19:45:55.891064Z",
     "iopub.status.busy": "2022-11-21T19:45:55.890192Z",
     "iopub.status.idle": "2022-11-21T19:47:12.650025Z",
     "shell.execute_reply": "2022-11-21T19:47:12.648831Z"
    },
    "papermill": {
     "duration": 76.770436,
     "end_time": "2022-11-21T19:47:12.652691",
     "exception": false,
     "start_time": "2022-11-21T19:45:55.882255",
     "status": "completed"
    },
    "tags": []
   },
   "outputs": [
    {
     "name": "stdout",
     "output_type": "stream",
     "text": [
      "\r\n",
      "\r\n",
      "\r\n",
      "The following packages will be REMOVED:\r\n",
      "  libcudnn8-dev\r\n",
      "The following held packages will be changed:\r\n",
      "  libcudnn8\r\n",
      "The following packages will be upgraded:\r\n",
      "  libcudnn8\r\n",
      "1 upgraded, 0 newly installed, 1 to remove and 91 not upgraded.\r\n",
      "Need to get 430 MB of archives.\r\n",
      "After this operation, 2506 MB disk space will be freed.\r\n",
      "Get:1 https://developer.download.nvidia.com/compute/cuda/repos/ubuntu2004/x86_64  libcudnn8 8.1.0.77-1+cuda11.2 [430 MB]\r\n",
      "Fetched 430 MB in 24s (17.7 MB/s)\r\n",
      "\n",
      "(Reading database ... 108827 files and directories currently installed.)\r\n",
      "Removing libcudnn8-dev (8.0.5.39-1+cuda11.0) ...\r\n",
      "\u001b7\u001b[24;0f\u001b[42m\u001b[30mProgress: [  0%]\u001b[49m\u001b[39m [..........................................................] \u001b8\u001b7\u001b[24;0f\u001b[42m\u001b[30mProgress: [ 14%]\u001b[49m\u001b[39m [########..................................................] \u001b8update-alternatives: removing manually selected alternative - switching libcudnn to auto mode\r\n",
      "(Reading database ... 108805 files and directories currently installed.)\r\n",
      "Preparing to unpack .../libcudnn8_8.1.0.77-1+cuda11.2_amd64.deb ...\r\n",
      "\u001b7\u001b[24;0f\u001b[42m\u001b[30mProgress: [ 43%]\u001b[49m\u001b[39m [########################..................................] \u001b8Unpacking libcudnn8 (8.1.0.77-1+cuda11.2) over (8.0.5.39-1+cuda11.0) ...\r\n",
      "\u001b7\u001b[24;0f\u001b[42m\u001b[30mProgress: [ 57%]\u001b[49m\u001b[39m [#################################.........................] \u001b8Setting up libcudnn8 (8.1.0.77-1+cuda11.2) ...\r\n",
      "\u001b7\u001b[24;0f\u001b[42m\u001b[30mProgress: [ 71%]\u001b[49m\u001b[39m [#########################################.................] \u001b8\u001b7\u001b[24;0f\u001b[42m\u001b[30mProgress: [ 86%]\u001b[49m\u001b[39m [#################################################.........] \u001b8\r\n",
      "\u001b7\u001b[0;24r\u001b8\u001b[1A\u001b[J"
     ]
    }
   ],
   "source": [
    "! apt install --allow-change-held-packages libcudnn8=8.1.0.77-1+cuda11.2 -y"
   ]
  },
  {
   "cell_type": "code",
   "execution_count": 2,
   "id": "7456a6d6",
   "metadata": {
    "execution": {
     "iopub.execute_input": "2022-11-21T19:47:12.677158Z",
     "iopub.status.busy": "2022-11-21T19:47:12.676785Z",
     "iopub.status.idle": "2022-11-21T19:48:40.440898Z",
     "shell.execute_reply": "2022-11-21T19:48:40.439694Z"
    },
    "papermill": {
     "duration": 87.77975,
     "end_time": "2022-11-21T19:48:40.443314",
     "exception": false,
     "start_time": "2022-11-21T19:47:12.663564",
     "status": "completed"
    },
    "tags": []
   },
   "outputs": [
    {
     "name": "stdout",
     "output_type": "stream",
     "text": [
      "Collecting tensorflow==2.8.0\r\n",
      "  Downloading tensorflow-2.8.0-cp37-cp37m-manylinux2010_x86_64.whl (497.5 MB)\r\n",
      "\u001b[2K     \u001b[90m━━━━━━━━━━━━━━━━━━━━━━━━━━━━━━━━━━━━━━━\u001b[0m \u001b[32m497.5/497.5 MB\u001b[0m \u001b[31m2.2 MB/s\u001b[0m eta \u001b[36m0:00:00\u001b[0m\r\n",
      "\u001b[?25hCollecting tf-estimator-nightly==2.8.0.dev2021122109\r\n",
      "  Downloading tf_estimator_nightly-2.8.0.dev2021122109-py2.py3-none-any.whl (462 kB)\r\n",
      "\u001b[2K     \u001b[90m━━━━━━━━━━━━━━━━━━━━━━━━━━━━━━━━━━━━━━\u001b[0m \u001b[32m462.5/462.5 kB\u001b[0m \u001b[31m34.3 MB/s\u001b[0m eta \u001b[36m0:00:00\u001b[0m\r\n",
      "\u001b[?25hRequirement already satisfied: astunparse>=1.6.0 in /opt/conda/lib/python3.7/site-packages (from tensorflow==2.8.0) (1.6.3)\r\n",
      "Collecting libclang>=9.0.1\r\n",
      "  Downloading libclang-14.0.6-py2.py3-none-manylinux2010_x86_64.whl (14.1 MB)\r\n",
      "\u001b[2K     \u001b[90m━━━━━━━━━━━━━━━━━━━━━━━━━━━━━━━━━━━━━━━━\u001b[0m \u001b[32m14.1/14.1 MB\u001b[0m \u001b[31m15.2 MB/s\u001b[0m eta \u001b[36m0:00:00\u001b[0m\r\n",
      "\u001b[?25hCollecting tensorflow-io-gcs-filesystem>=0.23.1\r\n",
      "  Downloading tensorflow_io_gcs_filesystem-0.27.0-cp37-cp37m-manylinux_2_12_x86_64.manylinux2010_x86_64.whl (2.4 MB)\r\n",
      "\u001b[2K     \u001b[90m━━━━━━━━━━━━━━━━━━━━━━━━━━━━━━━━━━━━━━━━\u001b[0m \u001b[32m2.4/2.4 MB\u001b[0m \u001b[31m44.8 MB/s\u001b[0m eta \u001b[36m0:00:00\u001b[0m\r\n",
      "\u001b[?25hRequirement already satisfied: termcolor>=1.1.0 in /opt/conda/lib/python3.7/site-packages (from tensorflow==2.8.0) (1.1.0)\r\n",
      "Requirement already satisfied: grpcio<2.0,>=1.24.3 in /opt/conda/lib/python3.7/site-packages (from tensorflow==2.8.0) (1.43.0)\r\n",
      "Collecting tensorboard<2.9,>=2.8\r\n",
      "  Downloading tensorboard-2.8.0-py3-none-any.whl (5.8 MB)\r\n",
      "\u001b[2K     \u001b[90m━━━━━━━━━━━━━━━━━━━━━━━━━━━━━━━━━━━━━━━━\u001b[0m \u001b[32m5.8/5.8 MB\u001b[0m \u001b[31m21.8 MB/s\u001b[0m eta \u001b[36m0:00:00\u001b[0m\r\n",
      "\u001b[?25hRequirement already satisfied: flatbuffers>=1.12 in /opt/conda/lib/python3.7/site-packages (from tensorflow==2.8.0) (1.12)\r\n",
      "Requirement already satisfied: absl-py>=0.4.0 in /opt/conda/lib/python3.7/site-packages (from tensorflow==2.8.0) (0.15.0)\r\n",
      "Requirement already satisfied: wrapt>=1.11.0 in /opt/conda/lib/python3.7/site-packages (from tensorflow==2.8.0) (1.12.1)\r\n",
      "Requirement already satisfied: numpy>=1.20 in /opt/conda/lib/python3.7/site-packages (from tensorflow==2.8.0) (1.21.6)\r\n",
      "Requirement already satisfied: typing-extensions>=3.6.6 in /opt/conda/lib/python3.7/site-packages (from tensorflow==2.8.0) (4.1.1)\r\n",
      "Requirement already satisfied: opt-einsum>=2.3.2 in /opt/conda/lib/python3.7/site-packages (from tensorflow==2.8.0) (3.3.0)\r\n",
      "Requirement already satisfied: gast>=0.2.1 in /opt/conda/lib/python3.7/site-packages (from tensorflow==2.8.0) (0.4.0)\r\n",
      "Requirement already satisfied: six>=1.12.0 in /opt/conda/lib/python3.7/site-packages (from tensorflow==2.8.0) (1.15.0)\r\n",
      "Requirement already satisfied: google-pasta>=0.1.1 in /opt/conda/lib/python3.7/site-packages (from tensorflow==2.8.0) (0.2.0)\r\n",
      "Collecting keras<2.9,>=2.8.0rc0\r\n",
      "  Downloading keras-2.8.0-py2.py3-none-any.whl (1.4 MB)\r\n",
      "\u001b[2K     \u001b[90m━━━━━━━━━━━━━━━━━━━━━━━━━━━━━━━━━━━━━━━━\u001b[0m \u001b[32m1.4/1.4 MB\u001b[0m \u001b[31m47.7 MB/s\u001b[0m eta \u001b[36m0:00:00\u001b[0m\r\n",
      "\u001b[?25hRequirement already satisfied: keras-preprocessing>=1.1.1 in /opt/conda/lib/python3.7/site-packages (from tensorflow==2.8.0) (1.1.2)\r\n",
      "Requirement already satisfied: setuptools in /opt/conda/lib/python3.7/site-packages (from tensorflow==2.8.0) (59.8.0)\r\n",
      "Requirement already satisfied: protobuf>=3.9.2 in /opt/conda/lib/python3.7/site-packages (from tensorflow==2.8.0) (3.19.4)\r\n",
      "Requirement already satisfied: h5py>=2.9.0 in /opt/conda/lib/python3.7/site-packages (from tensorflow==2.8.0) (3.7.0)\r\n",
      "Requirement already satisfied: wheel<1.0,>=0.23.0 in /opt/conda/lib/python3.7/site-packages (from astunparse>=1.6.0->tensorflow==2.8.0) (0.37.1)\r\n",
      "Requirement already satisfied: google-auth<3,>=1.6.3 in /opt/conda/lib/python3.7/site-packages (from tensorboard<2.9,>=2.8->tensorflow==2.8.0) (1.35.0)\r\n",
      "Requirement already satisfied: tensorboard-plugin-wit>=1.6.0 in /opt/conda/lib/python3.7/site-packages (from tensorboard<2.9,>=2.8->tensorflow==2.8.0) (1.8.1)\r\n",
      "Requirement already satisfied: google-auth-oauthlib<0.5,>=0.4.1 in /opt/conda/lib/python3.7/site-packages (from tensorboard<2.9,>=2.8->tensorflow==2.8.0) (0.4.6)\r\n",
      "Requirement already satisfied: tensorboard-data-server<0.7.0,>=0.6.0 in /opt/conda/lib/python3.7/site-packages (from tensorboard<2.9,>=2.8->tensorflow==2.8.0) (0.6.1)\r\n",
      "Requirement already satisfied: werkzeug>=0.11.15 in /opt/conda/lib/python3.7/site-packages (from tensorboard<2.9,>=2.8->tensorflow==2.8.0) (2.2.2)\r\n",
      "Requirement already satisfied: requests<3,>=2.21.0 in /opt/conda/lib/python3.7/site-packages (from tensorboard<2.9,>=2.8->tensorflow==2.8.0) (2.28.1)\r\n",
      "Requirement already satisfied: markdown>=2.6.8 in /opt/conda/lib/python3.7/site-packages (from tensorboard<2.9,>=2.8->tensorflow==2.8.0) (3.3.7)\r\n",
      "Requirement already satisfied: pyasn1-modules>=0.2.1 in /opt/conda/lib/python3.7/site-packages (from google-auth<3,>=1.6.3->tensorboard<2.9,>=2.8->tensorflow==2.8.0) (0.2.7)\r\n",
      "Requirement already satisfied: cachetools<5.0,>=2.0.0 in /opt/conda/lib/python3.7/site-packages (from google-auth<3,>=1.6.3->tensorboard<2.9,>=2.8->tensorflow==2.8.0) (4.2.4)\r\n",
      "Requirement already satisfied: rsa<5,>=3.1.4 in /opt/conda/lib/python3.7/site-packages (from google-auth<3,>=1.6.3->tensorboard<2.9,>=2.8->tensorflow==2.8.0) (4.8)\r\n",
      "Requirement already satisfied: requests-oauthlib>=0.7.0 in /opt/conda/lib/python3.7/site-packages (from google-auth-oauthlib<0.5,>=0.4.1->tensorboard<2.9,>=2.8->tensorflow==2.8.0) (1.3.1)\r\n",
      "Requirement already satisfied: importlib-metadata>=4.4 in /opt/conda/lib/python3.7/site-packages (from markdown>=2.6.8->tensorboard<2.9,>=2.8->tensorflow==2.8.0) (4.13.0)\r\n",
      "Requirement already satisfied: urllib3<1.27,>=1.21.1 in /opt/conda/lib/python3.7/site-packages (from requests<3,>=2.21.0->tensorboard<2.9,>=2.8->tensorflow==2.8.0) (1.26.12)\r\n",
      "Requirement already satisfied: certifi>=2017.4.17 in /opt/conda/lib/python3.7/site-packages (from requests<3,>=2.21.0->tensorboard<2.9,>=2.8->tensorflow==2.8.0) (2022.9.24)\r\n",
      "Requirement already satisfied: idna<4,>=2.5 in /opt/conda/lib/python3.7/site-packages (from requests<3,>=2.21.0->tensorboard<2.9,>=2.8->tensorflow==2.8.0) (3.3)\r\n",
      "Requirement already satisfied: charset-normalizer<3,>=2 in /opt/conda/lib/python3.7/site-packages (from requests<3,>=2.21.0->tensorboard<2.9,>=2.8->tensorflow==2.8.0) (2.1.0)\r\n",
      "Requirement already satisfied: MarkupSafe>=2.1.1 in /opt/conda/lib/python3.7/site-packages (from werkzeug>=0.11.15->tensorboard<2.9,>=2.8->tensorflow==2.8.0) (2.1.1)\r\n",
      "Requirement already satisfied: zipp>=0.5 in /opt/conda/lib/python3.7/site-packages (from importlib-metadata>=4.4->markdown>=2.6.8->tensorboard<2.9,>=2.8->tensorflow==2.8.0) (3.8.0)\r\n",
      "Requirement already satisfied: pyasn1<0.5.0,>=0.4.6 in /opt/conda/lib/python3.7/site-packages (from pyasn1-modules>=0.2.1->google-auth<3,>=1.6.3->tensorboard<2.9,>=2.8->tensorflow==2.8.0) (0.4.8)\r\n",
      "Requirement already satisfied: oauthlib>=3.0.0 in /opt/conda/lib/python3.7/site-packages (from requests-oauthlib>=0.7.0->google-auth-oauthlib<0.5,>=0.4.1->tensorboard<2.9,>=2.8->tensorflow==2.8.0) (3.2.0)\r\n",
      "Installing collected packages: tf-estimator-nightly, libclang, keras, tensorflow-io-gcs-filesystem, tensorboard, tensorflow\r\n",
      "  Attempting uninstall: keras\r\n",
      "    Found existing installation: keras 2.6.0\r\n",
      "    Uninstalling keras-2.6.0:\r\n",
      "      Successfully uninstalled keras-2.6.0\r\n",
      "  Attempting uninstall: tensorboard\r\n",
      "    Found existing installation: tensorboard 2.10.1\r\n",
      "    Uninstalling tensorboard-2.10.1:\r\n",
      "      Successfully uninstalled tensorboard-2.10.1\r\n",
      "  Attempting uninstall: tensorflow\r\n",
      "    Found existing installation: tensorflow 2.6.4\r\n",
      "    Uninstalling tensorflow-2.6.4:\r\n",
      "      Successfully uninstalled tensorflow-2.6.4\r\n",
      "\u001b[31mERROR: pip's dependency resolver does not currently take into account all the packages that are installed. This behaviour is the source of the following dependency conflicts.\r\n",
      "tfx-bsl 1.9.0 requires tensorflow!=2.0.*,!=2.1.*,!=2.2.*,!=2.3.*,!=2.4.*,!=2.5.*,!=2.6.*,!=2.7.*,!=2.8.*,<3,>=1.15.5, but you have tensorflow 2.8.0 which is incompatible.\r\n",
      "tensorflow-transform 1.9.0 requires tensorflow!=2.0.*,!=2.1.*,!=2.2.*,!=2.3.*,!=2.4.*,!=2.5.*,!=2.6.*,!=2.7.*,!=2.8.*,<2.10,>=1.15.5, but you have tensorflow 2.8.0 which is incompatible.\r\n",
      "tensorflow-serving-api 2.9.0 requires tensorflow<3,>=2.9.0, but you have tensorflow 2.8.0 which is incompatible.\r\n",
      "tensorflow-io 0.21.0 requires tensorflow<2.7.0,>=2.6.0, but you have tensorflow 2.8.0 which is incompatible.\r\n",
      "tensorflow-io 0.21.0 requires tensorflow-io-gcs-filesystem==0.21.0, but you have tensorflow-io-gcs-filesystem 0.27.0 which is incompatible.\r\n",
      "pytorch-lightning 1.7.7 requires tensorboard>=2.9.1, but you have tensorboard 2.8.0 which is incompatible.\u001b[0m\u001b[31m\r\n",
      "\u001b[0mSuccessfully installed keras-2.8.0 libclang-14.0.6 tensorboard-2.8.0 tensorflow-2.8.0 tensorflow-io-gcs-filesystem-0.27.0 tf-estimator-nightly-2.8.0.dev2021122109\r\n",
      "\u001b[33mWARNING: Running pip as the 'root' user can result in broken permissions and conflicting behaviour with the system package manager. It is recommended to use a virtual environment instead: https://pip.pypa.io/warnings/venv\u001b[0m\u001b[33m\r\n",
      "\u001b[0m"
     ]
    }
   ],
   "source": [
    "! pip install -U tensorflow==2.8.0"
   ]
  },
  {
   "cell_type": "code",
   "execution_count": 3,
   "id": "42f016b0",
   "metadata": {
    "execution": {
     "iopub.execute_input": "2022-11-21T19:48:40.541174Z",
     "iopub.status.busy": "2022-11-21T19:48:40.540782Z",
     "iopub.status.idle": "2022-11-21T19:48:40.546735Z",
     "shell.execute_reply": "2022-11-21T19:48:40.545714Z"
    },
    "papermill": {
     "duration": 0.05708,
     "end_time": "2022-11-21T19:48:40.548861",
     "exception": false,
     "start_time": "2022-11-21T19:48:40.491781",
     "status": "completed"
    },
    "tags": []
   },
   "outputs": [],
   "source": [
    "import warnings\n",
    "import logging\n",
    "import os\n",
    "\n",
    "os.environ['TF_CPP_MIN_LOG_LEVEL'] = '2'\n",
    "warnings.simplefilter(action='ignore', category=FutureWarning)\n",
    "warnings.simplefilter(action='ignore', category=Warning)"
   ]
  },
  {
   "cell_type": "code",
   "execution_count": 4,
   "id": "52b508ec",
   "metadata": {
    "execution": {
     "iopub.execute_input": "2022-11-21T19:48:40.645623Z",
     "iopub.status.busy": "2022-11-21T19:48:40.644930Z",
     "iopub.status.idle": "2022-11-21T19:48:47.110246Z",
     "shell.execute_reply": "2022-11-21T19:48:47.108985Z"
    },
    "id": "uDZjJu1bSWnM",
    "outputId": "db2405b9-4b22-4a8c-bb43-831809b3830b",
    "papermill": {
     "duration": 6.516883,
     "end_time": "2022-11-21T19:48:47.113187",
     "exception": false,
     "start_time": "2022-11-21T19:48:40.596304",
     "status": "completed"
    },
    "tags": []
   },
   "outputs": [
    {
     "name": "stdout",
     "output_type": "stream",
     "text": [
      "2.8.0\n",
      "Found GPU at: /device:GPU:0\n"
     ]
    }
   ],
   "source": [
    "import tensorflow as tf\n",
    "import tensorflow_datasets as tfds\n",
    "import numpy as np\n",
    "import random\n",
    "import pandas as pd\n",
    "import seaborn as sns\n",
    "import matplotlib as mpl\n",
    "import matplotlib.pyplot as plt\n",
    "from sklearn.model_selection import train_test_split\n",
    "from sklearn.metrics import accuracy_score, f1_score, precision_score, recall_score\n",
    "from sklearn.metrics import confusion_matrix\n",
    "from PIL import Image\n",
    "\n",
    "tf.get_logger().setLevel('INFO')\n",
    "tf.autograph.set_verbosity(0)\n",
    "\n",
    "tf.get_logger().setLevel(logging.ERROR)\n",
    "tf.get_logger().setLevel('ERROR')\n",
    "tf.compat.v1.logging.set_verbosity(tf.compat.v1.logging.ERROR)\n",
    "tfk = tf.keras\n",
    "tfkl = tf.keras.layers\n",
    "print(tf.__version__)\n",
    "device_name = tf.test.gpu_device_name()\n",
    "if \"GPU\" not in device_name:\n",
    "    print(\"GPU device not found\")\n",
    "print('Found GPU at: {}'.format(device_name))"
   ]
  },
  {
   "cell_type": "code",
   "execution_count": 5,
   "id": "26a680ad",
   "metadata": {
    "execution": {
     "iopub.execute_input": "2022-11-21T19:48:47.211569Z",
     "iopub.status.busy": "2022-11-21T19:48:47.210925Z",
     "iopub.status.idle": "2022-11-21T19:48:47.218547Z",
     "shell.execute_reply": "2022-11-21T19:48:47.217619Z"
    },
    "id": "qAOYVjttZupE",
    "papermill": {
     "duration": 0.058643,
     "end_time": "2022-11-21T19:48:47.220571",
     "exception": false,
     "start_time": "2022-11-21T19:48:47.161928",
     "status": "completed"
    },
    "tags": []
   },
   "outputs": [],
   "source": [
    "# Random seed for reproducibility\n",
    "seed = 42\n",
    "\n",
    "random.seed(seed)\n",
    "os.environ['PYTHONHASHSEED'] = str(seed)\n",
    "np.random.seed(seed)\n",
    "tf.random.set_seed(seed)\n",
    "tf.compat.v1.set_random_seed(seed)"
   ]
  },
  {
   "cell_type": "code",
   "execution_count": 6,
   "id": "3ca255d2",
   "metadata": {
    "execution": {
     "iopub.execute_input": "2022-11-21T19:48:47.318432Z",
     "iopub.status.busy": "2022-11-21T19:48:47.318080Z",
     "iopub.status.idle": "2022-11-21T19:48:47.326274Z",
     "shell.execute_reply": "2022-11-21T19:48:47.325190Z"
    },
    "papermill": {
     "duration": 0.062034,
     "end_time": "2022-11-21T19:48:47.330563",
     "exception": false,
     "start_time": "2022-11-21T19:48:47.268529",
     "status": "completed"
    },
    "tags": []
   },
   "outputs": [
    {
     "name": "stdout",
     "output_type": "stream",
     "text": [
      "--> Checking for physical Tensorflow devices\n",
      ": /physical_device:CPU:0\n",
      ": /physical_device:GPU:0\n"
     ]
    }
   ],
   "source": [
    "print(\"--> Checking for physical Tensorflow devices\")\n",
    "for device in tf.config.list_physical_devices():\n",
    "    print(\": {}\".format(device.name))"
   ]
  },
  {
   "cell_type": "markdown",
   "id": "b73493a2",
   "metadata": {
    "id": "3khGT668SYkL",
    "papermill": {
     "duration": 0.047664,
     "end_time": "2022-11-21T19:48:47.427136",
     "exception": false,
     "start_time": "2022-11-21T19:48:47.379472",
     "status": "completed"
    },
    "tags": []
   },
   "source": [
    "# Load data"
   ]
  },
  {
   "cell_type": "markdown",
   "id": "4981a2d2",
   "metadata": {
    "id": "Qp1206gDUHBi",
    "papermill": {
     "duration": 0.048284,
     "end_time": "2022-11-21T19:48:47.523773",
     "exception": false,
     "start_time": "2022-11-21T19:48:47.475489",
     "status": "completed"
    },
    "tags": []
   },
   "source": [
    "Solo questo dovrebbe essere diverso durante la challenge"
   ]
  },
  {
   "cell_type": "code",
   "execution_count": 7,
   "id": "8b4ec6ad",
   "metadata": {
    "execution": {
     "iopub.execute_input": "2022-11-21T19:48:47.625496Z",
     "iopub.status.busy": "2022-11-21T19:48:47.624843Z",
     "iopub.status.idle": "2022-11-21T19:48:47.630414Z",
     "shell.execute_reply": "2022-11-21T19:48:47.629449Z"
    },
    "id": "lfjHi8NMbmRA",
    "papermill": {
     "duration": 0.059379,
     "end_time": "2022-11-21T19:48:47.632645",
     "exception": false,
     "start_time": "2022-11-21T19:48:47.573266",
     "status": "completed"
    },
    "tags": []
   },
   "outputs": [],
   "source": [
    "dataset_dir = '/kaggle/input/homework1/training_data_final'\n",
    "image_size = (96,96)"
   ]
  },
  {
   "cell_type": "markdown",
   "id": "401b458f",
   "metadata": {
    "id": "N45qPtXjcRF7",
    "papermill": {
     "duration": 0.047817,
     "end_time": "2022-11-21T19:48:47.729073",
     "exception": false,
     "start_time": "2022-11-21T19:48:47.681256",
     "status": "completed"
    },
    "tags": []
   },
   "source": [
    "# Dataloader and Data Augmentation"
   ]
  },
  {
   "cell_type": "code",
   "execution_count": 8,
   "id": "2ecc91d5",
   "metadata": {
    "execution": {
     "iopub.execute_input": "2022-11-21T19:48:47.827732Z",
     "iopub.status.busy": "2022-11-21T19:48:47.826658Z",
     "iopub.status.idle": "2022-11-21T19:48:47.836332Z",
     "shell.execute_reply": "2022-11-21T19:48:47.835388Z"
    },
    "papermill": {
     "duration": 0.061677,
     "end_time": "2022-11-21T19:48:47.838334",
     "exception": false,
     "start_time": "2022-11-21T19:48:47.776657",
     "status": "completed"
    },
    "tags": []
   },
   "outputs": [
    {
     "data": {
      "text/plain": [
       "['DenseNet121',\n",
       " 'DenseNet169',\n",
       " 'DenseNet201',\n",
       " 'EfficientNetB0',\n",
       " 'EfficientNetB1',\n",
       " 'EfficientNetB2',\n",
       " 'EfficientNetB3',\n",
       " 'EfficientNetB4',\n",
       " 'EfficientNetB5',\n",
       " 'EfficientNetB6',\n",
       " 'EfficientNetB7',\n",
       " 'EfficientNetV2B0',\n",
       " 'EfficientNetV2B1',\n",
       " 'EfficientNetV2B2',\n",
       " 'EfficientNetV2B3',\n",
       " 'EfficientNetV2L',\n",
       " 'EfficientNetV2M',\n",
       " 'EfficientNetV2S',\n",
       " 'InceptionResNetV2',\n",
       " 'InceptionV3',\n",
       " 'MobileNet',\n",
       " 'MobileNetV2',\n",
       " 'MobileNetV3Large',\n",
       " 'MobileNetV3Small',\n",
       " 'NASNetLarge',\n",
       " 'NASNetMobile',\n",
       " 'ResNet101',\n",
       " 'ResNet101V2',\n",
       " 'ResNet152',\n",
       " 'ResNet152V2',\n",
       " 'ResNet50',\n",
       " 'ResNet50V2',\n",
       " 'VGG16',\n",
       " 'VGG19',\n",
       " 'Xception',\n",
       " '__builtins__',\n",
       " '__cached__',\n",
       " '__doc__',\n",
       " '__file__',\n",
       " '__loader__',\n",
       " '__name__',\n",
       " '__package__',\n",
       " '__path__',\n",
       " '__spec__',\n",
       " '_sys',\n",
       " 'densenet',\n",
       " 'efficientnet',\n",
       " 'efficientnet_v2',\n",
       " 'imagenet_utils',\n",
       " 'inception_resnet_v2',\n",
       " 'inception_v3',\n",
       " 'mobilenet',\n",
       " 'mobilenet_v2',\n",
       " 'mobilenet_v3',\n",
       " 'nasnet',\n",
       " 'resnet',\n",
       " 'resnet50',\n",
       " 'resnet_v2',\n",
       " 'vgg16',\n",
       " 'vgg19',\n",
       " 'xception']"
      ]
     },
     "execution_count": 8,
     "metadata": {},
     "output_type": "execute_result"
    }
   ],
   "source": [
    "dir(tf.keras.applications)"
   ]
  },
  {
   "cell_type": "code",
   "execution_count": 9,
   "id": "74b1bd94",
   "metadata": {
    "execution": {
     "iopub.execute_input": "2022-11-21T19:48:47.936267Z",
     "iopub.status.busy": "2022-11-21T19:48:47.935577Z",
     "iopub.status.idle": "2022-11-21T19:49:16.733295Z",
     "shell.execute_reply": "2022-11-21T19:49:16.732272Z"
    },
    "papermill": {
     "duration": 28.849176,
     "end_time": "2022-11-21T19:49:16.735677",
     "exception": false,
     "start_time": "2022-11-21T19:48:47.886501",
     "status": "completed"
    },
    "tags": []
   },
   "outputs": [
    {
     "name": "stdout",
     "output_type": "stream",
     "text": [
      "Downloading data from https://storage.googleapis.com/tensorflow/keras-applications/efficientnet_v2/efficientnetv2-l_notop.h5\n",
      "473178112/473176280 [==============================] - 20s 0us/step\n",
      "473186304/473176280 [==============================] - 20s 0us/step\n"
     ]
    }
   ],
   "source": [
    "from importlib import import_module\n",
    "\n",
    "# Create the base model from the pre-trained model\n",
    "IMG_SHAPE = image_size + (3,)\n",
    "batch_size = 16\n",
    "validation_split=0.1\n",
    "model_name = 'EfficientNetV2L'\n",
    "layer_name = 'efficientnetv2-l'\n",
    "cat_name = 'efficientnet_v2'\n",
    "base_model = getattr(tfk.applications, model_name)(input_shape=IMG_SHAPE,\n",
    "                                               include_top=False,\n",
    "                                               weights='imagenet')\n",
    "preprocess_input = getattr(tf.keras.applications, cat_name).preprocess_input\n"
   ]
  },
  {
   "cell_type": "code",
   "execution_count": 10,
   "id": "f5429f89",
   "metadata": {
    "execution": {
     "iopub.execute_input": "2022-11-21T19:49:16.863945Z",
     "iopub.status.busy": "2022-11-21T19:49:16.863561Z",
     "iopub.status.idle": "2022-11-21T19:49:17.397375Z",
     "shell.execute_reply": "2022-11-21T19:49:17.395429Z"
    },
    "id": "9ngk1QEnagfU",
    "outputId": "1dde0f93-a907-464b-95bf-3532181799e0",
    "papermill": {
     "duration": 0.600315,
     "end_time": "2022-11-21T19:49:17.400129",
     "exception": false,
     "start_time": "2022-11-21T19:49:16.799814",
     "status": "completed"
    },
    "tags": []
   },
   "outputs": [
    {
     "name": "stdout",
     "output_type": "stream",
     "text": [
      "Found 3191 images belonging to 8 classes.\n",
      "Found 351 images belonging to 8 classes.\n",
      "Found 3542 images belonging to 8 classes.\n"
     ]
    }
   ],
   "source": [
    "noaug_noval_train_data_gen = tfk.preprocessing.image.ImageDataGenerator(preprocessing_function=preprocess_input)\n",
    "\n",
    "\n",
    "aug_train_data_gen = tfk.preprocessing.image.ImageDataGenerator(\n",
    "                                        rotation_range=180,\n",
    "                                        height_shift_range=20,\n",
    "                                        width_shift_range=20,\n",
    "                                        zoom_range=0.5,\n",
    "                                        shear_range = 40,\n",
    "                                        horizontal_flip=True,\n",
    "                                        vertical_flip=True, \n",
    "                                        fill_mode='reflect',\n",
    "                                        validation_split=validation_split,\n",
    "                                        zca_whitening = True,\n",
    "                                        preprocessing_function=preprocess_input\n",
    "                                        )\n",
    "\n",
    "aug_validation_data_gen = tfk.preprocessing.image.ImageDataGenerator(\n",
    "                                        preprocessing_function=preprocess_input,\n",
    "                                        validation_split=validation_split)\n",
    "\n",
    "train_gen = aug_train_data_gen.flow_from_directory(directory=dataset_dir,\n",
    "                                               target_size=image_size,\n",
    "                                               color_mode='rgb',\n",
    "                                               class_mode='categorical',\n",
    "                                               batch_size=batch_size,\n",
    "                                               shuffle=True,\n",
    "                                               seed=seed,\n",
    "                                               subset='training')\n",
    "\n",
    "\n",
    "validation_gen = aug_validation_data_gen.flow_from_directory(directory=dataset_dir,\n",
    "                                               target_size=image_size,\n",
    "                                               color_mode='rgb',\n",
    "                                               class_mode='categorical',\n",
    "                                               batch_size=batch_size,\n",
    "                                               shuffle=True,\n",
    "                                               seed=seed,\n",
    "                                               subset='validation')\n",
    "\n",
    "train_noval_gen_all = noaug_noval_train_data_gen.flow_from_directory(directory=dataset_dir,\n",
    "                                               target_size=image_size,\n",
    "                                               color_mode='rgb',\n",
    "                                               class_mode='categorical',\n",
    "                                               batch_size=batch_size,     \n",
    "                                               shuffle=False,\n",
    "                                               seed=seed)"
   ]
  },
  {
   "cell_type": "code",
   "execution_count": 11,
   "id": "76ae5073",
   "metadata": {
    "execution": {
     "iopub.execute_input": "2022-11-21T19:49:17.528597Z",
     "iopub.status.busy": "2022-11-21T19:49:17.527631Z",
     "iopub.status.idle": "2022-11-21T19:49:17.535132Z",
     "shell.execute_reply": "2022-11-21T19:49:17.533985Z"
    },
    "id": "VwQXMCcucdTX",
    "outputId": "7c8b8f95-1881-47c3-be2e-64fb0be83283",
    "papermill": {
     "duration": 0.073737,
     "end_time": "2022-11-21T19:49:17.537084",
     "exception": false,
     "start_time": "2022-11-21T19:49:17.463347",
     "status": "completed"
    },
    "tags": []
   },
   "outputs": [
    {
     "name": "stdout",
     "output_type": "stream",
     "text": [
      "Assigned labels\n",
      "{'Species1': 0, 'Species2': 1, 'Species3': 2, 'Species4': 3, 'Species5': 4, 'Species6': 5, 'Species7': 6, 'Species8': 7}\n",
      "\n",
      "Target classes\n",
      "[0 0 0 ... 7 7 7]\n"
     ]
    }
   ],
   "source": [
    "print(\"Assigned labels\")\n",
    "print(train_gen.class_indices)\n",
    "print()\n",
    "print(\"Target classes\")\n",
    "print(train_gen.classes)\n",
    "num_classes = train_gen.num_classes"
   ]
  },
  {
   "cell_type": "markdown",
   "id": "6d25ff8d",
   "metadata": {
    "id": "Y8rIMCwKU4dP",
    "papermill": {
     "duration": 0.062655,
     "end_time": "2022-11-21T19:49:17.663102",
     "exception": false,
     "start_time": "2022-11-21T19:49:17.600447",
     "status": "completed"
    },
    "tags": []
   },
   "source": [
    "# Load pre-trained model for transfer learning"
   ]
  },
  {
   "cell_type": "markdown",
   "id": "50fa5e2e",
   "metadata": {
    "id": "XTOSJFcihcFj",
    "papermill": {
     "duration": 0.063018,
     "end_time": "2022-11-21T19:49:17.788344",
     "exception": false,
     "start_time": "2022-11-21T19:49:17.725326",
     "status": "completed"
    },
    "tags": []
   },
   "source": [
    "We can fine tune this with different pretrained models"
   ]
  },
  {
   "cell_type": "code",
   "execution_count": 12,
   "id": "fccc60bd",
   "metadata": {
    "execution": {
     "iopub.execute_input": "2022-11-21T19:49:17.914814Z",
     "iopub.status.busy": "2022-11-21T19:49:17.914435Z",
     "iopub.status.idle": "2022-11-21T19:49:17.918865Z",
     "shell.execute_reply": "2022-11-21T19:49:17.917947Z"
    },
    "id": "x8d_GkORhuYF",
    "outputId": "296aa58f-4c50-4016-e477-455afe101c4a",
    "papermill": {
     "duration": 0.070234,
     "end_time": "2022-11-21T19:49:17.920843",
     "exception": false,
     "start_time": "2022-11-21T19:49:17.850609",
     "status": "completed"
    },
    "tags": []
   },
   "outputs": [],
   "source": [
    "# base_model.summary()"
   ]
  },
  {
   "cell_type": "code",
   "execution_count": 13,
   "id": "c0317f67",
   "metadata": {
    "execution": {
     "iopub.execute_input": "2022-11-21T19:49:18.050184Z",
     "iopub.status.busy": "2022-11-21T19:49:18.049823Z",
     "iopub.status.idle": "2022-11-21T19:49:18.059696Z",
     "shell.execute_reply": "2022-11-21T19:49:18.058817Z"
    },
    "id": "SWz_Z-i-k4Yf",
    "papermill": {
     "duration": 0.0783,
     "end_time": "2022-11-21T19:49:18.061732",
     "exception": false,
     "start_time": "2022-11-21T19:49:17.983432",
     "status": "completed"
    },
    "tags": []
   },
   "outputs": [],
   "source": [
    "def build_model(input_shape, output_classes, learning_rate=0.001, freeze=True):\n",
    "    input_layer = tfkl.Input(shape=input_shape, name='input_layer')\n",
    "\n",
    "    # Freeze the base model\n",
    "    if(freeze):\n",
    "      base_model.trainable = False\n",
    "    else:\n",
    "      base_model.trainable = True\n",
    "    # We need training=False for the BatchNormalization layer\n",
    "    feature_extractor = base_model(input_layer , training=False)\n",
    "\n",
    "    x = tfkl.GlobalAveragePooling2D()(feature_extractor)\n",
    "    x = tfkl.Dropout(0.2, seed=seed)(x)\n",
    "    x = tfkl.Dense(units=512, activation='swish', kernel_initializer=tfk.initializers.GlorotUniform(seed=seed), name='hidden_layer_1')(x)\n",
    "    x = tfkl.Dropout(0.3, seed=seed)(x)\n",
    "    x = tfkl.Dense(units=128, activation='swish', kernel_initializer=tfk.initializers.GlorotUniform(seed=seed), name='hidden_layer_2')(x)\n",
    "    x = tfkl.Dropout(0.3, seed=seed)(x)\n",
    "    output_layer = tfkl.Dense(units=output_classes, activation='softmax', kernel_initializer=tfk.initializers.GlorotUniform(seed=seed), name='output_layer')(x)\n",
    "\n",
    "    # Connect input and output through the Model class\n",
    "    model = tfk.Model(inputs=input_layer, outputs=output_layer, name='model')\n",
    "\n",
    "    # Compile the model\n",
    "    model.compile(loss=tfk.losses.CategoricalCrossentropy(), optimizer=tfk.optimizers.Adam(learning_rate=learning_rate), metrics='accuracy')\n",
    "\n",
    "    # Return the model\n",
    "    return model"
   ]
  },
  {
   "cell_type": "code",
   "execution_count": 14,
   "id": "1eecfcec",
   "metadata": {
    "execution": {
     "iopub.execute_input": "2022-11-21T19:49:18.188224Z",
     "iopub.status.busy": "2022-11-21T19:49:18.187860Z",
     "iopub.status.idle": "2022-11-21T19:49:18.200517Z",
     "shell.execute_reply": "2022-11-21T19:49:18.199601Z"
    },
    "papermill": {
     "duration": 0.078241,
     "end_time": "2022-11-21T19:49:18.202481",
     "exception": false,
     "start_time": "2022-11-21T19:49:18.124240",
     "status": "completed"
    },
    "tags": []
   },
   "outputs": [],
   "source": [
    "def build_custom_model(input_shape, output_classes, learning_rate=0.001):\n",
    "    chanDim = -1\n",
    "    levels = 4\n",
    "    input_layer = tfkl.Input(shape=input_shape, name='input_layer')\n",
    "    x = tfkl.Conv2D(32, (7, 7), padding=\"same\")(input_layer)\n",
    "    x = tfkl.LeakyReLU(alpha=0.3)(x)\n",
    "    x = tfkl.BatchNormalization(axis=chanDim)(x)\n",
    "    x = tfkl.Add([input_layer,x])\n",
    "    # CNN \n",
    "    for i in range(levels):\n",
    "        first = tfkl.MaxPooling2D(pool_size=(3, 3))(x)\n",
    "        x = tfkl.Conv2D(32*(i+2), (3, 3), padding=\"same\")(first)\n",
    "        x = tfkl.LeakyReLU(alpha=0.3)(x)\n",
    "        x = tfkl.BatchNormalization(axis=chanDim)(x)\n",
    "        x = tfkl.Add([first,x])\n",
    "    x = tfkl.MaxPooling2D(pool_size=(3, 3))(x)\n",
    "    \n",
    "    # FC\n",
    "    x = tfkl.GlobalAveragePooling2D()(x)\n",
    "    x = tfkl.Dropout(0.3)(x)\n",
    "    x = tfkl.Dense(units=512, activation='relu', kernel_initializer=tfk.initializers.GlorotUniform(seed=seed), name='hidden_layer_1')(x)\n",
    "    x = tfkl.Dropout(0.3)(x)\n",
    "    x = tfkl.Dense(units=128, activation='relu', kernel_initializer=tfk.initializers.GlorotUniform(seed=seed), name='hidden_layer_1')(x)\n",
    "    x = tfkl.Dropout(0.3)(x)\n",
    "    output_layer = tfkl.Dense(units=output_classes, activation='softmax', kernel_initializer=tfk.initializers.GlorotUniform(seed=seed), name='output_layer')(x)\n",
    "    \n",
    "    model = tfk.Model(inputs=input_layer, outputs=output_layer, name='model')\n",
    "              \n",
    "    model.compile(loss=tfk.losses.CategoricalCrossentropy(), optimizer=tfk.optimizers.Adam(learning_rate=learning_rate),metrics=\"accuracy\")\n",
    "    return model"
   ]
  },
  {
   "cell_type": "code",
   "execution_count": 15,
   "id": "b3ef85f7",
   "metadata": {
    "execution": {
     "iopub.execute_input": "2022-11-21T19:49:18.328910Z",
     "iopub.status.busy": "2022-11-21T19:49:18.328539Z",
     "iopub.status.idle": "2022-11-21T19:49:21.425734Z",
     "shell.execute_reply": "2022-11-21T19:49:21.424732Z"
    },
    "id": "JGTZTZr6mXJZ",
    "outputId": "95f1b5a7-8aae-45cd-f554-b4663689f6f6",
    "papermill": {
     "duration": 3.164188,
     "end_time": "2022-11-21T19:49:21.428898",
     "exception": false,
     "start_time": "2022-11-21T19:49:18.264710",
     "status": "completed"
    },
    "tags": []
   },
   "outputs": [
    {
     "name": "stdout",
     "output_type": "stream",
     "text": [
      "Model: \"model\"\n",
      "_________________________________________________________________\n",
      " Layer (type)                Output Shape              Param #   \n",
      "=================================================================\n",
      " input_layer (InputLayer)    [(None, 96, 96, 3)]       0         \n",
      "                                                                 \n",
      " efficientnetv2-l (Functiona  (None, 3, 3, 1280)       117746848 \n",
      " l)                                                              \n",
      "                                                                 \n",
      " global_average_pooling2d (G  (None, 1280)             0         \n",
      " lobalAveragePooling2D)                                          \n",
      "                                                                 \n",
      " dropout (Dropout)           (None, 1280)              0         \n",
      "                                                                 \n",
      " hidden_layer_1 (Dense)      (None, 512)               655872    \n",
      "                                                                 \n",
      " dropout_1 (Dropout)         (None, 512)               0         \n",
      "                                                                 \n",
      " hidden_layer_2 (Dense)      (None, 128)               65664     \n",
      "                                                                 \n",
      " dropout_2 (Dropout)         (None, 128)               0         \n",
      "                                                                 \n",
      " output_layer (Dense)        (None, 8)                 1032      \n",
      "                                                                 \n",
      "=================================================================\n",
      "Total params: 118,469,416\n",
      "Trainable params: 722,568\n",
      "Non-trainable params: 117,746,848\n",
      "_________________________________________________________________\n"
     ]
    }
   ],
   "source": [
    "saved_as_dataset = False\n",
    "if(saved_as_dataset):\n",
    "    model = tfk.models.load_model(f'/kaggle/input/efficientnetb2/{model_name}_all.h5')   \n",
    "else:\n",
    "    model = build_model(IMG_SHAPE, num_classes, freeze=True)\n",
    "model.summary()"
   ]
  },
  {
   "cell_type": "code",
   "execution_count": 16,
   "id": "8affd94b",
   "metadata": {
    "execution": {
     "iopub.execute_input": "2022-11-21T19:49:21.563968Z",
     "iopub.status.busy": "2022-11-21T19:49:21.563585Z",
     "iopub.status.idle": "2022-11-21T19:49:21.568395Z",
     "shell.execute_reply": "2022-11-21T19:49:21.567446Z"
    },
    "papermill": {
     "duration": 0.073239,
     "end_time": "2022-11-21T19:49:21.570370",
     "exception": false,
     "start_time": "2022-11-21T19:49:21.497131",
     "status": "completed"
    },
    "tags": []
   },
   "outputs": [],
   "source": [
    "  early_stopping_callback = tf.keras.callbacks.EarlyStopping(monitor='val_loss', patience=8, restore_best_weights=True)"
   ]
  },
  {
   "cell_type": "code",
   "execution_count": 17,
   "id": "954297b6",
   "metadata": {
    "execution": {
     "iopub.execute_input": "2022-11-21T19:49:21.786780Z",
     "iopub.status.busy": "2022-11-21T19:49:21.786199Z",
     "iopub.status.idle": "2022-11-21T20:03:43.428393Z",
     "shell.execute_reply": "2022-11-21T20:03:43.427363Z"
    },
    "id": "ILYzCGDom-P3",
    "outputId": "c9ee507b-7489-4e70-f0fc-d98792344c3b",
    "papermill": {
     "duration": 861.794763,
     "end_time": "2022-11-21T20:03:43.430886",
     "exception": false,
     "start_time": "2022-11-21T19:49:21.636123",
     "status": "completed"
    },
    "tags": []
   },
   "outputs": [
    {
     "name": "stdout",
     "output_type": "stream",
     "text": [
      "Epoch 1/50\n",
      "200/200 [==============================] - 57s 156ms/step - loss: 1.4073 - accuracy: 0.4879 - val_loss: 1.1543 - val_accuracy: 0.5755\n",
      "Epoch 2/50\n",
      "200/200 [==============================] - 18s 92ms/step - loss: 1.1676 - accuracy: 0.5685 - val_loss: 1.0440 - val_accuracy: 0.5926\n",
      "Epoch 3/50\n",
      "200/200 [==============================] - 19s 94ms/step - loss: 1.0816 - accuracy: 0.6036 - val_loss: 1.0148 - val_accuracy: 0.5954\n",
      "Epoch 4/50\n",
      "200/200 [==============================] - 19s 93ms/step - loss: 1.0698 - accuracy: 0.6105 - val_loss: 0.8876 - val_accuracy: 0.6496\n",
      "Epoch 5/50\n",
      "200/200 [==============================] - 19s 95ms/step - loss: 1.0177 - accuracy: 0.6264 - val_loss: 0.8429 - val_accuracy: 0.7037\n",
      "Epoch 6/50\n",
      "200/200 [==============================] - 19s 93ms/step - loss: 0.9928 - accuracy: 0.6352 - val_loss: 0.8792 - val_accuracy: 0.6667\n",
      "Epoch 7/50\n",
      "200/200 [==============================] - 18s 89ms/step - loss: 0.9947 - accuracy: 0.6506 - val_loss: 0.8094 - val_accuracy: 0.7094\n",
      "Epoch 8/50\n",
      "200/200 [==============================] - 19s 95ms/step - loss: 0.9462 - accuracy: 0.6622 - val_loss: 0.7719 - val_accuracy: 0.7379\n",
      "Epoch 9/50\n",
      "200/200 [==============================] - 18s 91ms/step - loss: 0.9586 - accuracy: 0.6553 - val_loss: 0.7445 - val_accuracy: 0.7464\n",
      "Epoch 10/50\n",
      "200/200 [==============================] - 19s 93ms/step - loss: 0.9108 - accuracy: 0.6778 - val_loss: 0.7418 - val_accuracy: 0.7322\n",
      "Epoch 11/50\n",
      "200/200 [==============================] - 18s 88ms/step - loss: 0.9250 - accuracy: 0.6697 - val_loss: 0.7700 - val_accuracy: 0.7151\n",
      "Epoch 12/50\n",
      "200/200 [==============================] - 19s 93ms/step - loss: 0.8775 - accuracy: 0.6822 - val_loss: 0.7410 - val_accuracy: 0.7407\n",
      "Epoch 13/50\n",
      "200/200 [==============================] - 18s 91ms/step - loss: 0.9028 - accuracy: 0.6735 - val_loss: 0.7471 - val_accuracy: 0.7236\n",
      "Epoch 14/50\n",
      "200/200 [==============================] - 18s 89ms/step - loss: 0.8418 - accuracy: 0.6929 - val_loss: 0.8848 - val_accuracy: 0.6695\n",
      "Epoch 15/50\n",
      "200/200 [==============================] - 19s 94ms/step - loss: 0.8583 - accuracy: 0.6879 - val_loss: 0.7281 - val_accuracy: 0.7379\n",
      "Epoch 16/50\n",
      "200/200 [==============================] - 18s 88ms/step - loss: 0.8766 - accuracy: 0.6791 - val_loss: 0.7690 - val_accuracy: 0.7179\n",
      "Epoch 17/50\n",
      "200/200 [==============================] - 18s 91ms/step - loss: 0.8580 - accuracy: 0.6976 - val_loss: 0.8155 - val_accuracy: 0.7179\n",
      "Epoch 18/50\n",
      "200/200 [==============================] - 18s 89ms/step - loss: 0.8311 - accuracy: 0.6929 - val_loss: 0.7376 - val_accuracy: 0.7379\n",
      "Epoch 19/50\n",
      "200/200 [==============================] - 19s 93ms/step - loss: 0.8658 - accuracy: 0.6973 - val_loss: 0.7204 - val_accuracy: 0.7635\n",
      "Epoch 20/50\n",
      "200/200 [==============================] - 19s 93ms/step - loss: 0.8349 - accuracy: 0.6926 - val_loss: 0.7249 - val_accuracy: 0.7407\n",
      "Epoch 21/50\n",
      "200/200 [==============================] - 17s 87ms/step - loss: 0.8287 - accuracy: 0.7079 - val_loss: 0.7379 - val_accuracy: 0.7493\n",
      "Epoch 22/50\n",
      "200/200 [==============================] - 18s 92ms/step - loss: 0.8004 - accuracy: 0.7142 - val_loss: 0.7010 - val_accuracy: 0.7664\n",
      "Epoch 23/50\n",
      "200/200 [==============================] - 18s 88ms/step - loss: 0.7808 - accuracy: 0.7211 - val_loss: 0.7299 - val_accuracy: 0.7379\n",
      "Epoch 24/50\n",
      "200/200 [==============================] - 19s 93ms/step - loss: 0.8118 - accuracy: 0.7039 - val_loss: 0.7212 - val_accuracy: 0.7550\n",
      "Epoch 25/50\n",
      "200/200 [==============================] - 19s 93ms/step - loss: 0.8045 - accuracy: 0.7189 - val_loss: 0.7564 - val_accuracy: 0.7265\n",
      "Epoch 26/50\n",
      "200/200 [==============================] - 19s 93ms/step - loss: 0.8055 - accuracy: 0.7082 - val_loss: 0.6923 - val_accuracy: 0.7379\n",
      "Epoch 27/50\n",
      "200/200 [==============================] - 19s 95ms/step - loss: 0.7853 - accuracy: 0.7133 - val_loss: 0.6772 - val_accuracy: 0.7493\n",
      "Epoch 28/50\n",
      "200/200 [==============================] - 19s 93ms/step - loss: 0.7827 - accuracy: 0.7283 - val_loss: 0.6488 - val_accuracy: 0.7664\n",
      "Epoch 29/50\n",
      "200/200 [==============================] - 18s 92ms/step - loss: 0.7866 - accuracy: 0.7161 - val_loss: 0.7140 - val_accuracy: 0.7721\n",
      "Epoch 30/50\n",
      "200/200 [==============================] - 18s 90ms/step - loss: 0.8080 - accuracy: 0.7189 - val_loss: 0.6866 - val_accuracy: 0.7635\n",
      "Epoch 31/50\n",
      "200/200 [==============================] - 19s 94ms/step - loss: 0.8027 - accuracy: 0.7136 - val_loss: 0.6459 - val_accuracy: 0.7835\n",
      "Epoch 32/50\n",
      "200/200 [==============================] - 18s 91ms/step - loss: 0.7609 - accuracy: 0.7255 - val_loss: 0.6695 - val_accuracy: 0.7692\n",
      "Epoch 33/50\n",
      "200/200 [==============================] - 18s 90ms/step - loss: 0.7659 - accuracy: 0.7264 - val_loss: 0.6440 - val_accuracy: 0.7721\n",
      "Epoch 34/50\n",
      "200/200 [==============================] - 18s 91ms/step - loss: 0.7556 - accuracy: 0.7349 - val_loss: 0.6500 - val_accuracy: 0.7863\n",
      "Epoch 35/50\n",
      "200/200 [==============================] - 19s 93ms/step - loss: 0.7498 - accuracy: 0.7339 - val_loss: 0.6404 - val_accuracy: 0.7806\n",
      "Epoch 36/50\n",
      "200/200 [==============================] - 18s 92ms/step - loss: 0.7487 - accuracy: 0.7274 - val_loss: 0.6292 - val_accuracy: 0.8063\n",
      "Epoch 37/50\n",
      "200/200 [==============================] - 18s 90ms/step - loss: 0.7403 - accuracy: 0.7264 - val_loss: 0.6406 - val_accuracy: 0.7778\n",
      "Epoch 38/50\n",
      "200/200 [==============================] - 18s 90ms/step - loss: 0.7256 - accuracy: 0.7321 - val_loss: 0.6625 - val_accuracy: 0.7578\n",
      "Epoch 39/50\n",
      "200/200 [==============================] - 18s 90ms/step - loss: 0.7525 - accuracy: 0.7302 - val_loss: 0.6480 - val_accuracy: 0.7664\n",
      "Epoch 40/50\n",
      "200/200 [==============================] - 17s 86ms/step - loss: 0.7290 - accuracy: 0.7411 - val_loss: 0.7082 - val_accuracy: 0.7293\n",
      "Epoch 41/50\n",
      "200/200 [==============================] - 18s 92ms/step - loss: 0.7701 - accuracy: 0.7314 - val_loss: 0.6786 - val_accuracy: 0.7778\n",
      "Epoch 42/50\n",
      "200/200 [==============================] - 18s 91ms/step - loss: 0.7467 - accuracy: 0.7343 - val_loss: 0.6648 - val_accuracy: 0.7635\n",
      "Epoch 43/50\n",
      "200/200 [==============================] - 18s 87ms/step - loss: 0.7437 - accuracy: 0.7380 - val_loss: 0.6585 - val_accuracy: 0.7607\n",
      "Epoch 44/50\n",
      "200/200 [==============================] - 19s 93ms/step - loss: 0.7226 - accuracy: 0.7499 - val_loss: 0.6955 - val_accuracy: 0.7607\n"
     ]
    }
   ],
   "source": [
    "train_FC = True\n",
    "if(train_FC):\n",
    "    history = model.fit(\n",
    "            x = train_gen,\n",
    "            epochs = 50,\n",
    "            validation_data = validation_gen,\n",
    "            callbacks = [early_stopping_callback]\n",
    "        ).history\n",
    "    model.save(f\"./models/{model_name}_FC_only.h5\")"
   ]
  },
  {
   "cell_type": "code",
   "execution_count": 18,
   "id": "38fb01c2",
   "metadata": {
    "execution": {
     "iopub.execute_input": "2022-11-21T20:03:44.544849Z",
     "iopub.status.busy": "2022-11-21T20:03:44.544478Z",
     "iopub.status.idle": "2022-11-21T20:14:49.758886Z",
     "shell.execute_reply": "2022-11-21T20:14:49.757043Z"
    },
    "papermill": {
     "duration": 665.799815,
     "end_time": "2022-11-21T20:14:49.761653",
     "exception": false,
     "start_time": "2022-11-21T20:03:43.961838",
     "status": "completed"
    },
    "tags": []
   },
   "outputs": [
    {
     "name": "stdout",
     "output_type": "stream",
     "text": [
      "Model: \"model\"\n",
      "_________________________________________________________________\n",
      " Layer (type)                Output Shape              Param #   \n",
      "=================================================================\n",
      " input_layer (InputLayer)    [(None, 96, 96, 3)]       0         \n",
      "                                                                 \n",
      " efficientnetv2-l (Functiona  (None, 3, 3, 1280)       117746848 \n",
      " l)                                                              \n",
      "                                                                 \n",
      " global_average_pooling2d (G  (None, 1280)             0         \n",
      " lobalAveragePooling2D)                                          \n",
      "                                                                 \n",
      " dropout (Dropout)           (None, 1280)              0         \n",
      "                                                                 \n",
      " hidden_layer_1 (Dense)      (None, 512)               655872    \n",
      "                                                                 \n",
      " dropout_1 (Dropout)         (None, 512)               0         \n",
      "                                                                 \n",
      " hidden_layer_2 (Dense)      (None, 128)               65664     \n",
      "                                                                 \n",
      " dropout_2 (Dropout)         (None, 128)               0         \n",
      "                                                                 \n",
      " output_layer (Dense)        (None, 8)                 1032      \n",
      "                                                                 \n",
      "=================================================================\n",
      "Total params: 118,469,416\n",
      "Trainable params: 5,236,008\n",
      "Non-trainable params: 113,233,408\n",
      "_________________________________________________________________\n",
      "Epoch 1/50\n",
      "200/200 [==============================] - 49s 129ms/step - loss: 1.3064 - accuracy: 0.5544 - val_loss: 0.9986 - val_accuracy: 0.6467\n",
      "Epoch 2/50\n",
      "200/200 [==============================] - 19s 93ms/step - loss: 1.0758 - accuracy: 0.6255 - val_loss: 0.9700 - val_accuracy: 0.6809\n",
      "Epoch 3/50\n",
      "200/200 [==============================] - 19s 95ms/step - loss: 0.9879 - accuracy: 0.6547 - val_loss: 0.9307 - val_accuracy: 0.7123\n",
      "Epoch 4/50\n",
      "200/200 [==============================] - 19s 95ms/step - loss: 0.9407 - accuracy: 0.6772 - val_loss: 0.9005 - val_accuracy: 0.6980\n",
      "Epoch 5/50\n",
      "200/200 [==============================] - 19s 93ms/step - loss: 0.9051 - accuracy: 0.6829 - val_loss: 0.7657 - val_accuracy: 0.7521\n",
      "Epoch 6/50\n",
      "200/200 [==============================] - 18s 91ms/step - loss: 0.8845 - accuracy: 0.6885 - val_loss: 0.7947 - val_accuracy: 0.7037\n",
      "Epoch 7/50\n",
      "200/200 [==============================] - 19s 94ms/step - loss: 0.8865 - accuracy: 0.6907 - val_loss: 0.7292 - val_accuracy: 0.7322\n",
      "Epoch 8/50\n",
      "200/200 [==============================] - 19s 95ms/step - loss: 0.8240 - accuracy: 0.7129 - val_loss: 0.7076 - val_accuracy: 0.7578\n",
      "Epoch 9/50\n",
      "200/200 [==============================] - 18s 91ms/step - loss: 0.7658 - accuracy: 0.7233 - val_loss: 0.7167 - val_accuracy: 0.7550\n",
      "Epoch 10/50\n",
      "200/200 [==============================] - 20s 98ms/step - loss: 0.7747 - accuracy: 0.7249 - val_loss: 0.7047 - val_accuracy: 0.7550\n",
      "Epoch 11/50\n",
      "200/200 [==============================] - 19s 95ms/step - loss: 0.7871 - accuracy: 0.7245 - val_loss: 0.7033 - val_accuracy: 0.7322\n",
      "Epoch 12/50\n",
      "200/200 [==============================] - 19s 95ms/step - loss: 0.7660 - accuracy: 0.7346 - val_loss: 0.6345 - val_accuracy: 0.7464\n",
      "Epoch 13/50\n",
      "200/200 [==============================] - 18s 92ms/step - loss: 0.7273 - accuracy: 0.7415 - val_loss: 0.6449 - val_accuracy: 0.7749\n",
      "Epoch 14/50\n",
      "200/200 [==============================] - 18s 88ms/step - loss: 0.7396 - accuracy: 0.7361 - val_loss: 0.6855 - val_accuracy: 0.7635\n",
      "Epoch 15/50\n",
      "200/200 [==============================] - 19s 95ms/step - loss: 0.7155 - accuracy: 0.7496 - val_loss: 0.6939 - val_accuracy: 0.7806\n",
      "Epoch 16/50\n",
      "200/200 [==============================] - 18s 91ms/step - loss: 0.7296 - accuracy: 0.7396 - val_loss: 0.7085 - val_accuracy: 0.7407\n",
      "Epoch 17/50\n",
      "200/200 [==============================] - 18s 90ms/step - loss: 0.7218 - accuracy: 0.7487 - val_loss: 0.6803 - val_accuracy: 0.7578\n",
      "Epoch 18/50\n",
      "200/200 [==============================] - 19s 95ms/step - loss: 0.7151 - accuracy: 0.7452 - val_loss: 0.6288 - val_accuracy: 0.7749\n",
      "Epoch 19/50\n",
      "200/200 [==============================] - 18s 91ms/step - loss: 0.6970 - accuracy: 0.7487 - val_loss: 0.6824 - val_accuracy: 0.7607\n",
      "Epoch 20/50\n",
      "200/200 [==============================] - 19s 94ms/step - loss: 0.6710 - accuracy: 0.7574 - val_loss: 0.6325 - val_accuracy: 0.8148\n",
      "Epoch 21/50\n",
      "200/200 [==============================] - 19s 92ms/step - loss: 0.6739 - accuracy: 0.7559 - val_loss: 0.6670 - val_accuracy: 0.7920\n",
      "Epoch 22/50\n",
      "200/200 [==============================] - 19s 93ms/step - loss: 0.6781 - accuracy: 0.7587 - val_loss: 0.6366 - val_accuracy: 0.7464\n",
      "Epoch 23/50\n",
      "200/200 [==============================] - 19s 95ms/step - loss: 0.6939 - accuracy: 0.7621 - val_loss: 0.5966 - val_accuracy: 0.8006\n",
      "Epoch 24/50\n",
      "200/200 [==============================] - 19s 93ms/step - loss: 0.6439 - accuracy: 0.7806 - val_loss: 0.6135 - val_accuracy: 0.7806\n",
      "Epoch 25/50\n",
      "200/200 [==============================] - 20s 98ms/step - loss: 0.6193 - accuracy: 0.7831 - val_loss: 0.5501 - val_accuracy: 0.8120\n",
      "Epoch 26/50\n",
      "200/200 [==============================] - 18s 88ms/step - loss: 0.6504 - accuracy: 0.7656 - val_loss: 0.5719 - val_accuracy: 0.8006\n",
      "Epoch 27/50\n",
      "200/200 [==============================] - 19s 92ms/step - loss: 0.6211 - accuracy: 0.7841 - val_loss: 0.5576 - val_accuracy: 0.8177\n",
      "Epoch 28/50\n",
      "200/200 [==============================] - 19s 95ms/step - loss: 0.6300 - accuracy: 0.7825 - val_loss: 0.5883 - val_accuracy: 0.7949\n",
      "Epoch 29/50\n",
      "200/200 [==============================] - 19s 92ms/step - loss: 0.6375 - accuracy: 0.7819 - val_loss: 0.6003 - val_accuracy: 0.8063\n",
      "Epoch 30/50\n",
      "200/200 [==============================] - 19s 94ms/step - loss: 0.6316 - accuracy: 0.7847 - val_loss: 0.6385 - val_accuracy: 0.7835\n",
      "Epoch 31/50\n",
      "200/200 [==============================] - 18s 89ms/step - loss: 0.6188 - accuracy: 0.7891 - val_loss: 0.5846 - val_accuracy: 0.7892\n",
      "Epoch 32/50\n",
      "200/200 [==============================] - 19s 97ms/step - loss: 0.5828 - accuracy: 0.7944 - val_loss: 0.5889 - val_accuracy: 0.7835\n",
      "Epoch 33/50\n",
      "200/200 [==============================] - 19s 93ms/step - loss: 0.6133 - accuracy: 0.7872 - val_loss: 0.6624 - val_accuracy: 0.7692\n"
     ]
    }
   ],
   "source": [
    "# Fine tune also the last 5/10 layers of the feature extraction part\n",
    "train_CNN = True\n",
    "if(train_CNN):\n",
    "    model = tfk.models.load_model(f\"./models/{model_name}_FC_only.h5\")\n",
    "    leave_freeze = len(model.get_layer(layer_name).layers) - 10\n",
    "    for layer in model.get_layer(layer_name).layers[:leave_freeze]:\n",
    "       layer.trainable = False\n",
    "    for layer in model.get_layer(layer_name).layers[leave_freeze:]:\n",
    "       layer.trainable = True\n",
    "    model.compile(loss=tfk.losses.CategoricalCrossentropy(), optimizer=tfk.optimizers.Adam(),metrics=\"accuracy\")\n",
    "    model.summary()\n",
    "    history = model.fit(\n",
    "            x = train_gen,\n",
    "            epochs = 50,\n",
    "            validation_data = validation_gen,\n",
    "            callbacks = [early_stopping_callback]\n",
    "        ).history\n",
    "    model.save(f\"./models/{model_name}_CNN_tuned.h5\")"
   ]
  },
  {
   "cell_type": "code",
   "execution_count": 19,
   "id": "6266ddbf",
   "metadata": {
    "execution": {
     "iopub.execute_input": "2022-11-21T20:14:51.588900Z",
     "iopub.status.busy": "2022-11-21T20:14:51.588489Z",
     "iopub.status.idle": "2022-11-21T20:30:31.150083Z",
     "shell.execute_reply": "2022-11-21T20:30:31.148563Z"
    },
    "papermill": {
     "duration": 940.438932,
     "end_time": "2022-11-21T20:30:31.160149",
     "exception": false,
     "start_time": "2022-11-21T20:14:50.721217",
     "status": "completed"
    },
    "tags": []
   },
   "outputs": [
    {
     "name": "stdout",
     "output_type": "stream",
     "text": [
      "Model: \"model\"\n",
      "_________________________________________________________________\n",
      " Layer (type)                Output Shape              Param #   \n",
      "=================================================================\n",
      " input_layer (InputLayer)    [(None, 96, 96, 3)]       0         \n",
      "                                                                 \n",
      " efficientnetv2-l (Functiona  (None, 3, 3, 1280)       117746848 \n",
      " l)                                                              \n",
      "                                                                 \n",
      " global_average_pooling2d (G  (None, 1280)             0         \n",
      " lobalAveragePooling2D)                                          \n",
      "                                                                 \n",
      " dropout (Dropout)           (None, 1280)              0         \n",
      "                                                                 \n",
      " hidden_layer_1 (Dense)      (None, 512)               655872    \n",
      "                                                                 \n",
      " dropout_1 (Dropout)         (None, 512)               0         \n",
      "                                                                 \n",
      " hidden_layer_2 (Dense)      (None, 128)               65664     \n",
      "                                                                 \n",
      " dropout_2 (Dropout)         (None, 128)               0         \n",
      "                                                                 \n",
      " output_layer (Dense)        (None, 8)                 1032      \n",
      "                                                                 \n",
      "=================================================================\n",
      "Total params: 118,469,416\n",
      "Trainable params: 117,956,840\n",
      "Non-trainable params: 512,576\n",
      "_________________________________________________________________\n",
      "Epoch 1/200\n",
      "200/200 [==============================] - 102s 305ms/step - loss: nan - accuracy: 0.1250 - val_loss: nan - val_accuracy: 0.0513\n",
      "Epoch 2/200\n",
      "200/200 [==============================] - 55s 273ms/step - loss: nan - accuracy: 0.0526 - val_loss: nan - val_accuracy: 0.0513\n",
      "Epoch 3/200\n",
      "200/200 [==============================] - 55s 275ms/step - loss: nan - accuracy: 0.0526 - val_loss: nan - val_accuracy: 0.0513\n",
      "Epoch 4/200\n",
      "200/200 [==============================] - 54s 269ms/step - loss: nan - accuracy: 0.0526 - val_loss: nan - val_accuracy: 0.0513\n",
      "Epoch 5/200\n",
      "200/200 [==============================] - 55s 273ms/step - loss: nan - accuracy: 0.0526 - val_loss: nan - val_accuracy: 0.0513\n",
      "Epoch 6/200\n",
      "200/200 [==============================] - 54s 271ms/step - loss: nan - accuracy: 0.0526 - val_loss: nan - val_accuracy: 0.0513\n",
      "Epoch 7/200\n",
      "200/200 [==============================] - 54s 268ms/step - loss: nan - accuracy: 0.0526 - val_loss: nan - val_accuracy: 0.0513\n",
      "Epoch 8/200\n",
      "200/200 [==============================] - 54s 270ms/step - loss: nan - accuracy: 0.0526 - val_loss: nan - val_accuracy: 0.0513\n",
      "Epoch 9/200\n",
      "200/200 [==============================] - 54s 272ms/step - loss: nan - accuracy: 0.0526 - val_loss: nan - val_accuracy: 0.0513\n",
      "Epoch 10/200\n",
      "200/200 [==============================] - 54s 271ms/step - loss: nan - accuracy: 0.0526 - val_loss: nan - val_accuracy: 0.0513\n",
      "Epoch 11/200\n",
      "200/200 [==============================] - 55s 274ms/step - loss: nan - accuracy: 0.0526 - val_loss: nan - val_accuracy: 0.0513\n",
      "Epoch 12/200\n",
      "200/200 [==============================] - 55s 276ms/step - loss: nan - accuracy: 0.0526 - val_loss: nan - val_accuracy: 0.0513\n",
      "Epoch 13/200\n",
      "200/200 [==============================] - 55s 275ms/step - loss: nan - accuracy: 0.0526 - val_loss: nan - val_accuracy: 0.0513\n",
      "Epoch 14/200\n",
      "200/200 [==============================] - 54s 271ms/step - loss: nan - accuracy: 0.0526 - val_loss: nan - val_accuracy: 0.0513\n",
      "Epoch 15/200\n",
      "200/200 [==============================] - 56s 278ms/step - loss: nan - accuracy: 0.0526 - val_loss: nan - val_accuracy: 0.0513\n"
     ]
    }
   ],
   "source": [
    "# Fine tune all the model\n",
    "early_stopping_callback = tf.keras.callbacks.EarlyStopping(monitor='val_loss', patience=15, restore_best_weights=True)\n",
    "train_all = True\n",
    "if(train_all):\n",
    "    model = tfk.models.load_model(f\"./models/{model_name}_CNN_tuned.h5\")\n",
    "    for layer in model.get_layer(layer_name).layers:\n",
    "       layer.trainable = True\n",
    "    model.compile(loss=tfk.losses.CategoricalCrossentropy(), optimizer=tfk.optimizers.Adam(),metrics=\"accuracy\")\n",
    "    model.summary()\n",
    "    history = model.fit(\n",
    "            x = train_gen,\n",
    "            epochs = 200,\n",
    "            validation_data = validation_gen,\n",
    "            callbacks = [early_stopping_callback]\n",
    "        ).history\n",
    "    model.save(f\"./models/{model_name}_all.h5\")"
   ]
  },
  {
   "cell_type": "code",
   "execution_count": 20,
   "id": "4e721cdd",
   "metadata": {
    "execution": {
     "iopub.execute_input": "2022-11-21T20:30:35.252684Z",
     "iopub.status.busy": "2022-11-21T20:30:35.251828Z",
     "iopub.status.idle": "2022-11-21T20:31:53.488521Z",
     "shell.execute_reply": "2022-11-21T20:31:53.487505Z"
    },
    "papermill": {
     "duration": 79.813202,
     "end_time": "2022-11-21T20:31:53.491328",
     "exception": false,
     "start_time": "2022-11-21T20:30:33.678126",
     "status": "completed"
    },
    "tags": []
   },
   "outputs": [
    {
     "name": "stdout",
     "output_type": "stream",
     "text": [
      "Model: \"model\"\n",
      "_________________________________________________________________\n",
      " Layer (type)                Output Shape              Param #   \n",
      "=================================================================\n",
      " input_layer (InputLayer)    [(None, 96, 96, 3)]       0         \n",
      "                                                                 \n",
      " efficientnetv2-l (Functiona  (None, 3, 3, 1280)       117746848 \n",
      " l)                                                              \n",
      "                                                                 \n",
      " global_average_pooling2d (G  (None, 1280)             0         \n",
      " lobalAveragePooling2D)                                          \n",
      "                                                                 \n",
      " dropout (Dropout)           (None, 1280)              0         \n",
      "                                                                 \n",
      " hidden_layer_1 (Dense)      (None, 512)               655872    \n",
      "                                                                 \n",
      " dropout_1 (Dropout)         (None, 512)               0         \n",
      "                                                                 \n",
      " hidden_layer_2 (Dense)      (None, 128)               65664     \n",
      "                                                                 \n",
      " dropout_2 (Dropout)         (None, 128)               0         \n",
      "                                                                 \n",
      " output_layer (Dense)        (None, 8)                 1032      \n",
      "                                                                 \n",
      "=================================================================\n",
      "Total params: 118,469,416\n",
      "Trainable params: 117,956,840\n",
      "Non-trainable params: 512,576\n",
      "_________________________________________________________________\n",
      "Epoch 1/5\n",
      "22/22 [==============================] - 39s 251ms/step - loss: nan - accuracy: 0.0513\n",
      "Epoch 2/5\n",
      "22/22 [==============================] - 5s 221ms/step - loss: nan - accuracy: 0.0513\n",
      "Epoch 3/5\n",
      "22/22 [==============================] - 5s 223ms/step - loss: nan - accuracy: 0.0513\n",
      "Epoch 4/5\n",
      "22/22 [==============================] - 5s 220ms/step - loss: nan - accuracy: 0.0513\n",
      "Epoch 5/5\n",
      "22/22 [==============================] - 5s 224ms/step - loss: nan - accuracy: 0.0513\n"
     ]
    }
   ],
   "source": [
    "# Retrain also on validation with low learining rate\n",
    "last_train = True\n",
    "model = tfk.models.load_model(f\"./models/{model_name}_all.h5\")\n",
    "if(last_train):\n",
    "    for layer in model.get_layer(layer_name).layers:\n",
    "       layer.trainable = True\n",
    "    model.compile(loss=tfk.losses.CategoricalCrossentropy(), optimizer=tfk.optimizers.SGD(learning_rate=1e-6),metrics=\"accuracy\")\n",
    "    model.summary()\n",
    "    history = model.fit(\n",
    "                x = validation_gen,\n",
    "                epochs = 5\n",
    "            ).history\n",
    "    model.save(f\"./models/{model_name}_final.h5\")"
   ]
  },
  {
   "cell_type": "markdown",
   "id": "c75cfd76",
   "metadata": {
    "papermill": {
     "duration": 1.106499,
     "end_time": "2022-11-21T20:31:55.632873",
     "exception": false,
     "start_time": "2022-11-21T20:31:54.526374",
     "status": "completed"
    },
    "tags": []
   },
   "source": [
    "# Create submission"
   ]
  },
  {
   "cell_type": "code",
   "execution_count": 21,
   "id": "e59bf46c",
   "metadata": {
    "execution": {
     "iopub.execute_input": "2022-11-21T20:31:57.822795Z",
     "iopub.status.busy": "2022-11-21T20:31:57.822412Z",
     "iopub.status.idle": "2022-11-21T20:31:58.856711Z",
     "shell.execute_reply": "2022-11-21T20:31:58.855488Z"
    },
    "papermill": {
     "duration": 2.130147,
     "end_time": "2022-11-21T20:31:58.859365",
     "exception": false,
     "start_time": "2022-11-21T20:31:56.729218",
     "status": "completed"
    },
    "tags": []
   },
   "outputs": [
    {
     "name": "stdout",
     "output_type": "stream",
     "text": [
      "import os\r\n",
      "import tensorflow as tf\r\n",
      "class model:\r\n",
      "    def __init__(self, path):\r\n",
      "        self.model = tf.keras.models.load_model(os.path.join(path, f\"SubmissionModel/model.h5\"))\r\n",
      "        self.preprocess_input = getattr(tf.keras.applications, 'efficientnet_v2' ).preprocess_input\r\n",
      "    def predict(self, X):\r\n",
      "        X = self.preprocess_input(X)\r\n",
      "        out = self.model.predict(X)\r\n",
      "        out = tf.argmax(out, axis=-1)\r\n",
      "        return out"
     ]
    }
   ],
   "source": [
    "with open(\"template.py\", \"w\") as file:\n",
    "  file.write(\n",
    "f\"\"\"import os\n",
    "import tensorflow as tf\n",
    "class model:\n",
    "    def __init__(self, path):\n",
    "        self.model = tf.keras.models.load_model(os.path.join(path, f\"SubmissionModel/model.h5\"))\n",
    "        self.preprocess_input = getattr(tf.keras.applications, '{cat_name}' ).preprocess_input\n",
    "    def predict(self, X):\n",
    "        X = self.preprocess_input(X)\n",
    "        out = self.model.predict(X)\n",
    "        out = tf.argmax(out, axis=-1)\n",
    "        return out\"\"\")\n",
    "!cat template.py"
   ]
  },
  {
   "cell_type": "code",
   "execution_count": 22,
   "id": "ca41e9c9",
   "metadata": {
    "execution": {
     "iopub.execute_input": "2022-11-21T20:32:00.987848Z",
     "iopub.status.busy": "2022-11-21T20:32:00.987101Z",
     "iopub.status.idle": "2022-11-21T20:32:24.343695Z",
     "shell.execute_reply": "2022-11-21T20:32:24.342316Z"
    },
    "papermill": {
     "duration": 24.385585,
     "end_time": "2022-11-21T20:32:24.347185",
     "exception": false,
     "start_time": "2022-11-21T20:31:59.961600",
     "status": "completed"
    },
    "tags": []
   },
   "outputs": [
    {
     "name": "stdout",
     "output_type": "stream",
     "text": [
      "rm: cannot remove 'submission.zip': No such file or directory\r\n",
      "  adding: submission/SubmissionModel/ (stored 0%)\r\n",
      "  adding: submission/SubmissionModel/model.h5 (deflated 100%)\r\n",
      "  adding: submission/metadata (stored 0%)\r\n",
      "  adding: submission/model.py (deflated 46%)\r\n"
     ]
    }
   ],
   "source": [
    "! rm submission.zip\n",
    "! rm -rf ./submission\n",
    "! mkdir ./submission\n",
    "! mkdir ./submission/SubmissionModel\n",
    "! touch ./submission/metadata\n",
    "! cp ./models/$model_name\\_all.h5 ./submission/SubmissionModel/model.h5\n",
    "! cp template.py ./submission/model.py\n",
    "! zip -r submission.zip submission/*\n"
   ]
  },
  {
   "cell_type": "code",
   "execution_count": 23,
   "id": "e4c71289",
   "metadata": {
    "execution": {
     "iopub.execute_input": "2022-11-21T20:32:26.658432Z",
     "iopub.status.busy": "2022-11-21T20:32:26.658038Z",
     "iopub.status.idle": "2022-11-21T20:32:26.663169Z",
     "shell.execute_reply": "2022-11-21T20:32:26.662084Z"
    },
    "papermill": {
     "duration": 1.108707,
     "end_time": "2022-11-21T20:32:26.665267",
     "exception": false,
     "start_time": "2022-11-21T20:32:25.556560",
     "status": "completed"
    },
    "tags": []
   },
   "outputs": [],
   "source": [
    "from IPython.display import FileLink\n",
    "#FileLink(r'submission.zip')"
   ]
  },
  {
   "cell_type": "markdown",
   "id": "13c27a61",
   "metadata": {
    "papermill": {
     "duration": 1.108881,
     "end_time": "2022-11-21T20:32:28.878206",
     "exception": false,
     "start_time": "2022-11-21T20:32:27.769325",
     "status": "completed"
    },
    "tags": []
   },
   "source": [
    "# Test submission"
   ]
  },
  {
   "cell_type": "code",
   "execution_count": 24,
   "id": "c2947341",
   "metadata": {
    "execution": {
     "iopub.execute_input": "2022-11-21T20:32:31.029886Z",
     "iopub.status.busy": "2022-11-21T20:32:31.029390Z",
     "iopub.status.idle": "2022-11-21T20:32:46.687440Z",
     "shell.execute_reply": "2022-11-21T20:32:46.686412Z"
    },
    "papermill": {
     "duration": 16.739602,
     "end_time": "2022-11-21T20:32:46.690047",
     "exception": false,
     "start_time": "2022-11-21T20:32:29.950445",
     "status": "completed"
    },
    "tags": []
   },
   "outputs": [],
   "source": [
    "from template import model\n",
    "test_model = model('./submission')"
   ]
  },
  {
   "cell_type": "code",
   "execution_count": 25,
   "id": "cd22272d",
   "metadata": {
    "execution": {
     "iopub.execute_input": "2022-11-21T20:32:48.984989Z",
     "iopub.status.busy": "2022-11-21T20:32:48.983864Z",
     "iopub.status.idle": "2022-11-21T20:33:10.411803Z",
     "shell.execute_reply": "2022-11-21T20:33:10.410803Z"
    },
    "papermill": {
     "duration": 22.618334,
     "end_time": "2022-11-21T20:33:10.414645",
     "exception": false,
     "start_time": "2022-11-21T20:32:47.796311",
     "status": "completed"
    },
    "tags": []
   },
   "outputs": [],
   "source": [
    "image = Image.open('/kaggle/input/homework1/training_data_final/Species1/00006.jpg')\n",
    "frame = np.expand_dims(np.asarray(image), 0)\n",
    "pred = test_model.predict(train_noval_gen_all)"
   ]
  },
  {
   "cell_type": "code",
   "execution_count": 26,
   "id": "9480a876",
   "metadata": {
    "execution": {
     "iopub.execute_input": "2022-11-21T20:33:12.565411Z",
     "iopub.status.busy": "2022-11-21T20:33:12.564689Z",
     "iopub.status.idle": "2022-11-21T20:33:12.578645Z",
     "shell.execute_reply": "2022-11-21T20:33:12.577798Z"
    },
    "papermill": {
     "duration": 1.049276,
     "end_time": "2022-11-21T20:33:12.580661",
     "exception": false,
     "start_time": "2022-11-21T20:33:11.531385",
     "status": "completed"
    },
    "tags": []
   },
   "outputs": [
    {
     "name": "stdout",
     "output_type": "stream",
     "text": [
      "0.05251270468661773\n"
     ]
    },
    {
     "data": {
      "text/plain": [
       "array([[186, 532, 515, 511, 531, 222, 537, 508],\n",
       "       [  0,   0,   0,   0,   0,   0,   0,   0],\n",
       "       [  0,   0,   0,   0,   0,   0,   0,   0],\n",
       "       [  0,   0,   0,   0,   0,   0,   0,   0],\n",
       "       [  0,   0,   0,   0,   0,   0,   0,   0],\n",
       "       [  0,   0,   0,   0,   0,   0,   0,   0],\n",
       "       [  0,   0,   0,   0,   0,   0,   0,   0],\n",
       "       [  0,   0,   0,   0,   0,   0,   0,   0]])"
      ]
     },
     "execution_count": 26,
     "metadata": {},
     "output_type": "execute_result"
    }
   ],
   "source": [
    "from sklearn.metrics import confusion_matrix, accuracy_score\n",
    "print(accuracy_score(pred,train_noval_gen_all.labels ))\n",
    "confusion_matrix(pred,train_noval_gen_all.labels )"
   ]
  },
  {
   "cell_type": "code",
   "execution_count": null,
   "id": "da1e2ff5",
   "metadata": {
    "papermill": {
     "duration": 1.093139,
     "end_time": "2022-11-21T20:33:14.774192",
     "exception": false,
     "start_time": "2022-11-21T20:33:13.681053",
     "status": "completed"
    },
    "tags": []
   },
   "outputs": [],
   "source": []
  }
 ],
 "metadata": {
  "kernelspec": {
   "display_name": "Python 3",
   "language": "python",
   "name": "python3"
  },
  "language_info": {
   "codemirror_mode": {
    "name": "ipython",
    "version": 3
   },
   "file_extension": ".py",
   "mimetype": "text/x-python",
   "name": "python",
   "nbconvert_exporter": "python",
   "pygments_lexer": "ipython3",
   "version": "3.7.12"
  },
  "papermill": {
   "default_parameters": {},
   "duration": 2850.337876,
   "end_time": "2022-11-21T20:33:18.798842",
   "environment_variables": {},
   "exception": null,
   "input_path": "__notebook__.ipynb",
   "output_path": "__notebook__.ipynb",
   "parameters": {},
   "start_time": "2022-11-21T19:45:48.460966",
   "version": "2.3.4"
  }
 },
 "nbformat": 4,
 "nbformat_minor": 5
}

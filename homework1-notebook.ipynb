{
 "cells": [
  {
   "cell_type": "markdown",
   "id": "d1606de6",
   "metadata": {
    "id": "7pNr8l2ASTe-",
    "papermill": {
     "duration": 0.005121,
     "end_time": "2022-11-11T15:40:03.879778",
     "exception": false,
     "start_time": "2022-11-11T15:40:03.874657",
     "status": "completed"
    },
    "tags": []
   },
   "source": [
    "# Import libraries"
   ]
  },
  {
   "cell_type": "code",
   "execution_count": 1,
   "id": "013b0fd4",
   "metadata": {
    "execution": {
     "iopub.execute_input": "2022-11-11T15:40:03.890003Z",
     "iopub.status.busy": "2022-11-11T15:40:03.889409Z",
     "iopub.status.idle": "2022-11-11T15:40:13.523814Z",
     "shell.execute_reply": "2022-11-11T15:40:13.521772Z"
    },
    "id": "uDZjJu1bSWnM",
    "outputId": "db2405b9-4b22-4a8c-bb43-831809b3830b",
    "papermill": {
     "duration": 9.643485,
     "end_time": "2022-11-11T15:40:13.527320",
     "exception": false,
     "start_time": "2022-11-11T15:40:03.883835",
     "status": "completed"
    },
    "tags": []
   },
   "outputs": [
    {
     "name": "stdout",
     "output_type": "stream",
     "text": [
      "2.6.4\n",
      "Found GPU at: /device:GPU:0\n"
     ]
    },
    {
     "name": "stderr",
     "output_type": "stream",
     "text": [
      "2022-11-11 15:40:10.966442: I tensorflow/core/platform/cpu_feature_guard.cc:142] This TensorFlow binary is optimized with oneAPI Deep Neural Network Library (oneDNN) to use the following CPU instructions in performance-critical operations:  AVX2 AVX512F FMA\n",
      "To enable them in other operations, rebuild TensorFlow with the appropriate compiler flags.\n",
      "2022-11-11 15:40:11.029206: I tensorflow/stream_executor/cuda/cuda_gpu_executor.cc:937] successful NUMA node read from SysFS had negative value (-1), but there must be at least one NUMA node, so returning NUMA node zero\n",
      "2022-11-11 15:40:11.146741: I tensorflow/stream_executor/cuda/cuda_gpu_executor.cc:937] successful NUMA node read from SysFS had negative value (-1), but there must be at least one NUMA node, so returning NUMA node zero\n",
      "2022-11-11 15:40:11.147591: I tensorflow/stream_executor/cuda/cuda_gpu_executor.cc:937] successful NUMA node read from SysFS had negative value (-1), but there must be at least one NUMA node, so returning NUMA node zero\n",
      "2022-11-11 15:40:13.501738: I tensorflow/stream_executor/cuda/cuda_gpu_executor.cc:937] successful NUMA node read from SysFS had negative value (-1), but there must be at least one NUMA node, so returning NUMA node zero\n",
      "2022-11-11 15:40:13.502609: I tensorflow/stream_executor/cuda/cuda_gpu_executor.cc:937] successful NUMA node read from SysFS had negative value (-1), but there must be at least one NUMA node, so returning NUMA node zero\n",
      "2022-11-11 15:40:13.503328: I tensorflow/stream_executor/cuda/cuda_gpu_executor.cc:937] successful NUMA node read from SysFS had negative value (-1), but there must be at least one NUMA node, so returning NUMA node zero\n",
      "2022-11-11 15:40:13.504001: I tensorflow/core/common_runtime/gpu/gpu_device.cc:1510] Created device /device:GPU:0 with 15401 MB memory:  -> device: 0, name: Tesla P100-PCIE-16GB, pci bus id: 0000:00:04.0, compute capability: 6.0\n"
     ]
    }
   ],
   "source": [
    "import os\n",
    "import tensorflow as tf\n",
    "import tensorflow_datasets as tfds\n",
    "import numpy as np\n",
    "import random\n",
    "import pandas as pd\n",
    "import seaborn as sns\n",
    "import matplotlib as mpl\n",
    "import matplotlib.pyplot as plt\n",
    "from sklearn.model_selection import train_test_split\n",
    "from sklearn.metrics import accuracy_score, f1_score, precision_score, recall_score\n",
    "from sklearn.metrics import confusion_matrix\n",
    "from PIL import Image\n",
    "\n",
    "tfk = tf.keras\n",
    "tfkl = tf.keras.layers\n",
    "print(tf.__version__)\n",
    "device_name = tf.test.gpu_device_name()\n",
    "if \"GPU\" not in device_name:\n",
    "    print(\"GPU device not found\")\n",
    "print('Found GPU at: {}'.format(device_name))"
   ]
  },
  {
   "cell_type": "code",
   "execution_count": 2,
   "id": "2f50779f",
   "metadata": {
    "execution": {
     "iopub.execute_input": "2022-11-11T15:40:13.539010Z",
     "iopub.status.busy": "2022-11-11T15:40:13.538434Z",
     "iopub.status.idle": "2022-11-11T15:40:13.544573Z",
     "shell.execute_reply": "2022-11-11T15:40:13.543422Z"
    },
    "id": "qAOYVjttZupE",
    "papermill": {
     "duration": 0.014573,
     "end_time": "2022-11-11T15:40:13.546971",
     "exception": false,
     "start_time": "2022-11-11T15:40:13.532398",
     "status": "completed"
    },
    "tags": []
   },
   "outputs": [],
   "source": [
    "# Random seed for reproducibility\n",
    "seed = 42\n",
    "\n",
    "random.seed(seed)\n",
    "os.environ['PYTHONHASHSEED'] = str(seed)\n",
    "np.random.seed(seed)\n",
    "tf.random.set_seed(seed)\n",
    "tf.compat.v1.set_random_seed(seed)"
   ]
  },
  {
   "cell_type": "code",
   "execution_count": 3,
   "id": "ef35ddeb",
   "metadata": {
    "execution": {
     "iopub.execute_input": "2022-11-11T15:40:13.556537Z",
     "iopub.status.busy": "2022-11-11T15:40:13.555768Z",
     "iopub.status.idle": "2022-11-11T15:40:13.567460Z",
     "shell.execute_reply": "2022-11-11T15:40:13.565665Z"
    },
    "papermill": {
     "duration": 0.018818,
     "end_time": "2022-11-11T15:40:13.569777",
     "exception": false,
     "start_time": "2022-11-11T15:40:13.550959",
     "status": "completed"
    },
    "tags": []
   },
   "outputs": [
    {
     "name": "stdout",
     "output_type": "stream",
     "text": [
      "--> Checking for physical Tensorflow devices\n",
      ": /physical_device:CPU:0\n",
      ": /physical_device:GPU:0\n"
     ]
    },
    {
     "name": "stderr",
     "output_type": "stream",
     "text": [
      "2022-11-11 15:40:13.558692: I tensorflow/stream_executor/cuda/cuda_gpu_executor.cc:937] successful NUMA node read from SysFS had negative value (-1), but there must be at least one NUMA node, so returning NUMA node zero\n",
      "2022-11-11 15:40:13.559698: I tensorflow/stream_executor/cuda/cuda_gpu_executor.cc:937] successful NUMA node read from SysFS had negative value (-1), but there must be at least one NUMA node, so returning NUMA node zero\n",
      "2022-11-11 15:40:13.560364: I tensorflow/stream_executor/cuda/cuda_gpu_executor.cc:937] successful NUMA node read from SysFS had negative value (-1), but there must be at least one NUMA node, so returning NUMA node zero\n"
     ]
    }
   ],
   "source": [
    "print(\"--> Checking for physical Tensorflow devices\")\n",
    "for device in tf.config.list_physical_devices():\n",
    "    print(\": {}\".format(device.name))"
   ]
  },
  {
   "cell_type": "markdown",
   "id": "f7edfe18",
   "metadata": {
    "id": "3khGT668SYkL",
    "papermill": {
     "duration": 0.003825,
     "end_time": "2022-11-11T15:40:13.577829",
     "exception": false,
     "start_time": "2022-11-11T15:40:13.574004",
     "status": "completed"
    },
    "tags": []
   },
   "source": [
    "# Load data"
   ]
  },
  {
   "cell_type": "markdown",
   "id": "ba77fbe6",
   "metadata": {
    "id": "Qp1206gDUHBi",
    "papermill": {
     "duration": 0.003866,
     "end_time": "2022-11-11T15:40:13.585942",
     "exception": false,
     "start_time": "2022-11-11T15:40:13.582076",
     "status": "completed"
    },
    "tags": []
   },
   "source": [
    "Solo questo dovrebbe essere diverso durante la challenge"
   ]
  },
  {
   "cell_type": "code",
   "execution_count": 4,
   "id": "8f162439",
   "metadata": {
    "execution": {
     "iopub.execute_input": "2022-11-11T15:40:13.596361Z",
     "iopub.status.busy": "2022-11-11T15:40:13.595281Z",
     "iopub.status.idle": "2022-11-11T15:40:13.600230Z",
     "shell.execute_reply": "2022-11-11T15:40:13.599371Z"
    },
    "id": "lfjHi8NMbmRA",
    "papermill": {
     "duration": 0.012201,
     "end_time": "2022-11-11T15:40:13.602206",
     "exception": false,
     "start_time": "2022-11-11T15:40:13.590005",
     "status": "completed"
    },
    "tags": []
   },
   "outputs": [],
   "source": [
    "dataset_dir = '/kaggle/input/homework1/training_data_final'\n",
    "image_size = (96,96)"
   ]
  },
  {
   "cell_type": "markdown",
   "id": "c71945ce",
   "metadata": {
    "id": "N45qPtXjcRF7",
    "papermill": {
     "duration": 0.003857,
     "end_time": "2022-11-11T15:40:13.610139",
     "exception": false,
     "start_time": "2022-11-11T15:40:13.606282",
     "status": "completed"
    },
    "tags": []
   },
   "source": [
    "# Dataloader and Data Augmentation"
   ]
  },
  {
   "cell_type": "markdown",
   "id": "d40e0e87",
   "metadata": {
    "id": "NoKD5-vHemld",
    "papermill": {
     "duration": 0.003925,
     "end_time": "2022-11-11T15:40:13.618203",
     "exception": false,
     "start_time": "2022-11-11T15:40:13.614278",
     "status": "completed"
    },
    "tags": []
   },
   "source": [
    "We can fine tune this"
   ]
  },
  {
   "cell_type": "code",
   "execution_count": 5,
   "id": "d9c39773",
   "metadata": {
    "execution": {
     "iopub.execute_input": "2022-11-11T15:40:13.629129Z",
     "iopub.status.busy": "2022-11-11T15:40:13.627680Z",
     "iopub.status.idle": "2022-11-11T15:40:14.483646Z",
     "shell.execute_reply": "2022-11-11T15:40:14.482466Z"
    },
    "id": "9ngk1QEnagfU",
    "outputId": "1dde0f93-a907-464b-95bf-3532181799e0",
    "papermill": {
     "duration": 0.864071,
     "end_time": "2022-11-11T15:40:14.486373",
     "exception": false,
     "start_time": "2022-11-11T15:40:13.622302",
     "status": "completed"
    },
    "tags": []
   },
   "outputs": [
    {
     "name": "stdout",
     "output_type": "stream",
     "text": [
      "Found 2836 images belonging to 8 classes.\n",
      "Found 706 images belonging to 8 classes.\n"
     ]
    }
   ],
   "source": [
    "# Create an instance of ImageDataGenerator with Data Augmentationonly for training\n",
    "aug_train_data_gen = tfk.preprocessing.image.ImageDataGenerator(rotation_range=30,\n",
    "                                        height_shift_range=50,\n",
    "                                        width_shift_range=50,\n",
    "                                        zoom_range=0.3,\n",
    "                                        horizontal_flip=True,\n",
    "                                        vertical_flip=True, \n",
    "                                        fill_mode='reflect',\n",
    "                                        rescale=1/255.,\n",
    "                                        validation_split=0.2)\n",
    "\n",
    "aug_validation_data_gen = tfk.preprocessing.image.ImageDataGenerator(\n",
    "                                        rescale=1/255.,\n",
    "                                        validation_split=0.2)\n",
    "\n",
    "train_gen = aug_train_data_gen.flow_from_directory(directory=dataset_dir,\n",
    "                                               target_size=image_size,\n",
    "                                               color_mode='rgb',\n",
    "                                               class_mode='categorical',\n",
    "                                               batch_size=8,\n",
    "                                               shuffle=True,\n",
    "                                               seed=seed,\n",
    "                                               subset='training')\n",
    "\n",
    "validation_gen = aug_validation_data_gen.flow_from_directory(directory=dataset_dir,\n",
    "                                               target_size=image_size,\n",
    "                                               color_mode='rgb',\n",
    "                                               class_mode='categorical',\n",
    "                                               batch_size=8,\n",
    "                                               shuffle=True,\n",
    "                                               seed=seed,\n",
    "                                               subset='validation')"
   ]
  },
  {
   "cell_type": "code",
   "execution_count": 6,
   "id": "4e641951",
   "metadata": {
    "execution": {
     "iopub.execute_input": "2022-11-11T15:40:14.497102Z",
     "iopub.status.busy": "2022-11-11T15:40:14.496158Z",
     "iopub.status.idle": "2022-11-11T15:40:14.504501Z",
     "shell.execute_reply": "2022-11-11T15:40:14.503260Z"
    },
    "id": "VwQXMCcucdTX",
    "outputId": "7c8b8f95-1881-47c3-be2e-64fb0be83283",
    "papermill": {
     "duration": 0.016269,
     "end_time": "2022-11-11T15:40:14.507216",
     "exception": false,
     "start_time": "2022-11-11T15:40:14.490947",
     "status": "completed"
    },
    "tags": []
   },
   "outputs": [
    {
     "name": "stdout",
     "output_type": "stream",
     "text": [
      "Assigned labels\n",
      "{'Species1': 0, 'Species2': 1, 'Species3': 2, 'Species4': 3, 'Species5': 4, 'Species6': 5, 'Species7': 6, 'Species8': 7}\n",
      "\n",
      "Target classes\n",
      "[0 0 0 ... 7 7 7]\n"
     ]
    }
   ],
   "source": [
    "print(\"Assigned labels\")\n",
    "print(train_gen.class_indices)\n",
    "print()\n",
    "print(\"Target classes\")\n",
    "print(train_gen.classes)\n",
    "num_classes = train_gen.num_classes"
   ]
  },
  {
   "cell_type": "markdown",
   "id": "864435ea",
   "metadata": {
    "id": "Y8rIMCwKU4dP",
    "papermill": {
     "duration": 0.004185,
     "end_time": "2022-11-11T15:40:14.516011",
     "exception": false,
     "start_time": "2022-11-11T15:40:14.511826",
     "status": "completed"
    },
    "tags": []
   },
   "source": [
    "# Load pre-trained model for transfer learning"
   ]
  },
  {
   "cell_type": "markdown",
   "id": "2ea2fd9a",
   "metadata": {
    "id": "XTOSJFcihcFj",
    "papermill": {
     "duration": 0.004426,
     "end_time": "2022-11-11T15:40:14.524709",
     "exception": false,
     "start_time": "2022-11-11T15:40:14.520283",
     "status": "completed"
    },
    "tags": []
   },
   "source": [
    "We can fine tune this with different pretrained models"
   ]
  },
  {
   "cell_type": "code",
   "execution_count": 7,
   "id": "21a0e18e",
   "metadata": {
    "execution": {
     "iopub.execute_input": "2022-11-11T15:40:14.535258Z",
     "iopub.status.busy": "2022-11-11T15:40:14.534319Z",
     "iopub.status.idle": "2022-11-11T15:40:16.799079Z",
     "shell.execute_reply": "2022-11-11T15:40:16.797962Z"
    },
    "id": "cqetkyyIhbib",
    "outputId": "1cdf3224-c916-4ec9-ff22-908af2b79849",
    "papermill": {
     "duration": 2.273007,
     "end_time": "2022-11-11T15:40:16.801925",
     "exception": false,
     "start_time": "2022-11-11T15:40:14.528918",
     "status": "completed"
    },
    "tags": []
   },
   "outputs": [
    {
     "name": "stderr",
     "output_type": "stream",
     "text": [
      "2022-11-11 15:40:14.570362: I tensorflow/stream_executor/cuda/cuda_gpu_executor.cc:937] successful NUMA node read from SysFS had negative value (-1), but there must be at least one NUMA node, so returning NUMA node zero\n",
      "2022-11-11 15:40:14.571310: I tensorflow/stream_executor/cuda/cuda_gpu_executor.cc:937] successful NUMA node read from SysFS had negative value (-1), but there must be at least one NUMA node, so returning NUMA node zero\n",
      "2022-11-11 15:40:14.571985: I tensorflow/stream_executor/cuda/cuda_gpu_executor.cc:937] successful NUMA node read from SysFS had negative value (-1), but there must be at least one NUMA node, so returning NUMA node zero\n",
      "2022-11-11 15:40:14.572718: I tensorflow/stream_executor/cuda/cuda_gpu_executor.cc:937] successful NUMA node read from SysFS had negative value (-1), but there must be at least one NUMA node, so returning NUMA node zero\n",
      "2022-11-11 15:40:14.573383: I tensorflow/stream_executor/cuda/cuda_gpu_executor.cc:937] successful NUMA node read from SysFS had negative value (-1), but there must be at least one NUMA node, so returning NUMA node zero\n",
      "2022-11-11 15:40:14.573968: I tensorflow/core/common_runtime/gpu/gpu_device.cc:1510] Created device /job:localhost/replica:0/task:0/device:GPU:0 with 15401 MB memory:  -> device: 0, name: Tesla P100-PCIE-16GB, pci bus id: 0000:00:04.0, compute capability: 6.0\n"
     ]
    },
    {
     "name": "stdout",
     "output_type": "stream",
     "text": [
      "Downloading data from https://storage.googleapis.com/tensorflow/keras-applications/mobilenet_v2/mobilenet_v2_weights_tf_dim_ordering_tf_kernels_1.0_96_no_top.h5\n",
      "9412608/9406464 [==============================] - 0s 0us/step\n",
      "9420800/9406464 [==============================] - 0s 0us/step\n"
     ]
    }
   ],
   "source": [
    "# Create the base model from the pre-trained model MobileNet V3\n",
    "IMG_SHAPE = image_size + (3,)\n",
    "base_model = tf.keras.applications.MobileNetV2(input_shape=IMG_SHAPE,\n",
    "                                               include_top=False,\n",
    "                                               weights='imagenet')"
   ]
  },
  {
   "cell_type": "code",
   "execution_count": 8,
   "id": "c0cfe332",
   "metadata": {
    "execution": {
     "iopub.execute_input": "2022-11-11T15:40:16.820341Z",
     "iopub.status.busy": "2022-11-11T15:40:16.819819Z",
     "iopub.status.idle": "2022-11-11T15:40:16.861544Z",
     "shell.execute_reply": "2022-11-11T15:40:16.858508Z"
    },
    "id": "x8d_GkORhuYF",
    "outputId": "296aa58f-4c50-4016-e477-455afe101c4a",
    "papermill": {
     "duration": 0.054679,
     "end_time": "2022-11-11T15:40:16.864259",
     "exception": false,
     "start_time": "2022-11-11T15:40:16.809580",
     "status": "completed"
    },
    "tags": []
   },
   "outputs": [
    {
     "name": "stdout",
     "output_type": "stream",
     "text": [
      "Model: \"mobilenetv2_1.00_96\"\n",
      "__________________________________________________________________________________________________\n",
      "Layer (type)                    Output Shape         Param #     Connected to                     \n",
      "==================================================================================================\n",
      "input_1 (InputLayer)            [(None, 96, 96, 3)]  0                                            \n",
      "__________________________________________________________________________________________________\n",
      "Conv1 (Conv2D)                  (None, 48, 48, 32)   864         input_1[0][0]                    \n",
      "__________________________________________________________________________________________________\n",
      "bn_Conv1 (BatchNormalization)   (None, 48, 48, 32)   128         Conv1[0][0]                      \n",
      "__________________________________________________________________________________________________\n",
      "Conv1_relu (ReLU)               (None, 48, 48, 32)   0           bn_Conv1[0][0]                   \n",
      "__________________________________________________________________________________________________\n",
      "expanded_conv_depthwise (Depthw (None, 48, 48, 32)   288         Conv1_relu[0][0]                 \n",
      "__________________________________________________________________________________________________\n",
      "expanded_conv_depthwise_BN (Bat (None, 48, 48, 32)   128         expanded_conv_depthwise[0][0]    \n",
      "__________________________________________________________________________________________________\n",
      "expanded_conv_depthwise_relu (R (None, 48, 48, 32)   0           expanded_conv_depthwise_BN[0][0] \n",
      "__________________________________________________________________________________________________\n",
      "expanded_conv_project (Conv2D)  (None, 48, 48, 16)   512         expanded_conv_depthwise_relu[0][0\n",
      "__________________________________________________________________________________________________\n",
      "expanded_conv_project_BN (Batch (None, 48, 48, 16)   64          expanded_conv_project[0][0]      \n",
      "__________________________________________________________________________________________________\n",
      "block_1_expand (Conv2D)         (None, 48, 48, 96)   1536        expanded_conv_project_BN[0][0]   \n",
      "__________________________________________________________________________________________________\n",
      "block_1_expand_BN (BatchNormali (None, 48, 48, 96)   384         block_1_expand[0][0]             \n",
      "__________________________________________________________________________________________________\n",
      "block_1_expand_relu (ReLU)      (None, 48, 48, 96)   0           block_1_expand_BN[0][0]          \n",
      "__________________________________________________________________________________________________\n",
      "block_1_pad (ZeroPadding2D)     (None, 49, 49, 96)   0           block_1_expand_relu[0][0]        \n",
      "__________________________________________________________________________________________________\n",
      "block_1_depthwise (DepthwiseCon (None, 24, 24, 96)   864         block_1_pad[0][0]                \n",
      "__________________________________________________________________________________________________\n",
      "block_1_depthwise_BN (BatchNorm (None, 24, 24, 96)   384         block_1_depthwise[0][0]          \n",
      "__________________________________________________________________________________________________\n",
      "block_1_depthwise_relu (ReLU)   (None, 24, 24, 96)   0           block_1_depthwise_BN[0][0]       \n",
      "__________________________________________________________________________________________________\n",
      "block_1_project (Conv2D)        (None, 24, 24, 24)   2304        block_1_depthwise_relu[0][0]     \n",
      "__________________________________________________________________________________________________\n",
      "block_1_project_BN (BatchNormal (None, 24, 24, 24)   96          block_1_project[0][0]            \n",
      "__________________________________________________________________________________________________\n",
      "block_2_expand (Conv2D)         (None, 24, 24, 144)  3456        block_1_project_BN[0][0]         \n",
      "__________________________________________________________________________________________________\n",
      "block_2_expand_BN (BatchNormali (None, 24, 24, 144)  576         block_2_expand[0][0]             \n",
      "__________________________________________________________________________________________________\n",
      "block_2_expand_relu (ReLU)      (None, 24, 24, 144)  0           block_2_expand_BN[0][0]          \n",
      "__________________________________________________________________________________________________\n",
      "block_2_depthwise (DepthwiseCon (None, 24, 24, 144)  1296        block_2_expand_relu[0][0]        \n",
      "__________________________________________________________________________________________________\n",
      "block_2_depthwise_BN (BatchNorm (None, 24, 24, 144)  576         block_2_depthwise[0][0]          \n",
      "__________________________________________________________________________________________________\n",
      "block_2_depthwise_relu (ReLU)   (None, 24, 24, 144)  0           block_2_depthwise_BN[0][0]       \n",
      "__________________________________________________________________________________________________\n",
      "block_2_project (Conv2D)        (None, 24, 24, 24)   3456        block_2_depthwise_relu[0][0]     \n",
      "__________________________________________________________________________________________________\n",
      "block_2_project_BN (BatchNormal (None, 24, 24, 24)   96          block_2_project[0][0]            \n",
      "__________________________________________________________________________________________________\n",
      "block_2_add (Add)               (None, 24, 24, 24)   0           block_1_project_BN[0][0]         \n",
      "                                                                 block_2_project_BN[0][0]         \n",
      "__________________________________________________________________________________________________\n",
      "block_3_expand (Conv2D)         (None, 24, 24, 144)  3456        block_2_add[0][0]                \n",
      "__________________________________________________________________________________________________\n",
      "block_3_expand_BN (BatchNormali (None, 24, 24, 144)  576         block_3_expand[0][0]             \n",
      "__________________________________________________________________________________________________\n",
      "block_3_expand_relu (ReLU)      (None, 24, 24, 144)  0           block_3_expand_BN[0][0]          \n",
      "__________________________________________________________________________________________________\n",
      "block_3_pad (ZeroPadding2D)     (None, 25, 25, 144)  0           block_3_expand_relu[0][0]        \n",
      "__________________________________________________________________________________________________\n",
      "block_3_depthwise (DepthwiseCon (None, 12, 12, 144)  1296        block_3_pad[0][0]                \n",
      "__________________________________________________________________________________________________\n",
      "block_3_depthwise_BN (BatchNorm (None, 12, 12, 144)  576         block_3_depthwise[0][0]          \n",
      "__________________________________________________________________________________________________\n",
      "block_3_depthwise_relu (ReLU)   (None, 12, 12, 144)  0           block_3_depthwise_BN[0][0]       \n",
      "__________________________________________________________________________________________________\n",
      "block_3_project (Conv2D)        (None, 12, 12, 32)   4608        block_3_depthwise_relu[0][0]     \n",
      "__________________________________________________________________________________________________\n",
      "block_3_project_BN (BatchNormal (None, 12, 12, 32)   128         block_3_project[0][0]            \n",
      "__________________________________________________________________________________________________\n",
      "block_4_expand (Conv2D)         (None, 12, 12, 192)  6144        block_3_project_BN[0][0]         \n",
      "__________________________________________________________________________________________________\n",
      "block_4_expand_BN (BatchNormali (None, 12, 12, 192)  768         block_4_expand[0][0]             \n",
      "__________________________________________________________________________________________________\n",
      "block_4_expand_relu (ReLU)      (None, 12, 12, 192)  0           block_4_expand_BN[0][0]          \n",
      "__________________________________________________________________________________________________\n",
      "block_4_depthwise (DepthwiseCon (None, 12, 12, 192)  1728        block_4_expand_relu[0][0]        \n",
      "__________________________________________________________________________________________________\n",
      "block_4_depthwise_BN (BatchNorm (None, 12, 12, 192)  768         block_4_depthwise[0][0]          \n",
      "__________________________________________________________________________________________________\n",
      "block_4_depthwise_relu (ReLU)   (None, 12, 12, 192)  0           block_4_depthwise_BN[0][0]       \n",
      "__________________________________________________________________________________________________\n",
      "block_4_project (Conv2D)        (None, 12, 12, 32)   6144        block_4_depthwise_relu[0][0]     \n",
      "__________________________________________________________________________________________________\n",
      "block_4_project_BN (BatchNormal (None, 12, 12, 32)   128         block_4_project[0][0]            \n",
      "__________________________________________________________________________________________________\n",
      "block_4_add (Add)               (None, 12, 12, 32)   0           block_3_project_BN[0][0]         \n",
      "                                                                 block_4_project_BN[0][0]         \n",
      "__________________________________________________________________________________________________\n",
      "block_5_expand (Conv2D)         (None, 12, 12, 192)  6144        block_4_add[0][0]                \n",
      "__________________________________________________________________________________________________\n",
      "block_5_expand_BN (BatchNormali (None, 12, 12, 192)  768         block_5_expand[0][0]             \n",
      "__________________________________________________________________________________________________\n",
      "block_5_expand_relu (ReLU)      (None, 12, 12, 192)  0           block_5_expand_BN[0][0]          \n",
      "__________________________________________________________________________________________________\n",
      "block_5_depthwise (DepthwiseCon (None, 12, 12, 192)  1728        block_5_expand_relu[0][0]        \n",
      "__________________________________________________________________________________________________\n",
      "block_5_depthwise_BN (BatchNorm (None, 12, 12, 192)  768         block_5_depthwise[0][0]          \n",
      "__________________________________________________________________________________________________\n",
      "block_5_depthwise_relu (ReLU)   (None, 12, 12, 192)  0           block_5_depthwise_BN[0][0]       \n",
      "__________________________________________________________________________________________________\n",
      "block_5_project (Conv2D)        (None, 12, 12, 32)   6144        block_5_depthwise_relu[0][0]     \n",
      "__________________________________________________________________________________________________\n",
      "block_5_project_BN (BatchNormal (None, 12, 12, 32)   128         block_5_project[0][0]            \n",
      "__________________________________________________________________________________________________\n",
      "block_5_add (Add)               (None, 12, 12, 32)   0           block_4_add[0][0]                \n",
      "                                                                 block_5_project_BN[0][0]         \n",
      "__________________________________________________________________________________________________\n",
      "block_6_expand (Conv2D)         (None, 12, 12, 192)  6144        block_5_add[0][0]                \n",
      "__________________________________________________________________________________________________\n",
      "block_6_expand_BN (BatchNormali (None, 12, 12, 192)  768         block_6_expand[0][0]             \n",
      "__________________________________________________________________________________________________\n",
      "block_6_expand_relu (ReLU)      (None, 12, 12, 192)  0           block_6_expand_BN[0][0]          \n",
      "__________________________________________________________________________________________________\n",
      "block_6_pad (ZeroPadding2D)     (None, 13, 13, 192)  0           block_6_expand_relu[0][0]        \n",
      "__________________________________________________________________________________________________\n",
      "block_6_depthwise (DepthwiseCon (None, 6, 6, 192)    1728        block_6_pad[0][0]                \n",
      "__________________________________________________________________________________________________\n",
      "block_6_depthwise_BN (BatchNorm (None, 6, 6, 192)    768         block_6_depthwise[0][0]          \n",
      "__________________________________________________________________________________________________\n",
      "block_6_depthwise_relu (ReLU)   (None, 6, 6, 192)    0           block_6_depthwise_BN[0][0]       \n",
      "__________________________________________________________________________________________________\n",
      "block_6_project (Conv2D)        (None, 6, 6, 64)     12288       block_6_depthwise_relu[0][0]     \n",
      "__________________________________________________________________________________________________\n",
      "block_6_project_BN (BatchNormal (None, 6, 6, 64)     256         block_6_project[0][0]            \n",
      "__________________________________________________________________________________________________\n",
      "block_7_expand (Conv2D)         (None, 6, 6, 384)    24576       block_6_project_BN[0][0]         \n",
      "__________________________________________________________________________________________________\n",
      "block_7_expand_BN (BatchNormali (None, 6, 6, 384)    1536        block_7_expand[0][0]             \n",
      "__________________________________________________________________________________________________\n",
      "block_7_expand_relu (ReLU)      (None, 6, 6, 384)    0           block_7_expand_BN[0][0]          \n",
      "__________________________________________________________________________________________________\n",
      "block_7_depthwise (DepthwiseCon (None, 6, 6, 384)    3456        block_7_expand_relu[0][0]        \n",
      "__________________________________________________________________________________________________\n",
      "block_7_depthwise_BN (BatchNorm (None, 6, 6, 384)    1536        block_7_depthwise[0][0]          \n",
      "__________________________________________________________________________________________________\n",
      "block_7_depthwise_relu (ReLU)   (None, 6, 6, 384)    0           block_7_depthwise_BN[0][0]       \n",
      "__________________________________________________________________________________________________\n",
      "block_7_project (Conv2D)        (None, 6, 6, 64)     24576       block_7_depthwise_relu[0][0]     \n",
      "__________________________________________________________________________________________________\n",
      "block_7_project_BN (BatchNormal (None, 6, 6, 64)     256         block_7_project[0][0]            \n",
      "__________________________________________________________________________________________________\n",
      "block_7_add (Add)               (None, 6, 6, 64)     0           block_6_project_BN[0][0]         \n",
      "                                                                 block_7_project_BN[0][0]         \n",
      "__________________________________________________________________________________________________\n",
      "block_8_expand (Conv2D)         (None, 6, 6, 384)    24576       block_7_add[0][0]                \n",
      "__________________________________________________________________________________________________\n",
      "block_8_expand_BN (BatchNormali (None, 6, 6, 384)    1536        block_8_expand[0][0]             \n",
      "__________________________________________________________________________________________________\n",
      "block_8_expand_relu (ReLU)      (None, 6, 6, 384)    0           block_8_expand_BN[0][0]          \n",
      "__________________________________________________________________________________________________\n",
      "block_8_depthwise (DepthwiseCon (None, 6, 6, 384)    3456        block_8_expand_relu[0][0]        \n",
      "__________________________________________________________________________________________________\n",
      "block_8_depthwise_BN (BatchNorm (None, 6, 6, 384)    1536        block_8_depthwise[0][0]          \n",
      "__________________________________________________________________________________________________\n",
      "block_8_depthwise_relu (ReLU)   (None, 6, 6, 384)    0           block_8_depthwise_BN[0][0]       \n",
      "__________________________________________________________________________________________________\n",
      "block_8_project (Conv2D)        (None, 6, 6, 64)     24576       block_8_depthwise_relu[0][0]     \n",
      "__________________________________________________________________________________________________\n",
      "block_8_project_BN (BatchNormal (None, 6, 6, 64)     256         block_8_project[0][0]            \n",
      "__________________________________________________________________________________________________\n",
      "block_8_add (Add)               (None, 6, 6, 64)     0           block_7_add[0][0]                \n",
      "                                                                 block_8_project_BN[0][0]         \n",
      "__________________________________________________________________________________________________\n",
      "block_9_expand (Conv2D)         (None, 6, 6, 384)    24576       block_8_add[0][0]                \n",
      "__________________________________________________________________________________________________\n",
      "block_9_expand_BN (BatchNormali (None, 6, 6, 384)    1536        block_9_expand[0][0]             \n",
      "__________________________________________________________________________________________________\n",
      "block_9_expand_relu (ReLU)      (None, 6, 6, 384)    0           block_9_expand_BN[0][0]          \n",
      "__________________________________________________________________________________________________\n",
      "block_9_depthwise (DepthwiseCon (None, 6, 6, 384)    3456        block_9_expand_relu[0][0]        \n",
      "__________________________________________________________________________________________________\n",
      "block_9_depthwise_BN (BatchNorm (None, 6, 6, 384)    1536        block_9_depthwise[0][0]          \n",
      "__________________________________________________________________________________________________\n",
      "block_9_depthwise_relu (ReLU)   (None, 6, 6, 384)    0           block_9_depthwise_BN[0][0]       \n",
      "__________________________________________________________________________________________________\n",
      "block_9_project (Conv2D)        (None, 6, 6, 64)     24576       block_9_depthwise_relu[0][0]     \n",
      "__________________________________________________________________________________________________\n",
      "block_9_project_BN (BatchNormal (None, 6, 6, 64)     256         block_9_project[0][0]            \n",
      "__________________________________________________________________________________________________\n",
      "block_9_add (Add)               (None, 6, 6, 64)     0           block_8_add[0][0]                \n",
      "                                                                 block_9_project_BN[0][0]         \n",
      "__________________________________________________________________________________________________\n",
      "block_10_expand (Conv2D)        (None, 6, 6, 384)    24576       block_9_add[0][0]                \n",
      "__________________________________________________________________________________________________\n",
      "block_10_expand_BN (BatchNormal (None, 6, 6, 384)    1536        block_10_expand[0][0]            \n",
      "__________________________________________________________________________________________________\n",
      "block_10_expand_relu (ReLU)     (None, 6, 6, 384)    0           block_10_expand_BN[0][0]         \n",
      "__________________________________________________________________________________________________\n",
      "block_10_depthwise (DepthwiseCo (None, 6, 6, 384)    3456        block_10_expand_relu[0][0]       \n",
      "__________________________________________________________________________________________________\n",
      "block_10_depthwise_BN (BatchNor (None, 6, 6, 384)    1536        block_10_depthwise[0][0]         \n",
      "__________________________________________________________________________________________________\n",
      "block_10_depthwise_relu (ReLU)  (None, 6, 6, 384)    0           block_10_depthwise_BN[0][0]      \n",
      "__________________________________________________________________________________________________\n",
      "block_10_project (Conv2D)       (None, 6, 6, 96)     36864       block_10_depthwise_relu[0][0]    \n",
      "__________________________________________________________________________________________________\n",
      "block_10_project_BN (BatchNorma (None, 6, 6, 96)     384         block_10_project[0][0]           \n",
      "__________________________________________________________________________________________________\n",
      "block_11_expand (Conv2D)        (None, 6, 6, 576)    55296       block_10_project_BN[0][0]        \n",
      "__________________________________________________________________________________________________\n",
      "block_11_expand_BN (BatchNormal (None, 6, 6, 576)    2304        block_11_expand[0][0]            \n",
      "__________________________________________________________________________________________________\n",
      "block_11_expand_relu (ReLU)     (None, 6, 6, 576)    0           block_11_expand_BN[0][0]         \n",
      "__________________________________________________________________________________________________\n",
      "block_11_depthwise (DepthwiseCo (None, 6, 6, 576)    5184        block_11_expand_relu[0][0]       \n",
      "__________________________________________________________________________________________________\n",
      "block_11_depthwise_BN (BatchNor (None, 6, 6, 576)    2304        block_11_depthwise[0][0]         \n",
      "__________________________________________________________________________________________________\n",
      "block_11_depthwise_relu (ReLU)  (None, 6, 6, 576)    0           block_11_depthwise_BN[0][0]      \n",
      "__________________________________________________________________________________________________\n",
      "block_11_project (Conv2D)       (None, 6, 6, 96)     55296       block_11_depthwise_relu[0][0]    \n",
      "__________________________________________________________________________________________________\n",
      "block_11_project_BN (BatchNorma (None, 6, 6, 96)     384         block_11_project[0][0]           \n",
      "__________________________________________________________________________________________________\n",
      "block_11_add (Add)              (None, 6, 6, 96)     0           block_10_project_BN[0][0]        \n",
      "                                                                 block_11_project_BN[0][0]        \n",
      "__________________________________________________________________________________________________\n",
      "block_12_expand (Conv2D)        (None, 6, 6, 576)    55296       block_11_add[0][0]               \n",
      "__________________________________________________________________________________________________\n",
      "block_12_expand_BN (BatchNormal (None, 6, 6, 576)    2304        block_12_expand[0][0]            \n",
      "__________________________________________________________________________________________________\n",
      "block_12_expand_relu (ReLU)     (None, 6, 6, 576)    0           block_12_expand_BN[0][0]         \n",
      "__________________________________________________________________________________________________\n",
      "block_12_depthwise (DepthwiseCo (None, 6, 6, 576)    5184        block_12_expand_relu[0][0]       \n",
      "__________________________________________________________________________________________________\n",
      "block_12_depthwise_BN (BatchNor (None, 6, 6, 576)    2304        block_12_depthwise[0][0]         \n",
      "__________________________________________________________________________________________________\n",
      "block_12_depthwise_relu (ReLU)  (None, 6, 6, 576)    0           block_12_depthwise_BN[0][0]      \n",
      "__________________________________________________________________________________________________\n",
      "block_12_project (Conv2D)       (None, 6, 6, 96)     55296       block_12_depthwise_relu[0][0]    \n",
      "__________________________________________________________________________________________________\n",
      "block_12_project_BN (BatchNorma (None, 6, 6, 96)     384         block_12_project[0][0]           \n",
      "__________________________________________________________________________________________________\n",
      "block_12_add (Add)              (None, 6, 6, 96)     0           block_11_add[0][0]               \n",
      "                                                                 block_12_project_BN[0][0]        \n",
      "__________________________________________________________________________________________________\n",
      "block_13_expand (Conv2D)        (None, 6, 6, 576)    55296       block_12_add[0][0]               \n",
      "__________________________________________________________________________________________________\n",
      "block_13_expand_BN (BatchNormal (None, 6, 6, 576)    2304        block_13_expand[0][0]            \n",
      "__________________________________________________________________________________________________\n",
      "block_13_expand_relu (ReLU)     (None, 6, 6, 576)    0           block_13_expand_BN[0][0]         \n",
      "__________________________________________________________________________________________________\n",
      "block_13_pad (ZeroPadding2D)    (None, 7, 7, 576)    0           block_13_expand_relu[0][0]       \n",
      "__________________________________________________________________________________________________\n",
      "block_13_depthwise (DepthwiseCo (None, 3, 3, 576)    5184        block_13_pad[0][0]               \n",
      "__________________________________________________________________________________________________\n",
      "block_13_depthwise_BN (BatchNor (None, 3, 3, 576)    2304        block_13_depthwise[0][0]         \n",
      "__________________________________________________________________________________________________\n",
      "block_13_depthwise_relu (ReLU)  (None, 3, 3, 576)    0           block_13_depthwise_BN[0][0]      \n",
      "__________________________________________________________________________________________________\n",
      "block_13_project (Conv2D)       (None, 3, 3, 160)    92160       block_13_depthwise_relu[0][0]    \n",
      "__________________________________________________________________________________________________\n",
      "block_13_project_BN (BatchNorma (None, 3, 3, 160)    640         block_13_project[0][0]           \n",
      "__________________________________________________________________________________________________\n",
      "block_14_expand (Conv2D)        (None, 3, 3, 960)    153600      block_13_project_BN[0][0]        \n",
      "__________________________________________________________________________________________________\n",
      "block_14_expand_BN (BatchNormal (None, 3, 3, 960)    3840        block_14_expand[0][0]            \n",
      "__________________________________________________________________________________________________\n",
      "block_14_expand_relu (ReLU)     (None, 3, 3, 960)    0           block_14_expand_BN[0][0]         \n",
      "__________________________________________________________________________________________________\n",
      "block_14_depthwise (DepthwiseCo (None, 3, 3, 960)    8640        block_14_expand_relu[0][0]       \n",
      "__________________________________________________________________________________________________\n",
      "block_14_depthwise_BN (BatchNor (None, 3, 3, 960)    3840        block_14_depthwise[0][0]         \n",
      "__________________________________________________________________________________________________\n",
      "block_14_depthwise_relu (ReLU)  (None, 3, 3, 960)    0           block_14_depthwise_BN[0][0]      \n",
      "__________________________________________________________________________________________________\n",
      "block_14_project (Conv2D)       (None, 3, 3, 160)    153600      block_14_depthwise_relu[0][0]    \n",
      "__________________________________________________________________________________________________\n",
      "block_14_project_BN (BatchNorma (None, 3, 3, 160)    640         block_14_project[0][0]           \n",
      "__________________________________________________________________________________________________\n",
      "block_14_add (Add)              (None, 3, 3, 160)    0           block_13_project_BN[0][0]        \n",
      "                                                                 block_14_project_BN[0][0]        \n",
      "__________________________________________________________________________________________________\n",
      "block_15_expand (Conv2D)        (None, 3, 3, 960)    153600      block_14_add[0][0]               \n",
      "__________________________________________________________________________________________________\n",
      "block_15_expand_BN (BatchNormal (None, 3, 3, 960)    3840        block_15_expand[0][0]            \n",
      "__________________________________________________________________________________________________\n",
      "block_15_expand_relu (ReLU)     (None, 3, 3, 960)    0           block_15_expand_BN[0][0]         \n",
      "__________________________________________________________________________________________________\n",
      "block_15_depthwise (DepthwiseCo (None, 3, 3, 960)    8640        block_15_expand_relu[0][0]       \n",
      "__________________________________________________________________________________________________\n",
      "block_15_depthwise_BN (BatchNor (None, 3, 3, 960)    3840        block_15_depthwise[0][0]         \n",
      "__________________________________________________________________________________________________\n",
      "block_15_depthwise_relu (ReLU)  (None, 3, 3, 960)    0           block_15_depthwise_BN[0][0]      \n",
      "__________________________________________________________________________________________________\n",
      "block_15_project (Conv2D)       (None, 3, 3, 160)    153600      block_15_depthwise_relu[0][0]    \n",
      "__________________________________________________________________________________________________\n",
      "block_15_project_BN (BatchNorma (None, 3, 3, 160)    640         block_15_project[0][0]           \n",
      "__________________________________________________________________________________________________\n",
      "block_15_add (Add)              (None, 3, 3, 160)    0           block_14_add[0][0]               \n",
      "                                                                 block_15_project_BN[0][0]        \n",
      "__________________________________________________________________________________________________\n",
      "block_16_expand (Conv2D)        (None, 3, 3, 960)    153600      block_15_add[0][0]               \n",
      "__________________________________________________________________________________________________\n",
      "block_16_expand_BN (BatchNormal (None, 3, 3, 960)    3840        block_16_expand[0][0]            \n",
      "__________________________________________________________________________________________________\n",
      "block_16_expand_relu (ReLU)     (None, 3, 3, 960)    0           block_16_expand_BN[0][0]         \n",
      "__________________________________________________________________________________________________\n",
      "block_16_depthwise (DepthwiseCo (None, 3, 3, 960)    8640        block_16_expand_relu[0][0]       \n",
      "__________________________________________________________________________________________________\n",
      "block_16_depthwise_BN (BatchNor (None, 3, 3, 960)    3840        block_16_depthwise[0][0]         \n",
      "__________________________________________________________________________________________________\n",
      "block_16_depthwise_relu (ReLU)  (None, 3, 3, 960)    0           block_16_depthwise_BN[0][0]      \n",
      "__________________________________________________________________________________________________\n",
      "block_16_project (Conv2D)       (None, 3, 3, 320)    307200      block_16_depthwise_relu[0][0]    \n",
      "__________________________________________________________________________________________________\n",
      "block_16_project_BN (BatchNorma (None, 3, 3, 320)    1280        block_16_project[0][0]           \n",
      "__________________________________________________________________________________________________\n",
      "Conv_1 (Conv2D)                 (None, 3, 3, 1280)   409600      block_16_project_BN[0][0]        \n",
      "__________________________________________________________________________________________________\n",
      "Conv_1_bn (BatchNormalization)  (None, 3, 3, 1280)   5120        Conv_1[0][0]                     \n",
      "__________________________________________________________________________________________________\n",
      "out_relu (ReLU)                 (None, 3, 3, 1280)   0           Conv_1_bn[0][0]                  \n",
      "==================================================================================================\n",
      "Total params: 2,257,984\n",
      "Trainable params: 2,223,872\n",
      "Non-trainable params: 34,112\n",
      "__________________________________________________________________________________________________\n"
     ]
    }
   ],
   "source": [
    "base_model.summary()"
   ]
  },
  {
   "cell_type": "code",
   "execution_count": 9,
   "id": "80dc3cf8",
   "metadata": {
    "execution": {
     "iopub.execute_input": "2022-11-11T15:40:16.884758Z",
     "iopub.status.busy": "2022-11-11T15:40:16.884262Z",
     "iopub.status.idle": "2022-11-11T15:40:16.896073Z",
     "shell.execute_reply": "2022-11-11T15:40:16.894926Z"
    },
    "id": "SWz_Z-i-k4Yf",
    "papermill": {
     "duration": 0.02484,
     "end_time": "2022-11-11T15:40:16.899478",
     "exception": false,
     "start_time": "2022-11-11T15:40:16.874638",
     "status": "completed"
    },
    "tags": []
   },
   "outputs": [],
   "source": [
    "def build_model(input_shape, output_classes, learning_rate=0.001, freeze=True):\n",
    "\n",
    "    # Build the neural network layer by layer\n",
    "    input_layer = tfkl.Input(shape=input_shape, name='input_layer')\n",
    "\n",
    "    # Freeze the base model\n",
    "    if(freeze):\n",
    "      base_model.trainable = False\n",
    "    else:\n",
    "      base_model.trainable = True\n",
    "    # We need training=False for the BatchNormalization layer\n",
    "    feature_extractor = base_model(input_layer , training=not freeze)\n",
    "\n",
    "    x = tfkl.GlobalAveragePooling2D()(feature_extractor)\n",
    "    x = tfkl.Dropout(0.2)(x)\n",
    "    x = tfkl.Dense(units=256, activation='relu', kernel_initializer=tfk.initializers.GlorotUniform(seed), name='hidden_layer_1')(x)\n",
    "    x = tfkl.Dropout(0.2)(x)\n",
    "    output_layer = tfkl.Dense(units=output_classes, activation='softmax', kernel_initializer=tfk.initializers.GlorotUniform(seed), name='output_layer')(x)\n",
    "\n",
    "    # Connect input and output through the Model class\n",
    "    model = tfk.Model(inputs=input_layer, outputs=output_layer, name='model')\n",
    "\n",
    "    # Compile the model\n",
    "    model.compile(loss=tfk.losses.CategoricalCrossentropy(), optimizer=tfk.optimizers.Adam(learning_rate=learning_rate), metrics='accuracy')\n",
    "\n",
    "    # Return the model\n",
    "    return model"
   ]
  },
  {
   "cell_type": "code",
   "execution_count": 10,
   "id": "df2d6224",
   "metadata": {
    "execution": {
     "iopub.execute_input": "2022-11-11T15:40:16.931704Z",
     "iopub.status.busy": "2022-11-11T15:40:16.931216Z",
     "iopub.status.idle": "2022-11-11T15:40:17.468308Z",
     "shell.execute_reply": "2022-11-11T15:40:17.466296Z"
    },
    "id": "JGTZTZr6mXJZ",
    "outputId": "95f1b5a7-8aae-45cd-f554-b4663689f6f6",
    "papermill": {
     "duration": 0.555308,
     "end_time": "2022-11-11T15:40:17.473994",
     "exception": false,
     "start_time": "2022-11-11T15:40:16.918686",
     "status": "completed"
    },
    "tags": []
   },
   "outputs": [
    {
     "name": "stdout",
     "output_type": "stream",
     "text": [
      "Model: \"model\"\n",
      "_________________________________________________________________\n",
      "Layer (type)                 Output Shape              Param #   \n",
      "=================================================================\n",
      "input_layer (InputLayer)     [(None, 96, 96, 3)]       0         \n",
      "_________________________________________________________________\n",
      "mobilenetv2_1.00_96 (Functio (None, 3, 3, 1280)        2257984   \n",
      "_________________________________________________________________\n",
      "global_average_pooling2d (Gl (None, 1280)              0         \n",
      "_________________________________________________________________\n",
      "dropout (Dropout)            (None, 1280)              0         \n",
      "_________________________________________________________________\n",
      "hidden_layer_1 (Dense)       (None, 256)               327936    \n",
      "_________________________________________________________________\n",
      "dropout_1 (Dropout)          (None, 256)               0         \n",
      "_________________________________________________________________\n",
      "output_layer (Dense)         (None, 8)                 2056      \n",
      "=================================================================\n",
      "Total params: 2,587,976\n",
      "Trainable params: 329,992\n",
      "Non-trainable params: 2,257,984\n",
      "_________________________________________________________________\n"
     ]
    }
   ],
   "source": [
    "model = build_model(IMG_SHAPE, num_classes, learning_rate=0.005)\n",
    "model.summary()"
   ]
  },
  {
   "cell_type": "code",
   "execution_count": 11,
   "id": "60585971",
   "metadata": {
    "execution": {
     "iopub.execute_input": "2022-11-11T15:40:17.496049Z",
     "iopub.status.busy": "2022-11-11T15:40:17.495566Z",
     "iopub.status.idle": "2022-11-11T15:52:26.811773Z",
     "shell.execute_reply": "2022-11-11T15:52:26.810740Z"
    },
    "id": "ILYzCGDom-P3",
    "outputId": "c9ee507b-7489-4e70-f0fc-d98792344c3b",
    "papermill": {
     "duration": 729.330535,
     "end_time": "2022-11-11T15:52:26.813972",
     "exception": false,
     "start_time": "2022-11-11T15:40:17.483437",
     "status": "completed"
    },
    "tags": []
   },
   "outputs": [
    {
     "name": "stderr",
     "output_type": "stream",
     "text": [
      "2022-11-11 15:40:17.773668: I tensorflow/compiler/mlir/mlir_graph_optimization_pass.cc:185] None of the MLIR Optimization Passes are enabled (registered 2)\n"
     ]
    },
    {
     "name": "stdout",
     "output_type": "stream",
     "text": [
      "Epoch 1/50\n"
     ]
    },
    {
     "name": "stderr",
     "output_type": "stream",
     "text": [
      "2022-11-11 15:40:21.443433: I tensorflow/stream_executor/cuda/cuda_dnn.cc:369] Loaded cuDNN version 8005\n"
     ]
    },
    {
     "name": "stdout",
     "output_type": "stream",
     "text": [
      "355/355 [==============================] - 34s 69ms/step - loss: 1.7279 - accuracy: 0.4030 - val_loss: 1.2729 - val_accuracy: 0.5198\n",
      "Epoch 2/50\n",
      "355/355 [==============================] - 13s 36ms/step - loss: 1.4236 - accuracy: 0.4679 - val_loss: 1.3004 - val_accuracy: 0.5042\n",
      "Epoch 3/50\n",
      "355/355 [==============================] - 15s 41ms/step - loss: 1.3935 - accuracy: 0.4961 - val_loss: 1.2391 - val_accuracy: 0.5552\n",
      "Epoch 4/50\n",
      "355/355 [==============================] - 18s 49ms/step - loss: 1.3995 - accuracy: 0.4933 - val_loss: 1.2937 - val_accuracy: 0.5283\n",
      "Epoch 5/50\n",
      "355/355 [==============================] - 13s 36ms/step - loss: 1.3552 - accuracy: 0.4996 - val_loss: 1.2025 - val_accuracy: 0.5552\n",
      "Epoch 6/50\n",
      "355/355 [==============================] - 20s 56ms/step - loss: 1.3727 - accuracy: 0.5046 - val_loss: 1.1816 - val_accuracy: 0.5822\n",
      "Epoch 7/50\n",
      "355/355 [==============================] - 13s 36ms/step - loss: 1.3587 - accuracy: 0.5257 - val_loss: 1.3262 - val_accuracy: 0.5297\n",
      "Epoch 8/50\n",
      "355/355 [==============================] - 17s 49ms/step - loss: 1.3559 - accuracy: 0.5243 - val_loss: 1.1637 - val_accuracy: 0.5793\n",
      "Epoch 9/50\n",
      "355/355 [==============================] - 13s 38ms/step - loss: 1.3458 - accuracy: 0.5123 - val_loss: 1.2639 - val_accuracy: 0.5482\n",
      "Epoch 10/50\n",
      "355/355 [==============================] - 13s 36ms/step - loss: 1.4136 - accuracy: 0.4803 - val_loss: 1.2739 - val_accuracy: 0.5609\n",
      "Epoch 11/50\n",
      "355/355 [==============================] - 14s 39ms/step - loss: 1.3420 - accuracy: 0.5159 - val_loss: 1.1754 - val_accuracy: 0.5793\n",
      "Epoch 12/50\n",
      "355/355 [==============================] - 12s 35ms/step - loss: 1.3255 - accuracy: 0.5300 - val_loss: 1.3084 - val_accuracy: 0.5609\n",
      "Epoch 13/50\n",
      "355/355 [==============================] - 13s 35ms/step - loss: 1.3523 - accuracy: 0.5113 - val_loss: 1.2993 - val_accuracy: 0.5382\n",
      "Epoch 14/50\n",
      "355/355 [==============================] - 13s 38ms/step - loss: 1.3264 - accuracy: 0.5360 - val_loss: 1.2214 - val_accuracy: 0.5708\n",
      "Epoch 15/50\n",
      "355/355 [==============================] - 13s 36ms/step - loss: 1.3538 - accuracy: 0.5190 - val_loss: 1.1615 - val_accuracy: 0.6119\n",
      "Epoch 16/50\n",
      "355/355 [==============================] - 14s 38ms/step - loss: 1.3380 - accuracy: 0.5339 - val_loss: 1.2078 - val_accuracy: 0.5892\n",
      "Epoch 17/50\n",
      "355/355 [==============================] - 13s 36ms/step - loss: 1.3345 - accuracy: 0.5236 - val_loss: 1.1921 - val_accuracy: 0.5892\n",
      "Epoch 18/50\n",
      "355/355 [==============================] - 13s 36ms/step - loss: 1.3504 - accuracy: 0.5134 - val_loss: 1.1923 - val_accuracy: 0.5694\n",
      "Epoch 19/50\n",
      "355/355 [==============================] - 13s 37ms/step - loss: 1.3326 - accuracy: 0.5120 - val_loss: 1.1592 - val_accuracy: 0.5737\n",
      "Epoch 20/50\n",
      "355/355 [==============================] - 13s 35ms/step - loss: 1.3384 - accuracy: 0.5095 - val_loss: 1.1549 - val_accuracy: 0.5836\n",
      "Epoch 21/50\n",
      "355/355 [==============================] - 13s 38ms/step - loss: 1.3485 - accuracy: 0.5155 - val_loss: 1.1680 - val_accuracy: 0.5935\n",
      "Epoch 22/50\n",
      "355/355 [==============================] - 13s 36ms/step - loss: 1.3136 - accuracy: 0.5148 - val_loss: 1.3015 - val_accuracy: 0.5864\n",
      "Epoch 23/50\n",
      "355/355 [==============================] - 14s 39ms/step - loss: 1.3295 - accuracy: 0.5268 - val_loss: 1.1442 - val_accuracy: 0.6048\n",
      "Epoch 24/50\n",
      "355/355 [==============================] - 13s 36ms/step - loss: 1.3084 - accuracy: 0.5289 - val_loss: 1.3086 - val_accuracy: 0.5312\n",
      "Epoch 25/50\n",
      "355/355 [==============================] - 13s 38ms/step - loss: 1.2929 - accuracy: 0.5388 - val_loss: 1.1542 - val_accuracy: 0.6091\n",
      "Epoch 26/50\n",
      "355/355 [==============================] - 13s 36ms/step - loss: 1.3441 - accuracy: 0.5229 - val_loss: 1.1868 - val_accuracy: 0.5397\n",
      "Epoch 27/50\n",
      "355/355 [==============================] - 13s 36ms/step - loss: 1.3155 - accuracy: 0.5286 - val_loss: 1.1426 - val_accuracy: 0.6147\n",
      "Epoch 28/50\n",
      "355/355 [==============================] - 13s 37ms/step - loss: 1.3391 - accuracy: 0.5282 - val_loss: 1.2937 - val_accuracy: 0.5467\n",
      "Epoch 29/50\n",
      "355/355 [==============================] - 13s 37ms/step - loss: 1.3490 - accuracy: 0.5229 - val_loss: 1.1890 - val_accuracy: 0.5977\n",
      "Epoch 30/50\n",
      "355/355 [==============================] - 13s 38ms/step - loss: 1.3161 - accuracy: 0.5321 - val_loss: 1.2282 - val_accuracy: 0.5510\n",
      "Epoch 31/50\n",
      "355/355 [==============================] - 13s 36ms/step - loss: 1.3494 - accuracy: 0.5081 - val_loss: 1.1411 - val_accuracy: 0.5850\n",
      "Epoch 32/50\n",
      "355/355 [==============================] - 13s 36ms/step - loss: 1.3165 - accuracy: 0.5307 - val_loss: 1.2536 - val_accuracy: 0.5312\n",
      "Epoch 33/50\n",
      "355/355 [==============================] - 13s 38ms/step - loss: 1.3230 - accuracy: 0.5183 - val_loss: 1.2288 - val_accuracy: 0.5708\n",
      "Epoch 34/50\n",
      "355/355 [==============================] - 13s 36ms/step - loss: 1.3121 - accuracy: 0.5342 - val_loss: 1.2778 - val_accuracy: 0.5439\n",
      "Epoch 35/50\n",
      "355/355 [==============================] - 14s 38ms/step - loss: 1.3223 - accuracy: 0.5176 - val_loss: 1.2271 - val_accuracy: 0.5397\n",
      "Epoch 36/50\n",
      "355/355 [==============================] - 13s 38ms/step - loss: 1.3189 - accuracy: 0.5081 - val_loss: 1.2129 - val_accuracy: 0.5850\n",
      "Epoch 37/50\n",
      "355/355 [==============================] - 13s 36ms/step - loss: 1.3107 - accuracy: 0.5215 - val_loss: 1.1978 - val_accuracy: 0.5878\n",
      "Epoch 38/50\n",
      "355/355 [==============================] - 13s 37ms/step - loss: 1.3344 - accuracy: 0.5194 - val_loss: 1.2280 - val_accuracy: 0.5680\n",
      "Epoch 39/50\n",
      "355/355 [==============================] - 13s 36ms/step - loss: 1.3212 - accuracy: 0.5353 - val_loss: 1.1894 - val_accuracy: 0.5892\n",
      "Epoch 40/50\n",
      "355/355 [==============================] - 13s 35ms/step - loss: 1.3175 - accuracy: 0.5250 - val_loss: 1.3362 - val_accuracy: 0.5411\n",
      "Epoch 41/50\n",
      "355/355 [==============================] - 13s 37ms/step - loss: 1.3208 - accuracy: 0.5279 - val_loss: 1.2632 - val_accuracy: 0.5708\n",
      "Epoch 42/50\n",
      "355/355 [==============================] - 13s 35ms/step - loss: 1.3045 - accuracy: 0.5370 - val_loss: 1.1951 - val_accuracy: 0.5751\n",
      "Epoch 43/50\n",
      "355/355 [==============================] - 13s 37ms/step - loss: 1.2945 - accuracy: 0.5388 - val_loss: 1.1640 - val_accuracy: 0.5963\n",
      "Epoch 44/50\n",
      "355/355 [==============================] - 13s 36ms/step - loss: 1.3102 - accuracy: 0.5300 - val_loss: 1.2290 - val_accuracy: 0.5453\n",
      "Epoch 45/50\n",
      "355/355 [==============================] - 13s 37ms/step - loss: 1.3155 - accuracy: 0.5264 - val_loss: 1.3172 - val_accuracy: 0.5000\n",
      "Epoch 46/50\n",
      "355/355 [==============================] - 12s 34ms/step - loss: 1.2984 - accuracy: 0.5353 - val_loss: 1.2000 - val_accuracy: 0.5567\n",
      "Epoch 47/50\n",
      "355/355 [==============================] - 12s 33ms/step - loss: 1.3014 - accuracy: 0.5356 - val_loss: 1.2073 - val_accuracy: 0.5737\n",
      "Epoch 48/50\n",
      "355/355 [==============================] - 13s 36ms/step - loss: 1.3071 - accuracy: 0.5243 - val_loss: 1.1637 - val_accuracy: 0.5892\n",
      "Epoch 49/50\n",
      "355/355 [==============================] - 12s 33ms/step - loss: 1.3082 - accuracy: 0.5430 - val_loss: 1.2055 - val_accuracy: 0.5793\n",
      "Epoch 50/50\n",
      "355/355 [==============================] - 13s 35ms/step - loss: 1.3004 - accuracy: 0.5406 - val_loss: 1.3054 - val_accuracy: 0.5340\n"
     ]
    }
   ],
   "source": [
    "history = model.fit(\n",
    "        x = train_gen,\n",
    "        epochs = 50,\n",
    "        validation_data = validation_gen\n",
    "    ).history"
   ]
  },
  {
   "cell_type": "code",
   "execution_count": 12,
   "id": "18fbb141",
   "metadata": {
    "execution": {
     "iopub.execute_input": "2022-11-11T15:52:27.858536Z",
     "iopub.status.busy": "2022-11-11T15:52:27.858141Z",
     "iopub.status.idle": "2022-11-11T15:52:52.021083Z",
     "shell.execute_reply": "2022-11-11T15:52:52.020081Z"
    },
    "id": "FVXe7ijkWmud",
    "papermill": {
     "duration": 24.702584,
     "end_time": "2022-11-11T15:52:52.023796",
     "exception": false,
     "start_time": "2022-11-11T15:52:27.321212",
     "status": "completed"
    },
    "tags": []
   },
   "outputs": [
    {
     "name": "stderr",
     "output_type": "stream",
     "text": [
      "2022-11-11 15:52:37.308690: W tensorflow/python/util/util.cc:348] Sets are not currently considered sequences, but this may change in the future, so consider avoiding using them.\n",
      "/opt/conda/lib/python3.7/site-packages/keras/utils/generic_utils.py:497: CustomMaskWarning: Custom mask layers require a config and must override get_config. When loading, the custom mask layer must be passed to the custom_objects argument.\n",
      "  category=CustomMaskWarning)\n"
     ]
    }
   ],
   "source": [
    "model.save(\"./models/test\")"
   ]
  }
 ],
 "metadata": {
  "kernelspec": {
   "display_name": "Python 3",
   "language": "python",
   "name": "python3"
  },
  "language_info": {
   "codemirror_mode": {
    "name": "ipython",
    "version": 3
   },
   "file_extension": ".py",
   "mimetype": "text/x-python",
   "name": "python",
   "nbconvert_exporter": "python",
   "pygments_lexer": "ipython3",
   "version": "3.7.12"
  },
  "papermill": {
   "default_parameters": {},
   "duration": 779.773094,
   "end_time": "2022-11-11T15:52:55.873488",
   "environment_variables": {},
   "exception": null,
   "input_path": "__notebook__.ipynb",
   "output_path": "__notebook__.ipynb",
   "parameters": {},
   "start_time": "2022-11-11T15:39:56.100394",
   "version": "2.3.4"
  }
 },
 "nbformat": 4,
 "nbformat_minor": 5
}
